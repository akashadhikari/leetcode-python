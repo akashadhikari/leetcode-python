{
 "cells": [
  {
   "cell_type": "markdown",
   "metadata": {},
   "source": [
    "## 001) Merging Meeting Times"
   ]
  },
  {
   "cell_type": "code",
   "execution_count": 32,
   "metadata": {},
   "outputs": [
    {
     "data": {
      "text/plain": [
       "[(0, 1), (3, 8), (9, 12)]"
      ]
     },
     "execution_count": 32,
     "metadata": {},
     "output_type": "execute_result"
    }
   ],
   "source": [
    "def merge_ranges(meetings):\n",
    "\n",
    "    # Sort by start time\n",
    "    sorted_meetings = sorted(meetings)\n",
    "\n",
    "    # Initialize merged_meetings with the earliest meeting\n",
    "    merged_meetings = [sorted_meetings[0]]\n",
    "\n",
    "    for current_meeting_start, current_meeting_end in sorted_meetings[1:]:\n",
    "        last_merged_meeting_start, last_merged_meeting_end = merged_meetings[-1]\n",
    "\n",
    "        # If the current meeting overlaps with the last merged meeting, use the\n",
    "        # later end time of the two\n",
    "        if (current_meeting_start <= last_merged_meeting_end):\n",
    "            merged_meetings[-1] = (last_merged_meeting_start,\n",
    "                                   max(last_merged_meeting_end,current_meeting_end))\n",
    "        else:\n",
    "            # Add the current meeting since it doesn't overlap\n",
    "            merged_meetings.append((current_meeting_start, current_meeting_end))\n",
    "\n",
    "    return merged_meetings\n",
    "\n",
    "merge_ranges([(0, 1), (3, 5), (4, 8), (10, 12), (9, 10)])"
   ]
  },
  {
   "cell_type": "markdown",
   "metadata": {},
   "source": [
    "## 002) Reverse String in Place"
   ]
  },
  {
   "cell_type": "code",
   "execution_count": 3,
   "metadata": {},
   "outputs": [
    {
     "data": {
      "text/plain": [
       "['d', 'n', 'b', 'a']"
      ]
     },
     "execution_count": 3,
     "metadata": {},
     "output_type": "execute_result"
    }
   ],
   "source": [
    "def reverse(list_of_chars):\n",
    "\n",
    "    left_index  = 0\n",
    "    right_index = len(list_of_chars) - 1\n",
    "\n",
    "    while left_index < right_index:\n",
    "        # Swap characters\n",
    "        list_of_chars[left_index], list_of_chars[right_index] = \\\n",
    "            list_of_chars[right_index], list_of_chars[left_index]\n",
    "        # Move towards middle\n",
    "        left_index  += 1\n",
    "        right_index -= 1\n",
    "    return list_of_chars\n",
    "\n",
    "reverse(['a','b','n','d'])"
   ]
  },
  {
   "cell_type": "code",
   "execution_count": null,
   "metadata": {},
   "outputs": [],
   "source": []
  }
 ],
 "metadata": {
  "kernelspec": {
   "display_name": "Python 3",
   "language": "python",
   "name": "python3"
  },
  "language_info": {
   "codemirror_mode": {
    "name": "ipython",
    "version": 3
   },
   "file_extension": ".py",
   "mimetype": "text/x-python",
   "name": "python",
   "nbconvert_exporter": "python",
   "pygments_lexer": "ipython3",
   "version": "3.7.6"
  }
 },
 "nbformat": 4,
 "nbformat_minor": 4
}
