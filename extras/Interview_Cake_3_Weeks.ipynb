{
 "cells": [
  {
   "cell_type": "markdown",
   "metadata": {},
   "source": [
    "## 001) Your company built an in-house calendar tool called HiCal. You want to add a feature to see the times in a day when everyone is available.\n",
    "\n",
    "To do this, you’ll need to know when any team is having a meeting. In HiCal, a meeting is stored as a tuple ↴ of integers `(start_time, end_time)`. These integers represent the number of 30-minute blocks past 9:00am.\n",
    "\n",
    "For example:\n",
    "```\n",
    "(2, 3)  # Meeting from 10:00 – 10:30 am\n",
    "(6, 9)  # Meeting from 12:00 – 1:30 pm\n",
    "```\n",
    "Write a function `merge_ranges()` that takes a list of multiple meeting time ranges and returns a list of condensed ranges.\n",
    "\n",
    "For example, given:\n",
    "```\n",
    "[(0, 1), (3, 5), (4, 8), (10, 12), (9, 10)]\n",
    "```\n",
    "your function would return:\n",
    "```\n",
    "[(0, 1), (3, 8), (9, 12)]\n",
    "```\n",
    "**Do not assume the meetings are in order.** The meeting times are coming from multiple teams.\n",
    "\n",
    "**Write a solution that's efficient even when we can't put a nice upper bound on the numbers representing our time ranges.** Here we've simplified our times down to the number of 30-minute slots past 9:00 am. But we want the function to work even for very large numbers, like Unix timestamps. In any case, the spirit of the challenge is to merge meetings where start_time and end_time don't have an upper bound."
   ]
  },
  {
   "cell_type": "markdown",
   "metadata": {},
   "source": [
    "### Solution\n",
    "First, we sort our input list of meetings by start time so any meetings that might need to be merged are now next to each other.\n",
    "\n",
    "Then we walk through our sorted meetings from left to right. At each step, either:\n",
    "\n",
    "- We can merge the current meeting with the previous one, so we do.\n",
    "- We can't merge the current meeting with the previous one, so we know the previous meeting can't be merged with any future meetings and we throw the current meeting into merged_meetings."
   ]
  },
  {
   "cell_type": "code",
   "execution_count": 32,
   "metadata": {},
   "outputs": [
    {
     "data": {
      "text/plain": [
       "[(0, 1), (3, 8), (9, 12)]"
      ]
     },
     "execution_count": 32,
     "metadata": {},
     "output_type": "execute_result"
    }
   ],
   "source": [
    "def merge_ranges(meetings):\n",
    "\n",
    "    # Sort by start time\n",
    "    sorted_meetings = sorted(meetings)\n",
    "\n",
    "    # Initialize merged_meetings with the earliest meeting\n",
    "    merged_meetings = [sorted_meetings[0]]\n",
    "\n",
    "    for current_meeting_start, current_meeting_end in sorted_meetings[1:]:\n",
    "        last_merged_meeting_start, last_merged_meeting_end = merged_meetings[-1]\n",
    "\n",
    "        # If the current meeting overlaps with the last merged meeting, use the\n",
    "        # later end time of the two\n",
    "        if (current_meeting_start <= last_merged_meeting_end):\n",
    "            merged_meetings[-1] = (last_merged_meeting_start,\n",
    "                                   max(last_merged_meeting_end,current_meeting_end))\n",
    "        else:\n",
    "            # Add the current meeting since it doesn't overlap\n",
    "            merged_meetings.append((current_meeting_start, current_meeting_end))\n",
    "\n",
    "    return merged_meetings\n",
    "\n",
    "merge_ranges([(0, 1), (3, 5), (4, 8), (10, 12), (9, 10)])"
   ]
  },
  {
   "cell_type": "markdown",
   "metadata": {},
   "source": [
    "**Complexity**  \n",
    "`O(nlogn)` time and `O(n)` space.\n",
    "\n",
    "Even though we only walk through our list of meetings once to merge them, we sort all the meetings first, giving us a runtime of `O(nlgn)`. It's worth noting that if our input were sorted, we could skip the sort and do this in `O(n)` time!\n",
    "\n",
    "We create a new list of merged meeting times. In the worst case, none of the meetings overlap, giving us a list identical to the input list. Thus we have a worst-case space cost of `O(n)`.\n",
    "\n",
    "**What We Learned**  \n",
    "This one arguably uses a greedy approach as well, except this time we had to sort the list first.\n",
    "\n",
    "How did we figure that out?\n",
    "\n",
    "We started off trying to solve the problem in one pass, and we noticed that it wouldn't work. We then noticed the reason it wouldn't work: to see if a given meeting can be merged, we have to look at all the other meetings! That's because the order of the meetings is random.\n",
    "\n",
    "That's what got us thinking: what if the list were sorted? We saw that then a greedy approach would work. We had to spend `O(nlogn)` time on sorting the list, but it was better than our initial brute force approach, which cost us `O(n^2)` time!"
   ]
  },
  {
   "cell_type": "code",
   "execution_count": null,
   "metadata": {},
   "outputs": [],
   "source": []
  }
 ],
 "metadata": {
  "kernelspec": {
   "display_name": "Python 3",
   "language": "python",
   "name": "python3"
  },
  "language_info": {
   "codemirror_mode": {
    "name": "ipython",
    "version": 3
   },
   "file_extension": ".py",
   "mimetype": "text/x-python",
   "name": "python",
   "nbconvert_exporter": "python",
   "pygments_lexer": "ipython3",
   "version": "3.7.6"
  }
 },
 "nbformat": 4,
 "nbformat_minor": 4
}
