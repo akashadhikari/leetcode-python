{
 "cells": [
  {
   "cell_type": "markdown",
   "metadata": {},
   "source": [
    "# Leetcode Solutions in Python\n",
    "From \"easy\" to \"advance\" algorithm problems based on descending percentage of acceptance on [Leetcode](https://leetcode.com/problemset/algorithms/).  "
   ]
  },
  {
   "cell_type": "markdown",
   "metadata": {},
   "source": [
    "## 1480) Running Sum of 1d Array\n",
    "\n",
    "Given an array `nums`. We define a running sum of an array as `runningSum[i] = sum(nums[0]…nums[i])`.\n",
    "\n",
    "Return the running sum of `nums`.\n",
    "\n",
    "\n",
    "**Example 1:**\n",
    "```\n",
    "Input: nums = [1,2,3,4]\n",
    "Output: [1,3,6,10]\n",
    "Explanation: Running sum is obtained as follows: [1, 1+2, 1+2+3, 1+2+3+4].\n",
    "```\n",
    "**Example 2:**\n",
    "```\n",
    "Input: nums = [1,1,1,1,1]\n",
    "Output: [1,2,3,4,5]\n",
    "Explanation: Running sum is obtained as follows: [1, 1+1, 1+1+1, 1+1+1+1, 1+1+1+1+1].\n",
    "```\n",
    "**Example 3:**\n",
    "```\n",
    "Input: nums = [3,1,2,10,1]\n",
    "Output: [3,4,6,16,17]\n",
    "``` \n",
    "\n",
    "**Constraints:**\n",
    "```\n",
    "1 <= nums.length <= 1000\n",
    "-10^6 <= nums[i] <= 10^6\n",
    "```"
   ]
  },
  {
   "cell_type": "code",
   "execution_count": 6,
   "metadata": {},
   "outputs": [
    {
     "name": "stdout",
     "output_type": "stream",
     "text": [
      "[3, 4, 6, 16, 17]\n"
     ]
    }
   ],
   "source": [
    "class Solution(object):\n",
    "    def runningSum(self, nums):\n",
    "        \"\"\"\n",
    "        :type nums: List[int]\n",
    "        :rtype: List[int]\n",
    "        \"\"\"\n",
    "        t = 0\n",
    "        li = []\n",
    "        for i in range(0, len(nums)):\n",
    "            t = t+nums[i]\n",
    "            li.append(t)\n",
    "        return li\n",
    "\n",
    "x = Solution()\n",
    "print(x.runningSum([3,1,2,10,1]))"
   ]
  },
  {
   "cell_type": "markdown",
   "metadata": {},
   "source": [
    "## 1108) Defanging an IP Address\n",
    "Given a valid (IPv4) IP `address`, return a defanged version of that IP address.\n",
    "\n",
    "A defanged IP address replaces every period `\".\"` with `\"[.]\"`.\n",
    "\n",
    " \n",
    "\n",
    "**Example 1:**\n",
    "```\n",
    "Input: address = \"1.1.1.1\"\n",
    "Output: \"1[.]1[.]1[.]1\"\n",
    "```\n",
    "**Example 2:**\n",
    "```\n",
    "Input: address = \"255.100.50.0\"\n",
    "Output: \"255[.]100[.]50[.]0\"\n",
    "```\n",
    "\n",
    "**Constraints:**\n",
    "\n",
    "The given `address` is a valid IPv4 address."
   ]
  },
  {
   "cell_type": "code",
   "execution_count": 2,
   "metadata": {},
   "outputs": [
    {
     "name": "stdout",
     "output_type": "stream",
     "text": [
      "255[.]100[.]50[.]0\n"
     ]
    }
   ],
   "source": [
    "class Solution(object):\n",
    "    def defangIPaddr(self, address: str):\n",
    "        \"\"\"\n",
    "        :type address: str\n",
    "        :rtype: str\n",
    "        \"\"\"\n",
    "        return address.replace(\".\", \"[.]\")\n",
    "\n",
    "o = Solution()\n",
    "print(o.defangIPaddr(\"255.100.50.0\"))"
   ]
  },
  {
   "cell_type": "markdown",
   "metadata": {},
   "source": [
    "## 1431) Kids With the Greatest Number of Candies\n",
    "Given the array `candies` and the integer `extraCandies`, where `candies[i]` represents the number of candies that the ith kid has.\n",
    "\n",
    "For each kid check if there is a way to distribute `extraCandies` among the kids such that he or she can have the greatest number of candies among them. Notice that multiple kids can have the greatest number of candies.\n",
    "\n",
    " \n",
    "\n",
    "**Example 1:**\n",
    "```\n",
    "Input: candies = [2,3,5,1,3], extraCandies = 3\n",
    "Output: [true,true,true,false,true] \n",
    "Explanation: \n",
    "Kid 1 has 2 candies and if he or she receives all extra candies (3) will have 5 candies --- the greatest number of candies among the kids. \n",
    "Kid 2 has 3 candies and if he or she receives at least 2 extra candies will have the greatest number of candies among the kids. \n",
    "Kid 3 has 5 candies and this is already the greatest number of candies among the kids. \n",
    "Kid 4 has 1 candy and even if he or she receives all extra candies will only have 4 candies. \n",
    "Kid 5 has 3 candies and if he or she receives at least 2 extra candies will have the greatest number of candies among the kids.\n",
    "```\n",
    "**Example 2:**\n",
    "```\n",
    "Input: candies = [4,2,1,1,2], extraCandies = 1\n",
    "Output: [true,false,false,false,false] \n",
    "Explanation: There is only 1 extra candy, therefore only kid 1 will have the greatest number of candies among the kids regardless of who takes the extra candy.\n",
    "```\n",
    "**Example 3:**\n",
    "```\n",
    "Input: candies = [12,1,12], extraCandies = 10\n",
    "Output: [true,false,true]\n",
    "```\n",
    " \n",
    "\n",
    "**Constraints:**\n",
    "```\n",
    "2 <= candies.length <= 100\n",
    "1 <= candies[i] <= 100\n",
    "1 <= extraCandies <= 50\n",
    "```"
   ]
  },
  {
   "cell_type": "code",
   "execution_count": 3,
   "metadata": {},
   "outputs": [
    {
     "name": "stdout",
     "output_type": "stream",
     "text": [
      "[True, True, True, False, True]\n"
     ]
    }
   ],
   "source": [
    "class Solution(object):\n",
    "    def kidsWithCandies(self, candies, extraCandies):\n",
    "        \"\"\"\n",
    "        :type candies: List[int]\n",
    "        :type extraCandies: int\n",
    "        :rtype: List[bool]\n",
    "        \"\"\"\n",
    "        li = []\n",
    "        for each in range(0, len(candies)):\n",
    "            if candies[each]+extraCandies >= max(candies):\n",
    "                li.append(True)\n",
    "            else:\n",
    "                li.append(False)\n",
    "        return li\n",
    "\n",
    "o = Solution()\n",
    "print(o.kidsWithCandies([2,3,5,1,3], 3))"
   ]
  },
  {
   "cell_type": "markdown",
   "metadata": {},
   "source": [
    "## 1672) Running Sum of 1d Array\n",
    "You are given an `m x n` integer grid `accounts` where `accounts[i][j]` is the amount of money the `ith` customer has in the `jth` bank. Return the wealth that the richest customer has.\n",
    "\n",
    "A customer's wealth is the amount of money they have in all their bank accounts. The richest customer is the customer that has the maximum wealth.\n",
    "\n",
    " \n",
    "\n",
    "**Example 1:**\n",
    "```\n",
    "Input: accounts = [[1,2,3],[3,2,1]]\n",
    "Output: 6\n",
    "Explanation:\n",
    "1st customer has wealth = 1 + 2 + 3 = 6\n",
    "2nd customer has wealth = 3 + 2 + 1 = 6\n",
    "Both customers are considered the richest with a wealth of 6 each, so return 6.\n",
    "```\n",
    "**Example 2:**\n",
    "```\n",
    "Input: accounts = [[1,5],[7,3],[3,5]]\n",
    "Output: 10\n",
    "Explanation: \n",
    "1st customer has wealth = 6\n",
    "2nd customer has wealth = 10 \n",
    "3rd customer has wealth = 8\n",
    "The 2nd customer is the richest with a wealth of 10.\n",
    "```\n",
    "**Example 3:**\n",
    "```\n",
    "Input: accounts = [[2,8,7],[7,1,3],[1,9,5]]\n",
    "Output: 17\n",
    "```\n",
    "\n",
    "**Constraints:**\n",
    "```\n",
    "m == accounts.length\n",
    "n == accounts[i].length\n",
    "1 <= m, n <= 50\n",
    "1 <= accounts[i][j] <= 100\n",
    "```"
   ]
  },
  {
   "cell_type": "code",
   "execution_count": 4,
   "metadata": {},
   "outputs": [
    {
     "name": "stdout",
     "output_type": "stream",
     "text": [
      "10\n"
     ]
    }
   ],
   "source": [
    "class Solution(object):\n",
    "    def maximumWealth(self, accounts):\n",
    "        \"\"\"\n",
    "        :type accounts: List[List[int]]\n",
    "        :rtype: int\n",
    "        \"\"\"\n",
    "        li = []\n",
    "        for i in range(0, len(accounts)):\n",
    "            li.append(sum(accounts[i]))\n",
    "        return max(li)\n",
    "\n",
    "o = Solution()\n",
    "print(o.maximumWealth([[1,5],[7,3],[3,5]]))"
   ]
  },
  {
   "cell_type": "markdown",
   "metadata": {},
   "source": [
    "## 1470) Shuffle the Array\n",
    "Given the array `nums` consisting of `2n` elements in the form `[x1,x2,...,xn,y1,y2,...,yn]`.\n",
    "\n",
    "Return the array in the form `[x1,y1,x2,y2,...,xn,yn]`.\n",
    "\n",
    " \n",
    "\n",
    "Example 1:\n",
    "```\n",
    "Input: nums = [2,5,1,3,4,7], n = 3\n",
    "Output: [2,3,5,4,1,7] \n",
    "Explanation: Since x1=2, x2=5, x3=1, y1=3, y2=4, y3=7 then the answer is [2,3,5,4,1,7].\n",
    "```\n",
    "Example 2:\n",
    "```\n",
    "Input: nums = [1,2,3,4,4,3,2,1], n = 4\n",
    "Output: [1,4,2,3,3,2,4,1]\n",
    "```\n",
    "Example 3:\n",
    "```\n",
    "Input: nums = [1,1,2,2], n = 2\n",
    "Output: [1,2,1,2]\n",
    "```\n",
    "\n",
    "Constraints:\n",
    "```\n",
    "1 <= n <= 500\n",
    "nums.length == 2n\n",
    "1 <= nums[i] <= 10^3\n",
    "```"
   ]
  },
  {
   "cell_type": "code",
   "execution_count": 5,
   "metadata": {},
   "outputs": [
    {
     "name": "stdout",
     "output_type": "stream",
     "text": [
      "[1, 4, 2, 3, 3, 2, 4, 1]\n"
     ]
    }
   ],
   "source": [
    "class Solution(object):\n",
    "    def shuffle(self, nums, n):\n",
    "        \"\"\"\n",
    "        :type nums: List[int]\n",
    "        :type n: int\n",
    "        :rtype: List[int]\n",
    "        \"\"\"\n",
    "        length = 2*n\n",
    "        li = []\n",
    "        for i in range(0, length):\n",
    "            if i%2 == 0:\n",
    "                li.append(nums[int(i/2)])\n",
    "            else:\n",
    "                li.append(nums[n])\n",
    "                n = n+1\n",
    "                \n",
    "        return li\n",
    "\n",
    "o = Solution()\n",
    "print(o.shuffle([1,2,3,4,4,3,2,1], 4))"
   ]
  },
  {
   "cell_type": "markdown",
   "metadata": {},
   "source": [
    "## 1512) Number of Good Pairs\n",
    "Given an array of integers nums.\n",
    "\n",
    "A pair `(i,j)` is called good if `nums[i] == nums[j]` and `i < j`.\n",
    "\n",
    "Return the number of good pairs.\n",
    "\n",
    " \n",
    "\n",
    "Example 1:\n",
    "```\n",
    "Input: nums = [1,2,3,1,1,3]\n",
    "Output: 4\n",
    "Explanation: There are 4 good pairs (0,3), (0,4), (3,4), (2,5) 0-indexed.\n",
    "```\n",
    "Example 2:\n",
    "```\n",
    "Input: nums = [1,1,1,1]\n",
    "Output: 6\n",
    "Explanation: Each pair in the array are good.\n",
    "```\n",
    "Example 3:\n",
    "```\n",
    "Input: nums = [1,2,3]\n",
    "Output: 0\n",
    "```\n",
    "\n",
    "Constraints:\n",
    "```\n",
    "1 <= nums.length <= 100\n",
    "1 <= nums[i] <= 100\n",
    "```"
   ]
  },
  {
   "cell_type": "code",
   "execution_count": 6,
   "metadata": {},
   "outputs": [
    {
     "name": "stdout",
     "output_type": "stream",
     "text": [
      "6\n"
     ]
    }
   ],
   "source": [
    "class Solution(object):\n",
    "    def numIdenticalPairs(self, nums):\n",
    "        \"\"\"\n",
    "        :type nums: List[int]\n",
    "        :rtype: int\n",
    "        \"\"\"\n",
    "        c = 0\n",
    "        for i in range(0, len(nums)):\n",
    "            for j in range(0, i):\n",
    "                if nums[i] == nums[j]:\n",
    "                    c = c+1\n",
    "        return c\n",
    "                    \n",
    "\n",
    "o = Solution()\n",
    "print(o.numIdenticalPairs([1,1,1,1]))"
   ]
  },
  {
   "cell_type": "markdown",
   "metadata": {},
   "source": [
    "## 1769) Minimum Number of Operations to Move All Balls to Each Box\n",
    "You have `n` boxes. You are given a binary string boxes of length `n`, where `boxes[i]` is `'0'` if the `ith` box is empty, and `'1'` if it contains one ball.\n",
    "\n",
    "In one operation, you can move one ball from a box to an adjacent box. Box `i` is adjacent to box `j` if `abs(i - j) == 1`. Note that after doing so, there may be more than one ball in some boxes.\n",
    "\n",
    "Return an array answer of size `n`, where `answer[i]` is the minimum number of operations needed to move all the balls to the `ith` box.\n",
    "\n",
    "Each `answer[i]` is calculated considering the initial state of the boxes.\n",
    "\n",
    " \n",
    "\n",
    "Example 1:\n",
    "```\n",
    "Input: boxes = \"110\"\n",
    "Output: [1,1,3]\n",
    "Explanation: The answer for each box is as follows:\n",
    "1) First box: you will have to move one ball from the second box to the first box in one operation.\n",
    "2) Second box: you will have to move one ball from the first box to the second box in one operation.\n",
    "3) Third box: you will have to move one ball from the first box to the third box in two operations, and move one ball from the second box to the third box in one operation.\n",
    "```\n",
    "Example 2:\n",
    "```\n",
    "Input: boxes = \"001011\"\n",
    "Output: [11,8,5,4,3,4]\n",
    "```\n",
    "\n",
    "Constraints:\n",
    "```\n",
    "n == boxes.length\n",
    "1 <= n <= 2000\n",
    "boxes[i] is either '0' or '1'.\n",
    "```"
   ]
  },
  {
   "cell_type": "code",
   "execution_count": 7,
   "metadata": {},
   "outputs": [
    {
     "data": {
      "text/plain": [
       "[11, 8, 5, 4, 3, 4]"
      ]
     },
     "execution_count": 7,
     "metadata": {},
     "output_type": "execute_result"
    }
   ],
   "source": [
    "class Solution(object):\n",
    "    def minOperations(self, boxes):\n",
    "        \"\"\"\n",
    "        :type boxes: str\n",
    "        :rtype: List[int]\n",
    "        \"\"\"\n",
    "        answer = []\n",
    "        for i in range(0, len(boxes)):\n",
    "            diff = 0\n",
    "            for j in range(0, len(boxes)):\n",
    "                if boxes[j] == '1':\n",
    "                    diff = diff+abs(i-j)\n",
    "            answer.append(diff)\n",
    "        return answer\n",
    "\n",
    "\n",
    "o = Solution()\n",
    "o.minOperations(\"001011\")"
   ]
  },
  {
   "cell_type": "markdown",
   "metadata": {},
   "source": [
    "## 771) Jewels and Stones\n",
    "\n",
    "You're given strings `jewels` representing the types of stones that are jewels, and `stones` representing the stones you have. Each character in `stones` is a type of stone you have. You want to know how many of the stones you have are also jewels.\n",
    "\n",
    "Letters are case sensitive, so `\"a\"` is considered a different type of stone from `\"A\"`.\n",
    "\n",
    " \n",
    "\n",
    "Example 1:\n",
    "```\n",
    "Input: jewels = \"aA\", stones = \"aAAbbbb\"\n",
    "Output: 3\n",
    "```\n",
    "Example 2:\n",
    "```\n",
    "Input: jewels = \"z\", stones = \"ZZ\"\n",
    "Output: 0\n",
    "```\n",
    "\n",
    "Constraints:\n",
    "```\n",
    "1 <= jewels.length, stones.length <= 50\n",
    "jewels and stones consist of only English letters.\n",
    "All the characters of jewels are unique.\n",
    "```"
   ]
  },
  {
   "cell_type": "code",
   "execution_count": 8,
   "metadata": {},
   "outputs": [
    {
     "data": {
      "text/plain": [
       "3"
      ]
     },
     "execution_count": 8,
     "metadata": {},
     "output_type": "execute_result"
    }
   ],
   "source": [
    "class Solution(object):\n",
    "    def numJewelsInStones(self, jewels, stones):\n",
    "        \"\"\"\n",
    "        :type jewels: str\n",
    "        :type stones: str\n",
    "        :rtype: int\n",
    "        \"\"\"\n",
    "        ct = 0\n",
    "        for each in jewels:\n",
    "            for x in stones:\n",
    "                if x==each:\n",
    "                    ct+=1\n",
    "        return ct\n",
    "\n",
    "o = Solution()\n",
    "o.numJewelsInStones('aA', 'aAAbbbb')"
   ]
  },
  {
   "cell_type": "markdown",
   "metadata": {},
   "source": [
    "## 1603) Design Parking System\n",
    "Design a parking system for a parking lot. The parking lot has three kinds of parking spaces: big, medium, and small, with a fixed number of slots for each size.\n",
    "\n",
    "Implement the `ParkingSystem` class:\n",
    "\n",
    "`ParkingSystem(int big, int medium, int small)` Initializes object of the `ParkingSystem` class. The number of slots for each parking space are given as part of the constructor.\n",
    "`bool addCar(int carType)` Checks whether there is a parking space of `carType` for the car that wants to get into the parking lot. `carType` can be of three kinds: big, medium, or small, which are represented by `1`, `2`, and `3` respectively. A car can only park in a parking space of its `carType`. If there is no space available, return `false`, else park the car in that size space and return `true`.\n",
    " \n",
    "\n",
    "Example 1:\n",
    "```\n",
    "Input\n",
    "[\"ParkingSystem\", \"addCar\", \"addCar\", \"addCar\", \"addCar\"]\n",
    "[[1, 1, 0], [1], [2], [3], [1]]\n",
    "Output\n",
    "[null, true, true, false, false]\n",
    "\n",
    "Explanation\n",
    "ParkingSystem parkingSystem = new ParkingSystem(1, 1, 0);\n",
    "parkingSystem.addCar(1); // return true because there is 1 available slot for a big car\n",
    "parkingSystem.addCar(2); // return true because there is 1 available slot for a medium car\n",
    "parkingSystem.addCar(3); // return false because there is no available slot for a small car\n",
    "parkingSystem.addCar(1); // return false because there is no available slot for a big car. It is already occupied.\n",
    "``` \n",
    "\n",
    "Constraints:\n",
    "```\n",
    "0 <= big, medium, small <= 1000\n",
    "carType is 1, 2, or 3\n",
    "At most 1000 calls will be made to addCar\n",
    "```"
   ]
  },
  {
   "cell_type": "code",
   "execution_count": 9,
   "metadata": {},
   "outputs": [],
   "source": [
    "class ParkingSystem(object):\n",
    "\n",
    "    def __init__(self, big, medium, small):\n",
    "        \"\"\"\n",
    "        :type big: int\n",
    "        :type medium: int\n",
    "        :type small: int\n",
    "        \"\"\"\n",
    "        self.big = big\n",
    "        self.medium = medium\n",
    "        self.small = small\n",
    "\n",
    "\n",
    "    def addCar(self, carType):\n",
    "        \"\"\"\n",
    "        :type carType: int\n",
    "        :rtype: bool\n",
    "        \"\"\"\n",
    "        if carType==1 and self.big > 0:\n",
    "            self.big -= 1\n",
    "            return True\n",
    "        elif carType==2 and self.medium > 0:\n",
    "            self.medium -= 1\n",
    "            return True\n",
    "        elif carType==3 and self.small > 0:\n",
    "            self.small -= 1\n",
    "            return True\n",
    "        else:\n",
    "            return False\n",
    "    \n",
    "o = ParkingSystem(1,1,0)\n",
    "c1 = o.addCar(1)\n",
    "c2 = o.addCar(1)\n",
    "c3 = o.addCar(2)\n",
    "c4 = o.addCar(2)\n",
    "c5 = o.addCar(3)\n",
    "\n",
    "# Your ParkingSystem object will be instantiated and called as such:\n",
    "# obj = ParkingSystem(big, medium, small)\n",
    "# param_1 = obj.addCar(carType)"
   ]
  },
  {
   "cell_type": "markdown",
   "metadata": {},
   "source": [
    "## 1365) How Many Numbers Are Smaller Than the Current Number\n",
    "Given the array `nums`, for each `nums[i]` find out how many numbers in the array are smaller than it. That is, for each `nums[i]` you have to count the number of valid `j's` such that `j != i` and `nums[j] < nums[i]`.\n",
    "\n",
    "Return the answer in an array.\n",
    "\n",
    " \n",
    "\n",
    "Example 1:\n",
    "```\n",
    "Input: nums = [8,1,2,2,3]\n",
    "Output: [4,0,1,1,3]\n",
    "Explanation: \n",
    "For nums[0]=8 there exist four smaller numbers than it (1, 2, 2 and 3). \n",
    "For nums[1]=1 does not exist any smaller number than it.\n",
    "For nums[2]=2 there exist one smaller number than it (1). \n",
    "For nums[3]=2 there exist one smaller number than it (1). \n",
    "For nums[4]=3 there exist three smaller numbers than it (1, 2 and 2).\n",
    "```\n",
    "Example 2:\n",
    "```\n",
    "Input: nums = [6,5,4,8]\n",
    "Output: [2,1,0,3]\n",
    "```\n",
    "Example 3:\n",
    "```\n",
    "Input: nums = [7,7,7,7]\n",
    "Output: [0,0,0,0]\n",
    "``` \n",
    "\n",
    "Constraints:\n",
    "```\n",
    "2 <= nums.length <= 500\n",
    "0 <= nums[i] <= 100\n",
    "```"
   ]
  },
  {
   "cell_type": "code",
   "execution_count": 10,
   "metadata": {},
   "outputs": [
    {
     "data": {
      "text/plain": [
       "[4, 0, 1, 1, 3]"
      ]
     },
     "execution_count": 10,
     "metadata": {},
     "output_type": "execute_result"
    }
   ],
   "source": [
    "class Solution(object):\n",
    "    def smallerNumbersThanCurrent(self, nums):\n",
    "        \"\"\"\n",
    "        :type nums: List[int]\n",
    "        :rtype: List[int]\n",
    "        \"\"\"\n",
    "        li = []\n",
    "        for x in range(0, len(nums)):\n",
    "            c = 0\n",
    "            for y in range(0, len(nums)):\n",
    "                if nums[x] > nums[y]:\n",
    "                    c+=1\n",
    "            li.append(c)\n",
    "        return li\n",
    "\n",
    "o = Solution()\n",
    "o.smallerNumbersThanCurrent([8,1,2,2,3])"
   ]
  },
  {
   "cell_type": "markdown",
   "metadata": {},
   "source": [
    "The above solution is a bit slow. We can implement it through sorting."
   ]
  },
  {
   "cell_type": "markdown",
   "metadata": {},
   "source": [
    "## 1342) Number of Steps to Reduce a Number to Zero\n",
    "Given a non-negative integer `num`, return the number of steps to reduce it to zero. If the current number is even, you have to divide it by 2, otherwise, you have to subtract 1 from it.\n",
    " \n",
    "\n",
    "Example 1:\n",
    "```\n",
    "Input: num = 14\n",
    "Output: 6\n",
    "Explanation: \n",
    "Step 1) 14 is even; divide by 2 and obtain 7. \n",
    "Step 2) 7 is odd; subtract 1 and obtain 6.\n",
    "Step 3) 6 is even; divide by 2 and obtain 3. \n",
    "Step 4) 3 is odd; subtract 1 and obtain 2. \n",
    "Step 5) 2 is even; divide by 2 and obtain 1. \n",
    "Step 6) 1 is odd; subtract 1 and obtain 0.\n",
    "```\n",
    "Example 2:\n",
    "```\n",
    "Input: num = 8\n",
    "Output: 4\n",
    "Explanation: \n",
    "Step 1) 8 is even; divide by 2 and obtain 4. \n",
    "Step 2) 4 is even; divide by 2 and obtain 2. \n",
    "Step 3) 2 is even; divide by 2 and obtain 1. \n",
    "Step 4) 1 is odd; subtract 1 and obtain 0.\n",
    "```\n",
    "Example 3:\n",
    "```\n",
    "Input: num = 123\n",
    "Output: 12\n",
    "```\n",
    "\n",
    "Constraints:\n",
    "```\n",
    "0 <= num <= 10^6\n",
    "```"
   ]
  },
  {
   "cell_type": "code",
   "execution_count": 11,
   "metadata": {},
   "outputs": [
    {
     "data": {
      "text/plain": [
       "6"
      ]
     },
     "execution_count": 11,
     "metadata": {},
     "output_type": "execute_result"
    }
   ],
   "source": [
    "class Solution(object):\n",
    "    def numberOfSteps (self, num):\n",
    "        \"\"\"\n",
    "        :type num: int\n",
    "        :rtype: int\n",
    "        \"\"\"\n",
    "        c = 0\n",
    "        while num!=0:\n",
    "            if num%2==0:\n",
    "                num/=2\n",
    "            else:\n",
    "                num-=1\n",
    "            c+=1\n",
    "        return c\n",
    "o = Solution()\n",
    "o.numberOfSteps(14)"
   ]
  },
  {
   "cell_type": "markdown",
   "metadata": {},
   "source": [
    "## 1528) Shuffle String\n",
    "Given a string `s` and an integer array `indices` of the same length.\n",
    "\n",
    "The string `s` will be shuffled such that the character at the `ith` position moves to `indices[i]` in the shuffled string.\n",
    "\n",
    "Return the shuffled string.\n",
    "\n",
    "\n",
    "Example 1:\n",
    "```\n",
    "Input: s = \"codeleet\", indices = [4,5,6,7,0,2,1,3]\n",
    "Output: \"leetcode\"\n",
    "Explanation: As shown, \"codeleet\" becomes \"leetcode\" after shuffling.\n",
    "```\n",
    "Example 2:\n",
    "```\n",
    "Input: s = \"abc\", indices = [0,1,2]\n",
    "Output: \"abc\"\n",
    "Explanation: After shuffling, each character remains in its position.\n",
    "```\n",
    "Example 3:\n",
    "```\n",
    "Input: s = \"aiohn\", indices = [3,1,4,2,0]\n",
    "Output: \"nihao\"\n",
    "```\n",
    "Example 4:\n",
    "```\n",
    "Input: s = \"aaiougrt\", indices = [4,0,2,6,7,3,1,5]\n",
    "Output: \"arigatou\"\n",
    "```\n",
    "Example 5:\n",
    "```\n",
    "Input: s = \"art\", indices = [1,0,2]\n",
    "Output: \"rat\"\n",
    "```\n",
    "\n",
    "Constraints:\n",
    "```\n",
    "s.length == indices.length == n\n",
    "1 <= n <= 100\n",
    "s contains only lower-case English letters.\n",
    "0 <= indices[i] < n\n",
    "All values of indices are unique (i.e. indices is a permutation of the integers from 0 to n - 1).\n",
    "```"
   ]
  },
  {
   "cell_type": "code",
   "execution_count": 47,
   "metadata": {},
   "outputs": [
    {
     "data": {
      "text/plain": [
       "'arigatou'"
      ]
     },
     "execution_count": 47,
     "metadata": {},
     "output_type": "execute_result"
    }
   ],
   "source": [
    "class Solution(object):\n",
    "    def restoreString(self, s, indices):\n",
    "        \"\"\"\n",
    "        :type s: str\n",
    "        :type indices: List[int]\n",
    "        :rtype: str\n",
    "        \"\"\"\n",
    "        dct = {}\n",
    "        counter = 0\n",
    "        for each in indices:\n",
    "            dct[each] = s[counter]\n",
    "            counter+=1\n",
    "        final_str = \"\"\n",
    "        for dct_key in range(0, counter):\n",
    "            final_str+=dct.get(dct_key)\n",
    "        return final_str\n",
    "o = Solution()\n",
    "o.restoreString(\"aaiougrt\", [4,0,2,6,7,3,1,5])"
   ]
  },
  {
   "cell_type": "markdown",
   "metadata": {},
   "source": [
    "## 1281) Subtract the Product and Sum of Digits of an Integer\n",
    "Given an integer number `n`, return the difference between the product of its digits and the sum of its digits.\n",
    " \n",
    "\n",
    "Example 1:\n",
    "```\n",
    "Input: n = 234\n",
    "Output: 15 \n",
    "Explanation: \n",
    "Product of digits = 2 * 3 * 4 = 24 \n",
    "Sum of digits = 2 + 3 + 4 = 9 \n",
    "Result = 24 - 9 = 15\n",
    "```\n",
    "Example 2:\n",
    "```\n",
    "Input: n = 4421\n",
    "Output: 21\n",
    "Explanation: \n",
    "Product of digits = 4 * 4 * 2 * 1 = 32 \n",
    "Sum of digits = 4 + 4 + 2 + 1 = 11 \n",
    "Result = 32 - 11 = 21\n",
    "```\n",
    "\n",
    "Constraints:\n",
    "```\n",
    "1 <= n <= 10^5\n",
    "```"
   ]
  },
  {
   "cell_type": "markdown",
   "metadata": {},
   "source": [
    "### Performance of the below solution:  \n",
    "Runtime: 12 ms (**Better than 92.40%**)  <span style=\"color:green\"> <b>Good</b></span>  \n",
    "Memory Usage: 13.5 MB (**Better than 39.88%**)"
   ]
  },
  {
   "cell_type": "code",
   "execution_count": 52,
   "metadata": {},
   "outputs": [
    {
     "data": {
      "text/plain": [
       "21"
      ]
     },
     "execution_count": 52,
     "metadata": {},
     "output_type": "execute_result"
    }
   ],
   "source": [
    "class Solution(object):\n",
    "    def subtractProductAndSum(self, n):\n",
    "        \"\"\"\n",
    "        :type n: int\n",
    "        :rtype: int\n",
    "        \"\"\"\n",
    "        mul=1\n",
    "        li=[]\n",
    "        for each in str(n):\n",
    "            li.append(int(each))\n",
    "            mul*=int(each)\n",
    "        addition = sum(li)\n",
    "\n",
    "        return mul-addition\n",
    "        \n",
    "o = Solution()\n",
    "o.subtractProductAndSum(4421)"
   ]
  },
  {
   "cell_type": "markdown",
   "metadata": {},
   "source": [
    "## 1313) Decompress Run-Length Encoded List\n",
    "We are given a list `nums` of integers representing a list compressed with run-length encoding.\n",
    "\n",
    "Consider each adjacent pair of elements `[freq, val] = [nums[2*i], nums[2*i+1]]` (with `i >= 0`).  For each such pair, there are `freq` elements with value `val` concatenated in a sublist. Concatenate all the sublists from left to right to generate the decompressed list.\n",
    "\n",
    "Return the decompressed list.\n",
    "\n",
    " \n",
    "\n",
    "Example 1:\n",
    "```\n",
    "Input: nums = [1,2,3,4]\n",
    "Output: [2,4,4,4]\n",
    "Explanation: The first pair [1,2] means we have freq = 1 and val = 2 so we generate the array [2].\n",
    "The second pair [3,4] means we have freq = 3 and val = 4 so we generate [4,4,4].\n",
    "At the end the concatenation [2] + [4,4,4] is [2,4,4,4].\n",
    "```\n",
    "Example 2:\n",
    "```\n",
    "Input: nums = [1,1,2,3]\n",
    "Output: [1,3,3]\n",
    "```\n",
    "\n",
    "Constraints:\n",
    "```\n",
    "2 <= nums.length <= 100\n",
    "nums.length % 2 == 0\n",
    "1 <= nums[i] <= 100\n",
    "```"
   ]
  },
  {
   "cell_type": "code",
   "execution_count": 28,
   "metadata": {},
   "outputs": [
    {
     "data": {
      "text/plain": [
       "[1, 3, 3]"
      ]
     },
     "execution_count": 28,
     "metadata": {},
     "output_type": "execute_result"
    }
   ],
   "source": [
    "from typing import List\n",
    "class Solution:\n",
    "    def decompressRLElist(self, nums: List[int]) -> List[int]:\n",
    "        li = []\n",
    "        for i in range(0, len(nums), 2):\n",
    "            li += [nums[i+1]]*nums[i]\n",
    "        return li\n",
    "o = Solution()\n",
    "o.decompressRLElist([1,1,2,3])"
   ]
  },
  {
   "cell_type": "markdown",
   "metadata": {},
   "source": [
    "## 1773) Count Items Matching a Rule\n",
    "You are given an array `items`, where each `items[i] = [typei, colori, namei]` describes the type, color, and name of the `ith` item. You are also given a rule represented by two strings, `ruleKey` and `ruleValue`.\n",
    "\n",
    "The `ith` item is said to match the rule if one of the following is true:\n",
    "\n",
    "`ruleKey == \"type\"` and `ruleValue == typei`.  \n",
    "`ruleKey == \"color\"` and `ruleValue == colori`.  \n",
    "`ruleKey == \"name\"` and `ruleValue == namei`.  \n",
    "Return the number of items that match the given rule.\n",
    "\n",
    " \n",
    "\n",
    "Example 1:\n",
    "```\n",
    "Input: items = [[\"phone\",\"blue\",\"pixel\"],[\"computer\",\"silver\",\"lenovo\"],[\"phone\",\"gold\",\"iphone\"]], ruleKey = \"color\", ruleValue = \"silver\"\n",
    "Output: 1\n",
    "Explanation: There is only one item matching the given rule, which is [\"computer\",\"silver\",\"lenovo\"].\n",
    "```\n",
    "Example 2:\n",
    "```\n",
    "Input: items = [[\"phone\",\"blue\",\"pixel\"],[\"computer\",\"silver\",\"phone\"],[\"phone\",\"gold\",\"iphone\"]], ruleKey = \"type\", ruleValue = \"phone\"\n",
    "Output: 2\n",
    "Explanation: There are only two items matching the given rule, which are [\"phone\",\"blue\",\"pixel\"] and [\"phone\",\"gold\",\"iphone\"]. Note that the item [\"computer\",\"silver\",\"phone\"] does not match.\n",
    "``` \n",
    "\n",
    "Constraints:\n",
    "```\n",
    "1 <= items.length <= 104\n",
    "1 <= typei.length, colori.length, namei.length, ruleValue.length <= 10\n",
    "ruleKey is equal to either \"type\", \"color\", or \"name\".\n",
    "All strings consist only of lowercase letters.\n",
    "```"
   ]
  },
  {
   "cell_type": "code",
   "execution_count": 2,
   "metadata": {},
   "outputs": [
    {
     "data": {
      "text/plain": [
       "1"
      ]
     },
     "execution_count": 2,
     "metadata": {},
     "output_type": "execute_result"
    }
   ],
   "source": [
    "class Solution(object):\n",
    "    def countMatches(self,items,ruleKey,ruleValue):\n",
    "        ruleDct={\n",
    "            \"type\":0,\n",
    "            \"color\":1,\n",
    "            \"name\":2\n",
    "        }\n",
    "        ct=0\n",
    "        for i in items:\n",
    "            if i[ruleDct[ruleKey]]==ruleValue:\n",
    "                ct+=1\n",
    "        return ct\n",
    "\n",
    "o = Solution()\n",
    "o.countMatches([[\"phone\",\"blue\",\"pixel\"],[\"computer\",\"silver\",\"lenovo\"],[\"phone\",\"gold\",\"iphone\"]],\"color\",\"silver\")"
   ]
  },
  {
   "cell_type": "markdown",
   "metadata": {},
   "source": [
    "## 1720) Decode XORed Array\n",
    "There is a hidden integer array `arr` that consists of `n` non-negative integers.\n",
    "\n",
    "It was encoded into another integer array encoded of length `n - 1`, such that `encoded[i] = arr[i] XOR arr[i + 1]`. For example, if `arr = [1,0,2,1]`, then `encoded = [1,2,3]`.\n",
    "\n",
    "You are given the `encoded` array. You are also given an integer `first`, that is the first element of `arr`, i.e. `arr[0]`.\n",
    "\n",
    "Return the original array `arr`. It can be proved that the answer exists and is unique.\n",
    "\n",
    " \n",
    "\n",
    "Example 1:\n",
    "```\n",
    "Input: encoded = [1,2,3], first = 1\n",
    "Output: [1,0,2,1]\n",
    "Explanation: If arr = [1,0,2,1], then first = 1 and encoded = [1 XOR 0, 0 XOR 2, 2 XOR 1] = [1,2,3]\n",
    "```\n",
    "Example 2:\n",
    "```\n",
    "Input: encoded = [6,2,7,3], first = 4\n",
    "Output: [4,2,0,7,4]\n",
    "```\n",
    "\n",
    "Constraints:\n",
    "```\n",
    "2 <= n <= 104\n",
    "encoded.length == n - 1\n",
    "0 <= encoded[i] <= 105\n",
    "0 <= first <= 105\n",
    "```"
   ]
  },
  {
   "cell_type": "code",
   "execution_count": 68,
   "metadata": {},
   "outputs": [
    {
     "data": {
      "text/plain": [
       "[1, 0, 2, 1]"
      ]
     },
     "execution_count": 68,
     "metadata": {},
     "output_type": "execute_result"
    }
   ],
   "source": [
    "class Solution(object):\n",
    "    def decode(self, encoded, first):\n",
    "        \"\"\"\n",
    "        :type encoded: List[int]\n",
    "        :type first: int\n",
    "        :rtype: List[int]\n",
    "        \"\"\"\n",
    "        li = [first]\n",
    "        for i in range(0, len(encoded)):\n",
    "            li.append(li[i]^encoded[i])\n",
    "        return li\n",
    "\n",
    "o = Solution()\n",
    "o.decode([1,2,3],1)"
   ]
  },
  {
   "cell_type": "markdown",
   "metadata": {},
   "source": [
    "## 1389) Create Target Array in the Given Order\n",
    "Given two arrays of integers `nums` and `index`. Your task is to create target array under the following rules:\n",
    "\n",
    "Initially *target* array is empty.\n",
    "From left to right read `nums[i]` and `index[i]`, insert at index `index[i]` the value `nums[i]` in target array.\n",
    "Repeat the previous step until there are no elements to read in `nums` and `index`.\n",
    "Return the *target* array.\n",
    "\n",
    "It is guaranteed that the insertion operations will be valid.\n",
    "\n",
    " \n",
    "\n",
    "Example 1:\n",
    "```\n",
    "Input: nums = [0,1,2,3,4], index = [0,1,2,2,1]\n",
    "Output: [0,4,1,3,2]\n",
    "Explanation:\n",
    "nums       index     target\n",
    "0            0        [0]\n",
    "1            1        [0,1]\n",
    "2            2        [0,1,2]\n",
    "3            2        [0,1,3,2]\n",
    "4            1        [0,4,1,3,2]\n",
    "```\n",
    "Example 2:\n",
    "```\n",
    "Input: nums = [1,2,3,4,0], index = [0,1,2,3,0]\n",
    "Output: [0,1,2,3,4]\n",
    "Explanation:\n",
    "nums       index     target\n",
    "1            0        [1]\n",
    "2            1        [1,2]\n",
    "3            2        [1,2,3]\n",
    "4            3        [1,2,3,4]\n",
    "0            0        [0,1,2,3,4]\n",
    "```\n",
    "Example 3:\n",
    "```\n",
    "Input: nums = [1], index = [0]\n",
    "Output: [1]\n",
    "```\n",
    "\n",
    "Constraints:\n",
    "```\n",
    "1 <= nums.length, index.length <= 100\n",
    "nums.length == index.length\n",
    "0 <= nums[i] <= 100\n",
    "0 <= index[i] <= i\n",
    "```"
   ]
  },
  {
   "cell_type": "code",
   "execution_count": 44,
   "metadata": {},
   "outputs": [
    {
     "data": {
      "text/plain": [
       "[0, 4, 1, 3, 2]"
      ]
     },
     "execution_count": 44,
     "metadata": {},
     "output_type": "execute_result"
    }
   ],
   "source": [
    "class Solution(object):\n",
    "    def createTargetArray(self, nums, index):\n",
    "        \"\"\"\n",
    "        :type nums: List[int]\n",
    "        :type index: List[int]\n",
    "        :rtype: List[int]\n",
    "        \"\"\"\n",
    "        target=[]\n",
    "        for i in range(len(nums)):\n",
    "            target.insert(index[i],nums[i])\n",
    "        return target\n",
    "o = Solution()\n",
    "o.createTargetArray([0,1,2,3,4],[0,1,2,2,1])"
   ]
  },
  {
   "cell_type": "markdown",
   "metadata": {},
   "source": [
    "## 1221. Split a String in Balanced Strings\n",
    "Balanced strings are those that have an equal quantity of `'L'` and `'R'` characters.\n",
    "\n",
    "Given a balanced string `s`, split it in the maximum amount of balanced strings.\n",
    "\n",
    "*Return the maximum amount of split balanced strings.#\n",
    "\n",
    " \n",
    "\n",
    "Example 1:\n",
    "```\n",
    "Input: s = \"RLRRLLRLRL\"\n",
    "Output: 4\n",
    "Explanation: s can be split into \"RL\", \"RRLL\", \"RL\", \"RL\", each substring contains same number of 'L' and 'R'.\n",
    "```\n",
    "Example 2:\n",
    "```\n",
    "Input: s = \"RLLLLRRRLR\"\n",
    "Output: 3\n",
    "Explanation: s can be split into \"RL\", \"LLLRRR\", \"LR\", each substring contains same number of 'L' and 'R'.\n",
    "```\n",
    "Example 3:\n",
    "```\n",
    "Input: s = \"LLLLRRRR\"\n",
    "Output: 1\n",
    "Explanation: s can be split into \"LLLLRRRR\".\n",
    "```\n",
    "Example 4:\n",
    "```\n",
    "Input: s = \"RLRRRLLRLL\"\n",
    "Output: 2\n",
    "Explanation: s can be split into \"RL\", \"RRRLLRLL\", since each substring contains an equal number of 'L' and 'R'\n",
    "```\n",
    "\n",
    "Constraints:\n",
    "```\n",
    "1 <= s.length <= 1000\n",
    "s[i] is either 'L' or 'R'.\n",
    "s is a balanced string.\n",
    "```"
   ]
  },
  {
   "cell_type": "code",
   "execution_count": 10,
   "metadata": {},
   "outputs": [
    {
     "data": {
      "text/plain": [
       "3"
      ]
     },
     "execution_count": 10,
     "metadata": {},
     "output_type": "execute_result"
    }
   ],
   "source": [
    "class Solution(object):\n",
    "    def balancedStringSplit(self, s):\n",
    "        \"\"\"\n",
    "        :type s: str\n",
    "        :rtype: int\n",
    "        \"\"\"\n",
    "        count_r, max_balanced = 0,0\n",
    "        for each in s:\n",
    "            if each=='R':\n",
    "                count_r+=1\n",
    "            else:\n",
    "                count_r-=1\n",
    "            if count_r==0:\n",
    "                max_balanced+=1\n",
    "        return max_balanced\n",
    "\n",
    "o = Solution()\n",
    "o.balancedStringSplit('RLLLLRRRLR')"
   ]
  },
  {
   "cell_type": "markdown",
   "metadata": {},
   "source": [
    "## 1486. XOR Operation in an Array\n",
    "\n",
    "Given an integer `n` and an integer `start`.\n",
    "\n",
    "Define an array `nums` where `nums[i] = start + 2*i` (0-indexed) and `n == nums.length`.\n",
    "\n",
    "Return the bitwise XOR of all elements of `nums`.\n",
    "\n",
    " \n",
    "\n",
    "Example 1:\n",
    "```\n",
    "Input: n = 5, start = 0\n",
    "Output: 8\n",
    "Explanation: Array nums is equal to [0, 2, 4, 6, 8] where (0 ^ 2 ^ 4 ^ 6 ^ 8) = 8.\n",
    "Where \"^\" corresponds to bitwise XOR operator.\n",
    "```\n",
    "Example 2:\n",
    "```\n",
    "Input: n = 4, start = 3\n",
    "Output: 8\n",
    "Explanation: Array nums is equal to [3, 5, 7, 9] where (3 ^ 5 ^ 7 ^ 9) = 8.\n",
    "```\n",
    "Example 3:\n",
    "```\n",
    "Input: n = 1, start = 7\n",
    "Output: 7\n",
    "```\n",
    "Example 4:\n",
    "```\n",
    "Input: n = 10, start = 5\n",
    "Output: 2\n",
    "```\n",
    "\n",
    "Constraints:\n",
    "```\n",
    "1 <= n <= 1000\n",
    "0 <= start <= 1000\n",
    "n == nums.length\n",
    "```"
   ]
  },
  {
   "cell_type": "code",
   "execution_count": 22,
   "metadata": {},
   "outputs": [
    {
     "data": {
      "text/plain": [
       "8"
      ]
     },
     "execution_count": 22,
     "metadata": {},
     "output_type": "execute_result"
    }
   ],
   "source": [
    "from functools import reduce\n",
    "\n",
    "class Solution(object):\n",
    "    def xorOperation(self, n, start):\n",
    "        \"\"\"\n",
    "        :type n: int\n",
    "        :type start: int\n",
    "        :rtype: int\n",
    "        \"\"\"\n",
    "        nums = []\n",
    "        for i in range(0,n):\n",
    "            nums.append(start + 2*i)\n",
    "        return reduce(lambda x, y: x^y, nums)\n",
    "\n",
    "o = Solution()\n",
    "o.xorOperation(5,0)"
   ]
  },
  {
   "cell_type": "code",
   "execution_count": 25,
   "metadata": {},
   "outputs": [
    {
     "data": {
      "text/plain": [
       "8"
      ]
     },
     "execution_count": 25,
     "metadata": {},
     "output_type": "execute_result"
    }
   ],
   "source": [
    "class Solution(object):\n",
    "    def xorOperation(self, n, start):\n",
    "        \"\"\"\n",
    "        :type n: int\n",
    "        :type start: int\n",
    "        :rtype: int\n",
    "        \"\"\"\n",
    "        nums = start + 2*0\n",
    "        for i in range(1,n):\n",
    "            nums^=(start + 2*i)\n",
    "        return nums\n",
    "\n",
    "o = Solution()\n",
    "o.xorOperation(5,0)"
   ]
  },
  {
   "cell_type": "markdown",
   "metadata": {},
   "source": [
    "## 938. Range Sum of BST\n",
    "Given the `root` node of a binary search tree, return *the sum of values of all nodes with a value in the range `[low, high]`.*\n",
    "\n",
    " \n",
    "\n",
    "Example 1:\n",
    "![Binary Search Tree 1](img/bst1.jpg)\n",
    "```\n",
    "Input: root = [10,5,15,3,7,null,18], low = 7, high = 15\n",
    "Output: 32\n",
    "```\n",
    "Example 2:\n",
    "![Binary Search Tree 2](img/bst2.jpg)\n",
    "```\n",
    "Input: root = [10,5,15,3,7,13,18,1,null,6], low = 6, high = 10\n",
    "Output: 23\n",
    "```\n",
    "\n",
    "Constraints:\n",
    "```\n",
    "The number of nodes in the tree is in the range [1, 2 * 104].\n",
    "1 <= Node.val <= 105\n",
    "1 <= low <= high <= 105\n",
    "All Node.val are unique.\n",
    "```"
   ]
  },
  {
   "cell_type": "code",
   "execution_count": 18,
   "metadata": {},
   "outputs": [],
   "source": [
    "# Definition for a binary tree node.\n",
    "class TreeNode(object):\n",
    "    def __init__(self, val=0, left=None, right=None):\n",
    "        self.val = val\n",
    "        self.left = left\n",
    "        self.right = right\n",
    "class Solution(object):\n",
    "    def rangeSumBST(self, root, low, high):\n",
    "        \"\"\"\n",
    "        :type root: TreeNode\n",
    "        :type low: int\n",
    "        :type high: int\n",
    "        :rtype: int\n",
    "        \"\"\"\n",
    "        pass"
   ]
  },
  {
   "cell_type": "markdown",
   "metadata": {},
   "source": [
    "## 1614) Maximum Nesting Depth of the Parentheses\n",
    "A string is a **valid parentheses string** (denoted **VPS**) if it meets one of the following:\n",
    "\n",
    "- It is an empty string `\"\"`, or a single character not equal to `\"(\"` or `\")\"`,\n",
    "- It can be written as `AB (A` concatenated with `B`), where `A` and `B` are VPS's, or\n",
    "- It can be written as `(A)`, where `A` is a VPS.\n",
    "\n",
    "We can similarly define the nesting depth `depth(S)` of any VPS `S` as follows:\n",
    "\n",
    "- `depth(\"\") = 0`\n",
    "- `depth(C) = 0`, where `C` is a string with a single character not equal to `\"(\"` or `\")\"`.\n",
    "- `depth(A + B) = max(depth(A), depth(B))`, where `A` and `B` are VPS's.\n",
    "- `depth(\"(\" + A + \")\") = 1 + depth(A)`, where `A` is a VPS.\n",
    "For example, `\"\"`, `\"()()\"`, and `\"()(()())\"` are VPS's (with nesting depths 0, 1, and 2), and `\")(\"` and `\"(()\"` are not VPS's.\n",
    "\n",
    "Given a VPS represented as string `s`, return the nesting depth of `s`. \n",
    "\n",
    "Example 1:\n",
    "```\n",
    "Input: s = \"(1+(2*3)+((8)/4))+1\"\n",
    "Output: 3\n",
    "Explanation: Digit 8 is inside of 3 nested parentheses in the string.\n",
    "```\n",
    "Example 2:\n",
    "```\n",
    "Input: s = \"(1)+((2))+(((3)))\"\n",
    "Output: 3\n",
    "```\n",
    "Example 3:\n",
    "```\n",
    "Input: s = \"1+(2*3)/(2-1)\"\n",
    "Output: 1\n",
    "```\n",
    "Example 4:\n",
    "```\n",
    "Input: s = \"1\"\n",
    "Output: 0\n",
    "```\n",
    "\n",
    "Constraints:\n",
    "```\n",
    "1 <= s.length <= 100\n",
    "s consists of digits 0-9 and characters '+', '-', '*', '/', '(', and ')'.\n",
    "It is guaranteed that parentheses expression s is a VPS.\n",
    "```"
   ]
  },
  {
   "cell_type": "code",
   "execution_count": 13,
   "metadata": {},
   "outputs": [
    {
     "data": {
      "text/plain": [
       "3"
      ]
     },
     "execution_count": 13,
     "metadata": {},
     "output_type": "execute_result"
    }
   ],
   "source": [
    "class Solution(object):\n",
    "    def maxDepth(self,s):\n",
    "        o,l=0,[]\n",
    "        for each in s:\n",
    "            if each==\"(\":\n",
    "                o+=1\n",
    "            if each==\")\":\n",
    "                o-=1\n",
    "            l.append(o)\n",
    "        return max(l)\n",
    "\n",
    "o = Solution()\n",
    "o.maxDepth(\"(1+(2*3)+((8)/4))+1\")"
   ]
  },
  {
   "cell_type": "markdown",
   "metadata": {},
   "source": [
    "## 1662. Check If Two String Arrays are Equivalent\n",
    "Given two string arrays `word1` and `word2`, return `true` if the two arrays represent the same string, and `false` otherwise.\n",
    "\n",
    "A string is represented by an array if the array elements concatenated in order forms the string.\n",
    "\n",
    " \n",
    "\n",
    "Example 1:\n",
    "```\n",
    "Input: word1 = [\"ab\", \"c\"], word2 = [\"a\", \"bc\"]\n",
    "Output: true\n",
    "Explanation:\n",
    "word1 represents string \"ab\" + \"c\" -> \"abc\"\n",
    "word2 represents string \"a\" + \"bc\" -> \"abc\"\n",
    "The strings are the same, so return true.\n",
    "```\n",
    "Example 2:\n",
    "```\n",
    "Input: word1 = [\"a\", \"cb\"], word2 = [\"ab\", \"c\"]\n",
    "Output: false\n",
    "```\n",
    "Example 3:\n",
    "```\n",
    "Input: word1  = [\"abc\", \"d\", \"defg\"], word2 = [\"abcddefg\"]\n",
    "Output: true\n",
    "``` \n",
    "\n",
    "Constraints:\n",
    "```\n",
    "1 <= word1.length, word2.length <= 103\n",
    "1 <= word1[i].length, word2[i].length <= 103\n",
    "1 <= sum(word1[i].length), sum(word2[i].length) <= 103\n",
    "word1[i] and word2[i] consist of lowercase letters.\n",
    "```"
   ]
  },
  {
   "cell_type": "code",
   "execution_count": 4,
   "metadata": {},
   "outputs": [
    {
     "data": {
      "text/plain": [
       "True"
      ]
     },
     "execution_count": 4,
     "metadata": {},
     "output_type": "execute_result"
    }
   ],
   "source": [
    "class Solution(object):\n",
    "    def arrayStringsAreEqual(self, word1, word2):\n",
    "        \"\"\"\n",
    "        :type word1: List[str]\n",
    "        :type word2: List[str]\n",
    "        :rtype: bool\n",
    "        \"\"\"\n",
    "        w1, w2 = '', ''\n",
    "        for each in word1:\n",
    "            w1+=each\n",
    "        for each in word2:\n",
    "            w2+=each\n",
    "        if w1==w2:\n",
    "            return True\n",
    "        else:\n",
    "            return False\n",
    "\n",
    "o = Solution()\n",
    "o.arrayStringsAreEqual([\"abc\", \"d\", \"defg\"],[\"abcddefg\"])"
   ]
  },
  {
   "cell_type": "markdown",
   "metadata": {},
   "source": [
    "## 1656. Design an Ordered Stream\n",
    "There is a stream of `n` `(idKey, value)` pairs arriving in an arbitrary order, where `idKey` is an integer between `1` and `n` and `value` is a string. No two pairs have the same `id`.\n",
    "\n",
    "Design a stream that returns the values in increasing order of their IDs by returning a chunk (list) of values after each insertion. The concatenation of all the chunks should result in a list of the sorted values.\n",
    "\n",
    "Implement the `OrderedStream` class:\n",
    "\n",
    "`OrderedStream(int n)` Constructs the stream to take `n` values.\n",
    "`String[] insert(int idKey, String value)` Inserts the pair `(idKey, value)` into the stream, then returns the largest possible chunk of currently inserted values that appear next in the order.\n",
    " \n",
    "\n",
    "Example:\n",
    "\n",
    "![Ordered Stream](img/q1.gif)\n",
    "```\n",
    "Input\n",
    "[\"OrderedStream\", \"insert\", \"insert\", \"insert\", \"insert\", \"insert\"]\n",
    "[[5], [3, \"ccccc\"], [1, \"aaaaa\"], [2, \"bbbbb\"], [5, \"eeeee\"], [4, \"ddddd\"]]\n",
    "Output\n",
    "[null, [], [\"aaaaa\"], [\"bbbbb\", \"ccccc\"], [], [\"ddddd\", \"eeeee\"]]\n",
    "Explanation\n",
    "// Note that the values ordered by ID is [\"aaaaa\", \"bbbbb\", \"ccccc\", \"ddddd\", \"eeeee\"].\n",
    "OrderedStream os = new OrderedStream(5);\n",
    "os.insert(3, \"ccccc\"); // Inserts (3, \"ccccc\"), returns [].\n",
    "os.insert(1, \"aaaaa\"); // Inserts (1, \"aaaaa\"), returns [\"aaaaa\"].\n",
    "os.insert(2, \"bbbbb\"); // Inserts (2, \"bbbbb\"), returns [\"bbbbb\", \"ccccc\"].\n",
    "os.insert(5, \"eeeee\"); // Inserts (5, \"eeeee\"), returns [].\n",
    "os.insert(4, \"ddddd\"); // Inserts (4, \"ddddd\"), returns [\"ddddd\", \"eeeee\"].\n",
    "// Concatentating all the chunks returned:\n",
    "// [] + [\"aaaaa\"] + [\"bbbbb\", \"ccccc\"] + [] + [\"ddddd\", \"eeeee\"] = [\"aaaaa\", \"bbbbb\", \"ccccc\", \"ddddd\", \"eeeee\"]\n",
    "// The resulting order is the same as the order above.\n",
    "```\n",
    "\n",
    "Constraints:\n",
    "```\n",
    "1 <= n <= 1000\n",
    "1 <= id <= n\n",
    "value.length == 5\n",
    "value consists only of lowercase letters.\n",
    "Each call to insert will have a unique id.\n",
    "Exactly n calls will be made to insert.\n",
    "```"
   ]
  },
  {
   "cell_type": "code",
   "execution_count": 10,
   "metadata": {},
   "outputs": [],
   "source": [
    "class OrderedStream(object):\n",
    "\n",
    "    def __init__(self, n):\n",
    "        \"\"\"\n",
    "        :type n: int\n",
    "        \"\"\"\n",
    "        \n",
    "\n",
    "    def insert(self, idKey, value):\n",
    "        \"\"\"\n",
    "        :type idKey: int\n",
    "        :type value: str\n",
    "        :rtype: List[str]\n",
    "        \"\"\"\n",
    "        \n",
    "\n",
    "\n",
    "# Your OrderedStream object will be instantiated and called as such:\n",
    "# obj = OrderedStream(n)\n",
    "# param_1 = obj.insert(idKey,value)"
   ]
  },
  {
   "cell_type": "markdown",
   "metadata": {},
   "source": [
    "## 1684) Count the Number of Consistent Strings\n",
    "\n",
    "You are given a string `allowed` consisting of distinct characters and an array of strings `words`. A string is consistent if all characters in the string appear in the string `allowed`.\n",
    "\n",
    "Return the number of consistent strings in the array `words`.\n",
    " \n",
    "\n",
    "Example 1:\n",
    "```\n",
    "Input: allowed = \"ab\", words = [\"ad\",\"bd\",\"aaab\",\"baa\",\"badab\"]\n",
    "Output: 2\n",
    "Explanation: Strings \"aaab\" and \"baa\" are consistent since they only contain characters 'a' and 'b'.\n",
    "```\n",
    "Example 2:\n",
    "```\n",
    "Input: allowed = \"abc\", words = [\"a\",\"b\",\"c\",\"ab\",\"ac\",\"bc\",\"abc\"]\n",
    "Output: 7\n",
    "Explanation: All strings are consistent.\n",
    "```\n",
    "Example 3:\n",
    "```\n",
    "Input: allowed = \"cad\", words = [\"cc\",\"acd\",\"b\",\"ba\",\"bac\",\"bad\",\"ac\",\"d\"]\n",
    "Output: 4\n",
    "Explanation: Strings \"cc\", \"acd\", \"ac\", and \"d\" are consistent.\n",
    "```\n",
    "\n",
    "Constraints:\n",
    "```\n",
    "1 <= words.length <= 104\n",
    "1 <= allowed.length <= 26\n",
    "1 <= words[i].length <= 10\n",
    "The characters in allowed are distinct.\n",
    "words[i] and allowed contain only lowercase English letters.\n",
    "```"
   ]
  },
  {
   "cell_type": "code",
   "execution_count": 9,
   "metadata": {},
   "outputs": [
    {
     "data": {
      "text/plain": [
       "2"
      ]
     },
     "execution_count": 9,
     "metadata": {},
     "output_type": "execute_result"
    }
   ],
   "source": [
    "class Solution(object):\n",
    "    def countConsistentStrings(self, allowed, words):\n",
    "        allowed = set(allowed)\n",
    "        count = 0\n",
    "        for word in words:\n",
    "            for letter in word:\n",
    "                if letter not in allowed:\n",
    "                    count += 1\n",
    "                    break\n",
    "        return len(words) - count\n",
    "\n",
    "o = Solution()\n",
    "o.countConsistentStrings(\"ab\", [\"ad\",\"bd\",\"aaab\",\"baa\",\"badab\"])"
   ]
  },
  {
   "cell_type": "markdown",
   "metadata": {},
   "source": [
    "## 1290) Convert Binary Number in a Linked List to Integer\n",
    "\n",
    "Given `head` which is a reference node to a singly-linked list. The value of each node in the linked list is either 0 or 1. The linked list holds the binary representation of a number.\n",
    "\n",
    "Return the decimal value of the number in the linked list.\n",
    "\n",
    " \n",
    "\n",
    "Example 1:\n",
    "\n",
    "![Linked List](img/graph-1.png)\n",
    "```\n",
    "Input: head = [1,0,1]\n",
    "Output: 5\n",
    "Explanation: (101) in base 2 = (5) in base 10\n",
    "```\n",
    "Example 2:\n",
    "```\n",
    "Input: head = [0]\n",
    "Output: 0\n",
    "```\n",
    "Example 3:\n",
    "```\n",
    "Input: head = [1]\n",
    "Output: 1\n",
    "```\n",
    "Example 4:\n",
    "```\n",
    "Input: head = [1,0,0,1,0,0,1,1,1,0,0,0,0,0,0]\n",
    "Output: 18880\n",
    "```\n",
    "Example 5:\n",
    "```\n",
    "Input: head = [0,0]\n",
    "Output: 0\n",
    "```\n",
    "\n",
    "Constraints:\n",
    "```\n",
    "The Linked List is not empty.\n",
    "Number of nodes will not exceed 30.\n",
    "Each node's value is either 0 or 1.\n",
    "```"
   ]
  },
  {
   "cell_type": "code",
   "execution_count": 17,
   "metadata": {},
   "outputs": [],
   "source": [
    "# Definition for singly-linked list.\n",
    "class ListNode(object):\n",
    "    def __init__(self, val=0, next=None):\n",
    "        self.val = val\n",
    "        self.next = next\n",
    "class Solution:\n",
    "    def getDecimalValue(self, head: ListNode) -> int:\n",
    "        pass\n",
    "            \n",
    "o = Solution()\n",
    "o.getDecimalValue([1,0,0,1,0,0,1,1,1,0,0,0,0,0,0])\n",
    "        "
   ]
  },
  {
   "cell_type": "markdown",
   "metadata": {},
   "source": [
    "## 1588) Sum of All Odd Length Subarrays\n",
    "Given an array of positive integers `arr`, calculate the sum of all possible odd-length subarrays.\n",
    "\n",
    "A subarray is a contiguous subsequence of the array.\n",
    "\n",
    "Return the sum of all odd-length subarrays of `arr`.\n",
    "\n",
    " \n",
    "\n",
    "Example 1:\n",
    "```\n",
    "Input: arr = [1,4,2,5,3]\n",
    "Output: 58\n",
    "Explanation: The odd-length subarrays of arr and their sums are:\n",
    "[1] = 1\n",
    "[4] = 4\n",
    "[2] = 2\n",
    "[5] = 5\n",
    "[3] = 3\n",
    "[1,4,2] = 7\n",
    "[4,2,5] = 11\n",
    "[2,5,3] = 10\n",
    "[1,4,2,5,3] = 15\n",
    "If we add all these together we get 1 + 4 + 2 + 5 + 3 + 7 + 11 + 10 + 15 = 58\n",
    "```\n",
    "Example 2:\n",
    "```\n",
    "Input: arr = [1,2]\n",
    "Output: 3\n",
    "Explanation: There are only 2 subarrays of odd length, [1] and [2]. Their sum is 3.\n",
    "```\n",
    "Example 3:\n",
    "```\n",
    "Input: arr = [10,11,12]\n",
    "Output: 66\n",
    "```\n",
    "\n",
    "Constraints:\n",
    "```\n",
    "1 <= arr.length <= 100\n",
    "1 <= arr[i] <= 1000\n",
    "```"
   ]
  },
  {
   "cell_type": "code",
   "execution_count": 176,
   "metadata": {},
   "outputs": [
    {
     "data": {
      "text/plain": [
       "58"
      ]
     },
     "execution_count": 176,
     "metadata": {},
     "output_type": "execute_result"
    }
   ],
   "source": [
    "class Solution:\n",
    "    def sumOddLengthSubarrays(self, arr):\n",
    "        s=0\n",
    "        for i in range(len(arr)):\n",
    "            for j in range(i,len(arr),2):\n",
    "                s+=sum(arr[i:j+1])\n",
    "        return s\n",
    "\n",
    "o = Solution()\n",
    "o.sumOddLengthSubarrays([1,4,2,5,3])"
   ]
  },
  {
   "cell_type": "markdown",
   "metadata": {},
   "source": [
    "## 1688) Count of Matches in Tournament\n",
    "You are given an integer `n`, the number of teams in a tournament that has strange rules:\n",
    "\n",
    "If the current number of teams is even, each team gets paired with another team. A total of `n / 2` matches are played, and `n / 2` teams advance to the next round.\n",
    "If the current number of teams is odd, one team randomly advances in the tournament, and the rest gets paired. A total of `(n - 1) / 2` matches are played, and `(n - 1) / 2 + 1` teams advance to the next round.\n",
    "Return the number of matches played in the tournament until a winner is decided.\n",
    "\n",
    " \n",
    "\n",
    "Example 1:\n",
    "```\n",
    "Input: n = 7\n",
    "Output: 6\n",
    "Explanation: Details of the tournament: \n",
    "- 1st Round: Teams = 7, Matches = 3, and 4 teams advance.\n",
    "- 2nd Round: Teams = 4, Matches = 2, and 2 teams advance.\n",
    "- 3rd Round: Teams = 2, Matches = 1, and 1 team is declared the winner.\n",
    "Total number of matches = 3 + 2 + 1 = 6.\n",
    "```\n",
    "Example 2:\n",
    "```\n",
    "Input: n = 14\n",
    "Output: 13\n",
    "Explanation: Details of the tournament:\n",
    "- 1st Round: Teams = 14, Matches = 7, and 7 teams advance.\n",
    "- 2nd Round: Teams = 7, Matches = 3, and 4 teams advance.\n",
    "- 3rd Round: Teams = 4, Matches = 2, and 2 teams advance.\n",
    "- 4th Round: Teams = 2, Matches = 1, and 1 team is declared the winner.\n",
    "Total number of matches = 7 + 3 + 2 + 1 = 13.\n",
    "```\n",
    "\n",
    "Constraints:\n",
    "```\n",
    "1 <= n <= 200\n",
    "```"
   ]
  },
  {
   "cell_type": "code",
   "execution_count": 15,
   "metadata": {},
   "outputs": [
    {
     "data": {
      "text/plain": [
       "13"
      ]
     },
     "execution_count": 15,
     "metadata": {},
     "output_type": "execute_result"
    }
   ],
   "source": [
    "class Solution(object):\n",
    "    def numberOfMatches(self, n):\n",
    "        \"\"\"\n",
    "        :type n: int\n",
    "        :rtype: int\n",
    "        \"\"\"\n",
    "        mat = 0\n",
    "        while(n!=1):\n",
    "            if n%2==0:\n",
    "                mat = mat+n/2\n",
    "                n=n/2\n",
    "            else:\n",
    "                mat = mat + (n-1)/2\n",
    "                n=1+(n-1)/2\n",
    "        return int(mat)\n",
    "\n",
    "o = Solution()\n",
    "o.numberOfMatches(14)"
   ]
  },
  {
   "cell_type": "markdown",
   "metadata": {},
   "source": [
    "## 1534) Count Good Triplets\n",
    "Given an array of integers `arr`, and three integers `a`, `b` and `c`. You need to find the number of good triplets.\n",
    "\n",
    "A triplet `(arr[i], arr[j], arr[k])` is good if the following conditions are true:\n",
    "```\n",
    "0 <= i < j < k < arr.length\n",
    "|arr[i] - arr[j]| <= a\n",
    "|arr[j] - arr[k]| <= b\n",
    "|arr[i] - arr[k]| <= c\n",
    "```\n",
    "Where `|x|` denotes the absolute value of `x`.\n",
    "\n",
    "Return the number of good triplets.\n",
    " \n",
    "\n",
    "Example 1:\n",
    "```\n",
    "Input: arr = [3,0,1,1,9,7], a = 7, b = 2, c = 3\n",
    "Output: 4\n",
    "Explanation: There are 4 good triplets: [(3,0,1), (3,0,1), (3,1,1), (0,1,1)].\n",
    "```\n",
    "Example 2:\n",
    "```\n",
    "Input: arr = [1,1,2,2,3], a = 0, b = 0, c = 1\n",
    "Output: 0\n",
    "Explanation: No triplet satisfies all conditions.\n",
    "```\n",
    "\n",
    "Constraints:\n",
    "```\n",
    "3 <= arr.length <= 100\n",
    "0 <= arr[i] <= 1000\n",
    "0 <= a, b, c <= 1000\n",
    "```"
   ]
  },
  {
   "cell_type": "code",
   "execution_count": 5,
   "metadata": {},
   "outputs": [
    {
     "data": {
      "text/plain": [
       "4"
      ]
     },
     "execution_count": 5,
     "metadata": {},
     "output_type": "execute_result"
    }
   ],
   "source": [
    "class Solution(object):\n",
    "    def countGoodTriplets(self, arr, a, b, c):\n",
    "        \"\"\"\n",
    "        :type arr: List[int]\n",
    "        :type a: int\n",
    "        :type b: int\n",
    "        :type c: int\n",
    "        :rtype: int\n",
    "        \"\"\"\n",
    "        ct = 0\n",
    "        for i in range(0,len(arr)):\n",
    "            for j in range(i+1,len(arr)):\n",
    "                for k in range(j+1,len(arr)):\n",
    "                    if abs(arr[i]-arr[j])<=a and abs(arr[j]-arr[k])<=b and abs(arr[i]-arr[k])<=c:\n",
    "                        ct+=1\n",
    "        return ct\n",
    "\n",
    "o = Solution()\n",
    "o.countGoodTriplets([3,0,1,1,9,7], 7, 2, 3)"
   ]
  },
  {
   "cell_type": "markdown",
   "metadata": {},
   "source": [
    "## 709) To Lower Case\n",
    "\n",
    "Implement function ToLowerCase() that has a string parameter str, and returns the same string in lowercase.\n",
    "\n",
    " \n",
    "Example 1:\n",
    "```\n",
    "Input: \"Hello\"\n",
    "Output: \"hello\"\n",
    "```\n",
    "Example 2:\n",
    "```\n",
    "Input: \"here\"\n",
    "Output: \"here\"\n",
    "```\n",
    "Example 3:\n",
    "```\n",
    "Input: \"LOVELY\"\n",
    "Output: \"lovely\"\n",
    "```"
   ]
  },
  {
   "cell_type": "code",
   "execution_count": 51,
   "metadata": {},
   "outputs": [
    {
     "data": {
      "text/plain": [
       "'al&phabet'"
      ]
     },
     "execution_count": 51,
     "metadata": {},
     "output_type": "execute_result"
    }
   ],
   "source": [
    "class Solution(object):\n",
    "    def toLowerCase(self, str):\n",
    "        \"\"\"\n",
    "        :type str: str\n",
    "        :rtype: str\n",
    "        \"\"\"\n",
    "        x=''\n",
    "        for each in range(0,len(str)):\n",
    "            if ord(str[each])>=65 and ord(str[each])<97:\n",
    "                x+=chr(ord(str[each])+32)\n",
    "            else:\n",
    "                x+=chr(ord(str[each]))\n",
    "        return x\n",
    "\n",
    "o = Solution()\n",
    "o.toLowerCase(\"al&phaBET\")"
   ]
  },
  {
   "cell_type": "markdown",
   "metadata": {},
   "source": [
    "## 1732) Find the Highest Altitude\n",
    "\n",
    "There is a biker going on a road trip. The road trip consists of `n + 1` points at different altitudes. The biker starts his trip on point `0` with altitude equal `0`.\n",
    "\n",
    "You are given an integer array `gain` of length `n` where `gain[i]` is the net gain in altitude between points `i` and `i + 1` for all (`0 <= i < n`). Return the highest altitude of a point.\n",
    "\n",
    " \n",
    "\n",
    "Example 1:\n",
    "```\n",
    "Input: gain = [-5,1,5,0,-7]\n",
    "Output: 1\n",
    "Explanation: The altitudes are [0,-5,-4,1,1,-6]. The highest is 1.\n",
    "```\n",
    "Example 2:\n",
    "```\n",
    "Input: gain = [-4,-3,-2,-1,4,3,2]\n",
    "Output: 0\n",
    "Explanation: The altitudes are [0,-4,-7,-9,-10,-6,-3,-1]. The highest is 0.\n",
    "``` \n",
    "\n",
    "Constraints:\n",
    "```\n",
    "n == gain.length\n",
    "1 <= n <= 100\n",
    "-100 <= gain[i] <= 100\n",
    "```"
   ]
  },
  {
   "cell_type": "code",
   "execution_count": 11,
   "metadata": {},
   "outputs": [
    {
     "data": {
      "text/plain": [
       "1"
      ]
     },
     "execution_count": 11,
     "metadata": {},
     "output_type": "execute_result"
    }
   ],
   "source": [
    "class Solution(object):\n",
    "    def largestAltitude(self, gain):\n",
    "        alt = [0,gain[0]]\n",
    "        for i in range(1,len(gain)):\n",
    "            alt.append(alt[-1]+gain[i])\n",
    "        return max(alt)\n",
    "o = Solution()\n",
    "o.largestAltitude([-5,1,5,0,-7])"
   ]
  },
  {
   "cell_type": "markdown",
   "metadata": {},
   "source": [
    "## 1822. Sign of the Product of an Array\n",
    "\n",
    "There is a function `signFunc(x)` that returns:\n",
    "\n",
    "`1` if `x` is positive.  \n",
    "`-1` if `x` is negative.  \n",
    "`0` if `x` is equal to `0`.  \n",
    "You are given an integer array `nums`. Let `product` be the product of all values in the array `nums`.\n",
    "\n",
    "Return `signFunc(product)`.\n",
    "\n",
    " \n",
    "\n",
    "Example 1:\n",
    "```\n",
    "Input: nums = [-1,-2,-3,-4,3,2,1]\n",
    "Output: 1\n",
    "Explanation: The product of all values in the array is 144, and signFunc(144) = 1\n",
    "```\n",
    "Example 2:\n",
    "```\n",
    "Input: nums = [1,5,0,2,-3]\n",
    "Output: 0\n",
    "Explanation: The product of all values in the array is 0, and signFunc(0) = 0\n",
    "```\n",
    "Example 3:\n",
    "```\n",
    "Input: nums = [-1,1,-1,1,-1]\n",
    "Output: -1\n",
    "Explanation: The product of all values in the array is -1, and signFunc(-1) = -1\n",
    "```\n",
    "\n",
    "Constraints:\n",
    "```\n",
    "1 <= nums.length <= 1000\n",
    "-100 <= nums[i] <= 100\n",
    "```"
   ]
  },
  {
   "cell_type": "code",
   "execution_count": 21,
   "metadata": {},
   "outputs": [
    {
     "data": {
      "text/plain": [
       "1"
      ]
     },
     "execution_count": 21,
     "metadata": {},
     "output_type": "execute_result"
    }
   ],
   "source": [
    "from functools import reduce\n",
    "class Solution(object):\n",
    "    def arraySign(self, nums):\n",
    "        \"\"\"\n",
    "        :type nums: List[int]\n",
    "        :rtype: int\n",
    "        \"\"\"\n",
    "        prod = reduce((lambda x, y: x * y), nums)\n",
    "        if prod>0:\n",
    "            return 1\n",
    "        elif prod<0:\n",
    "            return -1\n",
    "        else:\n",
    "            return 0\n",
    "\n",
    "o = Solution()\n",
    "o.arraySign([-1,-2,-3,-4,3,2,1])"
   ]
  },
  {
   "cell_type": "markdown",
   "metadata": {},
   "source": [
    "## 1832) Check if the Sentence Is Pangram\n",
    "A pangram is a sentence where every letter of the English alphabet appears at least once.\n",
    "\n",
    "Given a string `sentence` containing only lowercase English letters, return `true` if `sentence` is a pangram, or `false` otherwise.\n",
    "\n",
    " \n",
    "Example 1:\n",
    "```\n",
    "Input: sentence = \"thequickbrownfoxjumpsoverthelazydog\"\n",
    "Output: true\n",
    "Explanation: sentence contains at least one of every letter of the English alphabet.\n",
    "```\n",
    "Example 2:\n",
    "```\n",
    "Input: sentence = \"leetcode\"\n",
    "Output: false\n",
    "```\n",
    "\n",
    "Constraints:\n",
    "```\n",
    "1 <= sentence.length <= 1000\n",
    "sentence consists of lowercase English letters.\n",
    "```"
   ]
  },
  {
   "cell_type": "code",
   "execution_count": 54,
   "metadata": {},
   "outputs": [
    {
     "data": {
      "text/plain": [
       "True"
      ]
     },
     "execution_count": 54,
     "metadata": {},
     "output_type": "execute_result"
    }
   ],
   "source": [
    "class Solution(object):\n",
    "    def checkIfPangram(self, sentence):\n",
    "        \"\"\"\n",
    "        :type sentence: str\n",
    "        :rtype: bool\n",
    "        \"\"\"\n",
    "        alpha_dict = {}\n",
    "        for each in range(97,123):\n",
    "            alpha_dict[chr(each)] = None\n",
    "        for char in sentence:\n",
    "            alpha_dict[char]=1\n",
    "        if None in alpha_dict.values():\n",
    "            return False\n",
    "        else:\n",
    "            return True\n",
    "\n",
    "o = Solution()\n",
    "o.checkIfPangram(\"thequickbrownfoxjumpsoverthelazydog\")"
   ]
  },
  {
   "cell_type": "markdown",
   "metadata": {},
   "source": [
    "## 1704) Determine if String Halves Are Alike\n",
    "\n",
    "You are given a string `s` of even length. Split this string into two halves of equal lengths, and let `a` be the first half and `b` be the second half.\n",
    "\n",
    "Two strings are alike if they have the same number of vowels `('a', 'e', 'i', 'o', 'u', 'A', 'E', 'I', 'O', 'U')`. Notice that `s` contains uppercase and lowercase letters.\n",
    "\n",
    "Return `true` if `a` and `b` are alike. Otherwise, return `false`.\n",
    "\n",
    " \n",
    "Example 1:\n",
    "```\n",
    "Input: s = \"book\"\n",
    "Output: true\n",
    "Explanation: a = \"bo\" and b = \"ok\". a has 1 vowel and b has 1 vowel. Therefore, they are alike.\n",
    "```\n",
    "Example 2:\n",
    "```\n",
    "Input: s = \"textbook\"\n",
    "Output: false\n",
    "Explanation: a = \"text\" and b = \"book\". a has 1 vowel whereas b has 2. Therefore, they are not alike.\n",
    "Notice that the vowel o is counted twice.\n",
    "```\n",
    "Example 3:\n",
    "```\n",
    "Input: s = \"MerryChristmas\"\n",
    "Output: false\n",
    "```\n",
    "Example 4:\n",
    "```\n",
    "Input: s = \"AbCdEfGh\"\n",
    "Output: true\n",
    "```\n",
    "\n",
    "Constraints:\n",
    "```\n",
    "2 <= s.length <= 1000\n",
    "s.length is even.\n",
    "s consists of uppercase and lowercase letters.\n",
    "```"
   ]
  },
  {
   "cell_type": "code",
   "execution_count": 1,
   "metadata": {},
   "outputs": [
    {
     "data": {
      "text/plain": [
       "False"
      ]
     },
     "execution_count": 1,
     "metadata": {},
     "output_type": "execute_result"
    }
   ],
   "source": [
    "class Solution(object):\n",
    "    def halvesAreAlike(self, s):\n",
    "        \"\"\"\n",
    "        :type s: str\n",
    "        :rtype: bool\n",
    "        \"\"\"\n",
    "        vow = ['a', 'e', 'i', 'o', 'u', 'A', 'E', 'I', 'O', 'U']\n",
    "        half = int(len(s)/2)\n",
    "        first = s[0:half]\n",
    "        last = s[-half:]\n",
    "        c_first = 0\n",
    "        c_last = 0\n",
    "        for s_first in first:\n",
    "            if s_first in vow:\n",
    "                c_first+=1\n",
    "        for s_last in last:\n",
    "            if s_last in vow:\n",
    "                c_last+=1\n",
    "        if c_first==c_last:\n",
    "            return True\n",
    "        else:\n",
    "            return False\n",
    "\n",
    "o = Solution()\n",
    "o.halvesAreAlike(\"MeryChristmas\")"
   ]
  },
  {
   "cell_type": "markdown",
   "metadata": {},
   "source": [
    "## 1827) Minimum Operations to Make the Array Increasing\n",
    "You are given an integer array `nums` (0-indexed). In one operation, you can choose an element of the array and increment it by `1`.\n",
    "\n",
    "For example, if `nums = [1,2,3]`, you can choose to increment `nums[1]` to make `nums = [1,3,3]`.\n",
    "Return the minimum number of operations needed to make `nums` strictly increasing.\n",
    "\n",
    "An array `nums` is strictly increasing if `nums[i] < nums[i+1]` for all `0 <= i < nums.length - 1`. An array of length `1` is trivially strictly increasing.\n",
    " \n",
    "\n",
    "Example 1:\n",
    "```\n",
    "Input: nums = [1,1,1]\n",
    "Output: 3\n",
    "Explanation: You can do the following operations:\n",
    "1) Increment nums[2], so nums becomes [1,1,2].\n",
    "2) Increment nums[1], so nums becomes [1,2,2].\n",
    "3) Increment nums[2], so nums becomes [1,2,3].\n",
    "```\n",
    "Example 2:\n",
    "```\n",
    "Input: nums = [1,5,2,4,1]\n",
    "Output: 14\n",
    "```\n",
    "Example 3:\n",
    "```\n",
    "Input: nums = [8]\n",
    "Output: 0\n",
    "```\n",
    "\n",
    "Constraints:\n",
    "```\n",
    "1 <= nums.length <= 5000\n",
    "1 <= nums[i] <= 104\n",
    "```"
   ]
  },
  {
   "cell_type": "code",
   "execution_count": 16,
   "metadata": {},
   "outputs": [
    {
     "data": {
      "text/plain": [
       "14"
      ]
     },
     "execution_count": 16,
     "metadata": {},
     "output_type": "execute_result"
    }
   ],
   "source": [
    "class Solution(object):\n",
    "    \"\"\"\n",
    "    :type nums: List[int]\n",
    "    :rtype: int\n",
    "    \"\"\"\n",
    "    def minOperations(self, nums):\n",
    "        steps=0\n",
    "        for each in range(1,len(nums)):\n",
    "            if nums[each]<=nums[each-1]:\n",
    "                steps+=nums[each-1]-nums[each]+1\n",
    "                nums[each] = nums[each-1]+1\n",
    "        return steps\n",
    "\n",
    "o = Solution()\n",
    "o.minOperations([1,5,2,4,1])"
   ]
  },
  {
   "cell_type": "markdown",
   "metadata": {},
   "source": [
    "## 1266) Minimum Time Visiting All Points\n",
    "On a 2D plane, there are `n` points with integer coordinates `points[i] = [xi, yi]`. Return the minimum time in seconds to visit all the points in the order given by `points`.\n",
    "\n",
    "You can move according to these rules:\n",
    "\n",
    "- In 1 second, you can either:  \n",
    "  - move vertically by one unit,  \n",
    "  - move horizontally by one unit, or  \n",
    "  - move diagonally `sqrt(2)` units (in other words, move one unit vertically then one unit horizontally in `1` second).  \n",
    "- You have to visit the points in the same order as they appear in the array.\n",
    "- You are allowed to pass through points that appear later in the order, but these do not count as visits.  \n",
    "\n",
    "Example 1:\n",
    "![Linked List](img/1626_example_1.png)\n",
    "```\n",
    "Input: points = [[1,1],[3,4],[-1,0]]\n",
    "Output: 7\n",
    "Explanation: One optimal path is [1,1] -> [2,2] -> [3,3] -> [3,4] -> [2,3] -> [1,2] -> [0,1] -> [-1,0]   \n",
    "Time from [1,1] to [3,4] = 3 seconds \n",
    "Time from [3,4] to [-1,0] = 4 seconds\n",
    "Total time = 7 seconds\n",
    "```\n",
    "Example 2:\n",
    "```\n",
    "Input: points = [[3,2],[-2,2]]\n",
    "Output: 5\n",
    "```\n",
    "Constraints:\n",
    "```\n",
    "points.length == n\n",
    "1 <= n <= 100\n",
    "points[i].length == 2\n",
    "-1000 <= points[i][0], points[i][1] <= 1000\n",
    "```"
   ]
  },
  {
   "cell_type": "code",
   "execution_count": 63,
   "metadata": {},
   "outputs": [
    {
     "data": {
      "text/plain": [
       "7"
      ]
     },
     "execution_count": 63,
     "metadata": {},
     "output_type": "execute_result"
    }
   ],
   "source": [
    "class Solution(object):\n",
    "    def minTimeToVisitAllPoints(self, points):\n",
    "        \"\"\"\n",
    "        :type points: List[List[int]]\n",
    "        :rtype: int\n",
    "        \"\"\"\n",
    "        c=0\n",
    "        for i in range(1,len(points)):\n",
    "            prev = points[i-1]\n",
    "            current = points[i]\n",
    "            while(current!=prev):\n",
    "                if prev[0] != current[0] and prev[0] < current[0]:\n",
    "                    prev[0]+=1\n",
    "                elif prev[0] != current[0] and prev[0] > current[0]:\n",
    "                    prev[0]-=1\n",
    "                if prev[1] != current[1] and prev[1] < current[1]:\n",
    "                    prev[1]+=1\n",
    "                elif prev[1] != current[1] and prev[1] > current[1]:\n",
    "                    prev[1]-=1\n",
    "                c+=1\n",
    "        return c\n",
    "            \n",
    "o = Solution().minTimeToVisitAllPoints([[1,1],[3,4],[-1,0]])\n",
    "o"
   ]
  },
  {
   "cell_type": "markdown",
   "metadata": {},
   "source": [
    "## 1021) Remove Outermost Parentheses\n",
    "A valid parentheses string is either empty `(\"\")`, `\"(\" + A + \")\"`, or `A + B`, where `A` and `B` are valid parentheses strings, and + represents string concatenation.  For example, `\"\"`, `\"()\"`, `\"(())()\"`, and `\"(()(()))\"` are all valid parentheses strings.\n",
    "\n",
    "A valid parentheses string `S` is primitive if it is nonempty, and there does not exist a way to split it into `S = A+B`, with `A` and `B` nonempty valid parentheses strings.\n",
    "\n",
    "Given a valid parentheses string `S`, consider its primitive decomposition: `S = P_1 + P_2 + ... + P_k`, where `P_i` are primitive valid parentheses strings.\n",
    "\n",
    "Return `S` after removing the outermost parentheses of every primitive string in the primitive decomposition of `S`.\n",
    "\n",
    "\n",
    "Example 1:\n",
    "```\n",
    "Input: \"(()())(())\"\n",
    "Output: \"()()()\"\n",
    "Explanation: \n",
    "The input string is \"(()())(())\", with primitive decomposition \"(()())\" + \"(())\".\n",
    "After removing outer parentheses of each part, this is \"()()\" + \"()\" = \"()()()\".\n",
    "```\n",
    "Example 2:\n",
    "```\n",
    "Input: \"(()())(())(()(()))\"\n",
    "Output: \"()()()()(())\"\n",
    "Explanation: \n",
    "The input string is \"(()())(())(()(()))\", with primitive decomposition \"(()())\" + \"(())\" + \"(()(()))\".\n",
    "After removing outer parentheses of each part, this is \"()()\" + \"()\" + \"()(())\" = \"()()()()(())\".\n",
    "```\n",
    "Example 3:\n",
    "```\n",
    "Input: \"()()\"\n",
    "Output: \"\"\n",
    "Explanation: \n",
    "The input string is \"()()\", with primitive decomposition \"()\" + \"()\".\n",
    "After removing outer parentheses of each part, this is \"\" + \"\" = \"\".\n",
    "```\n",
    "\n",
    "Note:\n",
    "```\n",
    "S.length <= 10000\n",
    "S[i] is \"(\" or \")\"\n",
    "S is a valid parentheses string\n",
    "```"
   ]
  },
  {
   "cell_type": "code",
   "execution_count": 50,
   "metadata": {},
   "outputs": [
    {
     "data": {
      "text/plain": [
       "'()()()'"
      ]
     },
     "execution_count": 50,
     "metadata": {},
     "output_type": "execute_result"
    }
   ],
   "source": [
    "class Solution(object):\n",
    "    def removeOuterParentheses(self, S):\n",
    "        res, opened = [], 0\n",
    "        for c in S:\n",
    "            if c == '(' and opened > 0:\n",
    "                res.append(c)\n",
    "            if c == ')' and opened > 1:\n",
    "                res.append(c)\n",
    "            if c == '(':\n",
    "                opened += 1\n",
    "            else:\n",
    "                opened -= 1\n",
    "        return \"\".join(res)\n",
    "\n",
    "o = Solution().removeOuterParentheses(\"(()())(())\")\n",
    "o"
   ]
  },
  {
   "cell_type": "markdown",
   "metadata": {},
   "source": [
    "## 804) Unique Morse Code Words\n",
    "International Morse Code defines a standard encoding where each letter is mapped to a series of dots and dashes, as follows: `\"a\"` maps to `\".-\"`, `\"b\"` maps to `\"-...\"`, `\"c\"` maps to `\"-.-.\"`, and so on.\n",
    "\n",
    "For convenience, the full table for the 26 letters of the English alphabet is given below:\n",
    "```\n",
    "[\".-\",\"-...\",\"-.-.\",\"-..\",\".\",\"..-.\",\"--.\",\"....\",\"..\",\".---\",\"-.-\",\".-..\",\"--\",\"-.\",\"---\",\".--.\",\"--.-\",\".-.\",\"...\",\"-\",\"..-\",\"...-\",\".--\",\"-..-\",\"-.--\",\"--..\"]\n",
    "```\n",
    "Now, given a list of words, each word can be written as a concatenation of the Morse code of each letter. For example, `\"cab\"` can be written as `\"-.-..--...\"`, (which is the concatenation `\"-.-.\"` + `\".-\"` + `\"-...\"`). We'll call such a concatenation, the transformation of a word.\n",
    "\n",
    "Return the number of different transformations among all words we have.\n",
    "\n",
    "Example:\n",
    "```\n",
    "Input: words = [\"gin\", \"zen\", \"gig\", \"msg\"]\n",
    "Output: 2\n",
    "Explanation: \n",
    "The transformation of each word is:\n",
    "\"gin\" -> \"--...-.\"\n",
    "\"zen\" -> \"--...-.\"\n",
    "\"gig\" -> \"--...--.\"\n",
    "\"msg\" -> \"--...--.\"\n",
    "```\n",
    "There are 2 different transformations, `\"--...-.\"` and `\"--...--.\"`.\n",
    "Note:\n",
    "```\n",
    "The length of words will be at most 100.\n",
    "Each words[i] will have length in range [1, 12].\n",
    "words[i] will only consist of lowercase letters.\n",
    "```"
   ]
  },
  {
   "cell_type": "code",
   "execution_count": 108,
   "metadata": {},
   "outputs": [
    {
     "data": {
      "text/plain": [
       "2"
      ]
     },
     "execution_count": 108,
     "metadata": {},
     "output_type": "execute_result"
    }
   ],
   "source": [
    "class Solution(object):\n",
    "    def uniqueMorseRepresentations(self, words):\n",
    "        \"\"\"\n",
    "        :type words: List[str]\n",
    "        :rtype: int\n",
    "        \"\"\"\n",
    "        morse_map = [\".-\",\"-...\",\"-.-.\",\"-..\",\".\",\"..-.\",\"--.\",\"....\",\"..\",\".---\",\"-.-\",\".-..\",\"--\",\"-.\",\"---\",\".--.\",\"--.-\",\".-.\",\"...\",\"-\",\"..-\",\"...-\",\".--\",\"-..-\",\"-.--\",\"--..\"]\n",
    "        li,n = [],[]\n",
    "        for each in words:\n",
    "            li.append([morse_map[ord(c)-97] for c in each])\n",
    "        for each in li:\n",
    "            n.append(''.join(each))\n",
    "        return len(set(n))\n",
    "o = Solution()\n",
    "o.uniqueMorseRepresentations([\"gin\", \"zen\", \"gig\", \"msg\"])"
   ]
  },
  {
   "cell_type": "markdown",
   "metadata": {},
   "source": [
    "## 1816) Truncate Sentence\n",
    "A sentence is a list of words that are separated by a single space with no leading or trailing spaces. Each of the words consists of only uppercase and lowercase English letters (no punctuation).\n",
    "\n",
    "For example, `\"Hello World\"`, `\"HELLO\"`, and `\"hello world hello world\"` are all sentences.\n",
    "You are given a sentence `s` and an integer `k`. You want to truncate `s` such that it contains only the first `k` words. Return `s` after truncating it.\n",
    " \n",
    "\n",
    "Example 1:\n",
    "```\n",
    "Input: s = \"Hello how are you Contestant\", k = 4\n",
    "Output: \"Hello how are you\"\n",
    "Explanation:\n",
    "The words in s are [\"Hello\", \"how\" \"are\", \"you\", \"Contestant\"].\n",
    "The first 4 words are [\"Hello\", \"how\", \"are\", \"you\"].\n",
    "Hence, you should return \"Hello how are you\".\n",
    "```\n",
    "Example 2:\n",
    "```\n",
    "Input: s = \"What is the solution to this problem\", k = 4\n",
    "Output: \"What is the solution\"\n",
    "Explanation:\n",
    "The words in s are [\"What\", \"is\" \"the\", \"solution\", \"to\", \"this\", \"problem\"].\n",
    "The first 4 words are [\"What\", \"is\", \"the\", \"solution\"].\n",
    "Hence, you should return \"What is the solution\".\n",
    "```\n",
    "Example 3:\n",
    "```\n",
    "Input: s = \"chopper is not a tanuki\", k = 5\n",
    "Output: \"chopper is not a tanuki\"\n",
    "```\n",
    "\n",
    "Constraints:\n",
    "```\n",
    "1 <= s.length <= 500\n",
    "k is in the range [1, the number of words in s].\n",
    "s consist of only lowercase and uppercase English letters and spaces.\n",
    "The words in s are separated by a single space.\n",
    "There are no leading or trailing spaces.\n",
    "```"
   ]
  },
  {
   "cell_type": "code",
   "execution_count": 83,
   "metadata": {},
   "outputs": [
    {
     "data": {
      "text/plain": [
       "'Hello how are you Contestant'"
      ]
     },
     "execution_count": 83,
     "metadata": {},
     "output_type": "execute_result"
    }
   ],
   "source": [
    "class Solution(object):\n",
    "    def truncateSentence(self,s,k):\n",
    "        ct_space = 0\n",
    "        sentence = \"\"\n",
    "        for each in s:\n",
    "            sentence+=each\n",
    "            if ord(each) == 32:\n",
    "                k-=1\n",
    "            if k==0:\n",
    "                return sentence[:-1]\n",
    "        return sentence\n",
    "\n",
    "o = Solution().truncateSentence(\"Hello how are you Contestant\", 5)\n",
    "o"
   ]
  },
  {
   "cell_type": "markdown",
   "metadata": {},
   "source": [
    "## 1295) Find Numbers with Even Number of Digits\n",
    "Given an array nums of integers, return how many of them contain an even number of digits.\n",
    " \n",
    "\n",
    "Example 1:\n",
    "```\n",
    "Input: nums = [12,345,2,6,7896]\n",
    "Output: 2\n",
    "Explanation: \n",
    "12 contains 2 digits (even number of digits). \n",
    "345 contains 3 digits (odd number of digits). \n",
    "2 contains 1 digit (odd number of digits). \n",
    "6 contains 1 digit (odd number of digits). \n",
    "7896 contains 4 digits (even number of digits). \n",
    "Therefore only 12 and 7896 contain an even number of digits.\n",
    "```\n",
    "Example 2:\n",
    "```\n",
    "Input: nums = [555,901,482,1771]\n",
    "Output: 1 \n",
    "Explanation: \n",
    "Only 1771 contains an even number of digits.\n",
    "```\n",
    "\n",
    "Constraints:\n",
    "```\n",
    "1 <= nums.length <= 500\n",
    "1 <= nums[i] <= 10^5\n",
    "```"
   ]
  },
  {
   "cell_type": "code",
   "execution_count": 16,
   "metadata": {},
   "outputs": [
    {
     "data": {
      "text/plain": [
       "1"
      ]
     },
     "execution_count": 16,
     "metadata": {},
     "output_type": "execute_result"
    }
   ],
   "source": [
    "import math\n",
    "class Solution(object):\n",
    "    def findNumbers(self, nums):\n",
    "        \"\"\"\n",
    "        :type nums: List[int]\n",
    "        :rtype: int\n",
    "        \"\"\"\n",
    "        c = 0\n",
    "        for each in nums:\n",
    "            if int(math.log10(each))%2==1:\n",
    "                c+=1\n",
    "        return c\n",
    "\n",
    "o = Solution().findNumbers([555,901,482,1771])\n",
    "o"
   ]
  },
  {
   "cell_type": "markdown",
   "metadata": {},
   "source": [
    "## 1252) Cells with Odd Values in a Matrix\n",
    "There is an `m x n` matrix that is initialized to all `0`'s. There is also a 2D array `indices` where each `indices[i] = [ri, ci]` represents a 0-indexed location to perform some increment operations on the matrix.\n",
    "\n",
    "For each location `indices[i]`, do both of the following:\n",
    "\n",
    "1) Increment all the cells on row ri.  \n",
    "2) Increment all the cells on column ci.  \n",
    "Given m, n, and indices, return the number of odd-valued cells in the matrix after applying the increment to all locations in indices.  \n",
    "Example 1:\n",
    "![Matrix1](img/e1.png)\n",
    "```\n",
    "Input: m = 2, n = 3, indices = [[0,1],[1,1]]\n",
    "Output: 6\n",
    "Explanation: Initial matrix = [[0,0,0],[0,0,0]].\n",
    "After applying first increment it becomes [[1,2,1],[0,1,0]].\n",
    "The final matrix is [[1,3,1],[1,3,1]], which contains 6 odd numbers.\n",
    "```\n",
    "Example 2:\n",
    "![Matrix2](img/e2.png)\n",
    "```\n",
    "Input: m = 2, n = 2, indices = [[1,1],[0,0]]\n",
    "Output: 0\n",
    "Explanation: Final matrix = [[2,2],[2,2]]. There are no odd numbers in the final matrix.\n",
    "```\n",
    "Constraints:\n",
    "```\n",
    "1 <= m, n <= 50\n",
    "1 <= indices.length <= 100\n",
    "0 <= ri < m\n",
    "0 <= ci < n\n",
    "```\n",
    "\n",
    "Follow up: Could you solve this in O(n + m + indices.length) time with only O(n + m) extra space?"
   ]
  },
  {
   "cell_type": "code",
   "execution_count": 13,
   "metadata": {},
   "outputs": [],
   "source": [
    "from typing import List\n",
    "class Solution(object):\n",
    "    def oddCells(self, n: int, m: int, indices: List[List[int]]) -> int:\n",
    "        \"\"\"\n",
    "        :type m: int\n",
    "        :type n: int\n",
    "        :type indices: List[List[int]]\n",
    "        :rtype: int\n",
    "        \"\"\"\n",
    "        pass"
   ]
  },
  {
   "cell_type": "code",
   "execution_count": null,
   "metadata": {},
   "outputs": [],
   "source": []
  },
  {
   "cell_type": "markdown",
   "metadata": {},
   "source": [
    "## 832) Flipping an Image\n",
    "Given an `n x n` binary matrix `image`, flip the image horizontally, then invert it, and return the resulting image.\n",
    "\n",
    "To flip an image horizontally means that each row of the image is reversed.\n",
    "\n",
    "For example, flipping `[1,1,0]` horizontally results in `[0,1,1]`.\n",
    "To invert an image means that each `0` is replaced by `1`, and each `1` is replaced by `0`.\n",
    "\n",
    "For example, inverting `[0,1,1]` results in `[1,0,0]`.\n",
    " \n",
    "\n",
    "Example 1:\n",
    "```\n",
    "Input: image = [[1,1,0],[1,0,1],[0,0,0]]\n",
    "Output: [[1,0,0],[0,1,0],[1,1,1]]\n",
    "Explanation: First reverse each row: [[0,1,1],[1,0,1],[0,0,0]].\n",
    "Then, invert the image: [[1,0,0],[0,1,0],[1,1,1]]\n",
    "```\n",
    "Example 2:\n",
    "```\n",
    "Input: image = [[1,1,0,0],[1,0,0,1],[0,1,1,1],[1,0,1,0]]\n",
    "Output: [[1,1,0,0],[0,1,1,0],[0,0,0,1],[1,0,1,0]]\n",
    "Explanation: First reverse each row: [[0,0,1,1],[1,0,0,1],[1,1,1,0],[0,1,0,1]].\n",
    "Then invert the image: [[1,1,0,0],[0,1,1,0],[0,0,0,1],[1,0,1,0]]\n",
    "```\n",
    "\n",
    "Constraints:\n",
    "```\n",
    "n == image.length\n",
    "n == image[i].length\n",
    "1 <= n <= 20\n",
    "images[i][j] is either 0 or 1.\n",
    "```"
   ]
  },
  {
   "cell_type": "code",
   "execution_count": 46,
   "metadata": {},
   "outputs": [
    {
     "data": {
      "text/plain": [
       "[[1, 0, 0], [0, 1, 0], [1, 1, 1]]"
      ]
     },
     "execution_count": 46,
     "metadata": {},
     "output_type": "execute_result"
    }
   ],
   "source": [
    "class Solution(object):\n",
    "    def flipAndInvertImage(self, image):\n",
    "        \"\"\"\n",
    "        :type image: List[List[int]]\n",
    "        :rtype: List[List[int]]\n",
    "        \"\"\"\n",
    "        return [[l[i] ^ 1 for i in range(len(l) - 1, -1, -1)] for l in image]\n",
    "\n",
    "o = Solution().flipAndInvertImage([[1,1,0],[1,0,1],[0,0,0]])\n",
    "o"
   ]
  },
  {
   "cell_type": "markdown",
   "metadata": {},
   "source": [
    "## 1812) Determine Color of a Chessboard Square\n",
    "You are given `coordinates`, a string that represents the coordinates of a square of the chessboard. Below is a chessboard for your reference.\n",
    "\n",
    "Return `true` if the square is white, and `false` if the square is black.\n",
    "\n",
    "The coordinate will always represent a valid chessboard square. The coordinate will always have the letter first, and the number second.  \n",
    "![Chess](img/chess.png)\n",
    "Example 1:\n",
    "```\n",
    "Input: coordinates = \"a1\"\n",
    "Output: false\n",
    "Explanation: From the chessboard above, the square with coordinates \"a1\" is black, so return false.\n",
    "```\n",
    "Example 2:\n",
    "```\n",
    "Input: coordinates = \"h3\"\n",
    "Output: true\n",
    "Explanation: From the chessboard above, the square with coordinates \"h3\" is white, so return true.\n",
    "```\n",
    "Example 3:\n",
    "```\n",
    "Input: coordinates = \"c7\"\n",
    "Output: false\n",
    "```\n",
    "\n",
    "Constraints:\n",
    "```\n",
    "coordinates.length == 2\n",
    "'a' <= coordinates[0] <= 'h'\n",
    "'1' <= coordinates[1] <= '8'\n",
    "```"
   ]
  },
  {
   "cell_type": "code",
   "execution_count": 59,
   "metadata": {},
   "outputs": [
    {
     "data": {
      "text/plain": [
       "True"
      ]
     },
     "execution_count": 59,
     "metadata": {},
     "output_type": "execute_result"
    }
   ],
   "source": [
    "class Solution(object):\n",
    "    def squareIsWhite(self, coordinates):\n",
    "        \"\"\"\n",
    "        :type coordinates: str\n",
    "        :rtype: bool\n",
    "        \"\"\"\n",
    "        alpha_dct = {\"a\":1,\"b\":2,\"c\":3,\"d\":4,\"e\":5,\"f\":6,\"g\":7,\"h\":8}\n",
    "        if (int(alpha_dct.get(coordinates[0])) + int(coordinates[1]))%2==0:\n",
    "            return False\n",
    "        else:\n",
    "            return True\n",
    "\n",
    "o = Solution().squareIsWhite(\"h3\")\n",
    "o"
   ]
  },
  {
   "cell_type": "markdown",
   "metadata": {},
   "source": [
    "## 1725) Number Of Rectangles That Can Form The Largest Square\n",
    "You are given an array `rectangles` where `rectangles[i] = [li, wi]` represents the `ith` rectangle of length `li` and width `wi`.\n",
    "\n",
    "You can cut the `ith` rectangle to form a square with a side length of `k` if both `k <= li` and `k <= wi`. For example, if you have a rectangle `[4,6]`, you can cut it to get a square with a side length of at most `4`.\n",
    "\n",
    "Let `maxLen` be the side length of the largest square you can obtain from any of the given rectangles.\n",
    "\n",
    "Return the number of rectangles that can make a square with a side length of `maxLen`.\n",
    "\n",
    " \n",
    "Example 1:\n",
    "```\n",
    "Input: rectangles = [[5,8],[3,9],[5,12],[16,5]]\n",
    "Output: 3\n",
    "Explanation: The largest squares you can get from each rectangle are of lengths [5,3,5,5].\n",
    "The largest possible square is of length 5, and you can get it out of 3 rectangles.\n",
    "```\n",
    "Example 2:\n",
    "```\n",
    "Input: rectangles = [[2,3],[3,7],[4,3],[3,7]]\n",
    "Output: 3\n",
    "```\n",
    "\n",
    "Constraints:\n",
    "```\n",
    "1 <= rectangles.length <= 1000\n",
    "rectangles[i].length == 2\n",
    "1 <= li, wi <= 109\n",
    "li != wi\n",
    "```"
   ]
  },
  {
   "cell_type": "code",
   "execution_count": 38,
   "metadata": {},
   "outputs": [
    {
     "data": {
      "text/plain": [
       "3"
      ]
     },
     "execution_count": 38,
     "metadata": {},
     "output_type": "execute_result"
    }
   ],
   "source": [
    "class Solution(object):\n",
    "    def countGoodRectangles(self, rectangles):\n",
    "        \"\"\"\n",
    "        :type rectangles: List[List[int]]\n",
    "        :rtype: int\n",
    "        \"\"\"\n",
    "        l,c = [min(x) for x in rectangles],0\n",
    "        max_val = max(l)\n",
    "        for each in l:\n",
    "            if each==max_val:\n",
    "                c+=1\n",
    "        return c\n",
    "\n",
    "o = Solution().countGoodRectangles([[5,8],[3,9],[5,12],[16,5]])\n",
    "o"
   ]
  },
  {
   "cell_type": "code",
   "execution_count": null,
   "metadata": {},
   "outputs": [],
   "source": []
  }
 ],
 "metadata": {
  "kernelspec": {
   "display_name": "Python 3",
   "language": "python",
   "name": "python3"
  },
  "language_info": {
   "codemirror_mode": {
    "name": "ipython",
    "version": 3
   },
   "file_extension": ".py",
   "mimetype": "text/x-python",
   "name": "python",
   "nbconvert_exporter": "python",
   "pygments_lexer": "ipython3",
   "version": "3.7.6"
  }
 },
 "nbformat": 4,
 "nbformat_minor": 4
}
