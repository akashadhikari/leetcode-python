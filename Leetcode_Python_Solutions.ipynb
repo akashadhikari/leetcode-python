{
 "cells": [
  {
   "cell_type": "markdown",
   "metadata": {},
   "source": [
    "# Leetcode Solutions in Python\n",
    "From \"easy\" to \"advance\" algorithm problems based on descending percentage of acceptance on [Leetcode](https://leetcode.com/problemset/algorithms/).  "
   ]
  },
  {
   "cell_type": "markdown",
   "metadata": {},
   "source": [
    "## 1480) Running Sum of 1d Array\n",
    "\n",
    "Given an array `nums`. We define a running sum of an array as `runningSum[i] = sum(nums[0]…nums[i])`.\n",
    "\n",
    "Return the running sum of `nums`.\n",
    "\n",
    "\n",
    "**Example 1:**\n",
    "```\n",
    "Input: nums = [1,2,3,4]\n",
    "Output: [1,3,6,10]\n",
    "Explanation: Running sum is obtained as follows: [1, 1+2, 1+2+3, 1+2+3+4].\n",
    "```\n",
    "**Example 2:**\n",
    "```\n",
    "Input: nums = [1,1,1,1,1]\n",
    "Output: [1,2,3,4,5]\n",
    "Explanation: Running sum is obtained as follows: [1, 1+1, 1+1+1, 1+1+1+1, 1+1+1+1+1].\n",
    "```\n",
    "**Example 3:**\n",
    "```\n",
    "Input: nums = [3,1,2,10,1]\n",
    "Output: [3,4,6,16,17]\n",
    "``` \n",
    "\n",
    "**Constraints:**\n",
    "```\n",
    "1 <= nums.length <= 1000\n",
    "-10^6 <= nums[i] <= 10^6\n",
    "```"
   ]
  },
  {
   "cell_type": "code",
   "execution_count": 1,
   "metadata": {},
   "outputs": [
    {
     "name": "stdout",
     "output_type": "stream",
     "text": [
      "[3, 4, 6, 16, 17]\n"
     ]
    }
   ],
   "source": [
    "class Solution(object):\n",
    "    def runningSum(self, nums):\n",
    "        \"\"\"\n",
    "        :type nums: List[int]\n",
    "        :rtype: List[int]\n",
    "        \"\"\"\n",
    "        t = 0\n",
    "        li = []\n",
    "        for i in nums:\n",
    "            t = t+i\n",
    "            li.append(t)\n",
    "        return li\n",
    "\n",
    "x = Solution()\n",
    "print(x.runningSum([3,1,2,10,1]))"
   ]
  },
  {
   "cell_type": "markdown",
   "metadata": {},
   "source": [
    "## 1108) Defanging an IP Address\n",
    "Given a valid (IPv4) IP `address`, return a defanged version of that IP address.\n",
    "\n",
    "A defanged IP address replaces every period `\".\"` with `\"[.]\"`.\n",
    "\n",
    " \n",
    "\n",
    "**Example 1:**\n",
    "```\n",
    "Input: address = \"1.1.1.1\"\n",
    "Output: \"1[.]1[.]1[.]1\"\n",
    "```\n",
    "**Example 2:**\n",
    "```\n",
    "Input: address = \"255.100.50.0\"\n",
    "Output: \"255[.]100[.]50[.]0\"\n",
    "```\n",
    "\n",
    "**Constraints:**\n",
    "\n",
    "The given `address` is a valid IPv4 address."
   ]
  },
  {
   "cell_type": "code",
   "execution_count": 2,
   "metadata": {},
   "outputs": [
    {
     "name": "stdout",
     "output_type": "stream",
     "text": [
      "255[.]100[.]50[.]0\n"
     ]
    }
   ],
   "source": [
    "class Solution(object):\n",
    "    def defangIPaddr(self, address: str):\n",
    "        \"\"\"\n",
    "        :type address: str\n",
    "        :rtype: str\n",
    "        \"\"\"\n",
    "        return address.replace(\".\", \"[.]\")\n",
    "\n",
    "o = Solution()\n",
    "print(o.defangIPaddr(\"255.100.50.0\"))"
   ]
  },
  {
   "cell_type": "markdown",
   "metadata": {},
   "source": [
    "## 1431) Kids With the Greatest Number of Candies\n",
    "Given the array `candies` and the integer `extraCandies`, where `candies[i]` represents the number of candies that the ith kid has.\n",
    "\n",
    "For each kid check if there is a way to distribute `extraCandies` among the kids such that he or she can have the greatest number of candies among them. Notice that multiple kids can have the greatest number of candies.\n",
    "\n",
    " \n",
    "\n",
    "**Example 1:**\n",
    "```\n",
    "Input: candies = [2,3,5,1,3], extraCandies = 3\n",
    "Output: [true,true,true,false,true] \n",
    "Explanation: \n",
    "Kid 1 has 2 candies and if he or she receives all extra candies (3) will have 5 candies --- the greatest number of candies among the kids. \n",
    "Kid 2 has 3 candies and if he or she receives at least 2 extra candies will have the greatest number of candies among the kids. \n",
    "Kid 3 has 5 candies and this is already the greatest number of candies among the kids. \n",
    "Kid 4 has 1 candy and even if he or she receives all extra candies will only have 4 candies. \n",
    "Kid 5 has 3 candies and if he or she receives at least 2 extra candies will have the greatest number of candies among the kids.\n",
    "```\n",
    "**Example 2:**\n",
    "```\n",
    "Input: candies = [4,2,1,1,2], extraCandies = 1\n",
    "Output: [true,false,false,false,false] \n",
    "Explanation: There is only 1 extra candy, therefore only kid 1 will have the greatest number of candies among the kids regardless of who takes the extra candy.\n",
    "```\n",
    "**Example 3:**\n",
    "```\n",
    "Input: candies = [12,1,12], extraCandies = 10\n",
    "Output: [true,false,true]\n",
    "```\n",
    " \n",
    "\n",
    "**Constraints:**\n",
    "```\n",
    "2 <= candies.length <= 100\n",
    "1 <= candies[i] <= 100\n",
    "1 <= extraCandies <= 50\n",
    "```"
   ]
  },
  {
   "cell_type": "code",
   "execution_count": 3,
   "metadata": {},
   "outputs": [
    {
     "name": "stdout",
     "output_type": "stream",
     "text": [
      "[True, True, True, False, True]\n"
     ]
    }
   ],
   "source": [
    "class Solution(object):\n",
    "    def kidsWithCandies(self, candies, extraCandies):\n",
    "        \"\"\"\n",
    "        :type candies: List[int]\n",
    "        :type extraCandies: int\n",
    "        :rtype: List[bool]\n",
    "        \"\"\"\n",
    "        li = []\n",
    "        for each in range(0, len(candies)):\n",
    "            if candies[each]+extraCandies >= max(candies):\n",
    "                li.append(True)\n",
    "            else:\n",
    "                li.append(False)\n",
    "        return li\n",
    "\n",
    "o = Solution()\n",
    "print(o.kidsWithCandies([2,3,5,1,3], 3))"
   ]
  },
  {
   "cell_type": "markdown",
   "metadata": {},
   "source": [
    "### Alternate Solution"
   ]
  },
  {
   "cell_type": "code",
   "execution_count": 4,
   "metadata": {},
   "outputs": [
    {
     "name": "stdout",
     "output_type": "stream",
     "text": [
      "[True, True, True, False, True]\n"
     ]
    }
   ],
   "source": [
    "class Solution(object):\n",
    "    def kidsWithCandies(self, candies, extraCandies):\n",
    "        check=max(candies)-extraCandies\n",
    "        return [candy>=check for candy in candies]\n",
    "\n",
    "o = Solution()\n",
    "print(o.kidsWithCandies([2,3,5,1,3], 3))"
   ]
  },
  {
   "cell_type": "markdown",
   "metadata": {},
   "source": [
    "## 1672) Richest Customer Wealth  \n",
    "You are given an `m x n` integer grid `accounts` where `accounts[i][j]` is the amount of money the `ith` customer has in the `jth` bank. Return the wealth that the richest customer has.\n",
    "\n",
    "A customer's wealth is the amount of money they have in all their bank accounts. The richest customer is the customer that has the maximum wealth.\n",
    "\n",
    " \n",
    "\n",
    "**Example 1:**\n",
    "```\n",
    "Input: accounts = [[1,2,3],[3,2,1]]\n",
    "Output: 6\n",
    "Explanation:\n",
    "1st customer has wealth = 1 + 2 + 3 = 6\n",
    "2nd customer has wealth = 3 + 2 + 1 = 6\n",
    "Both customers are considered the richest with a wealth of 6 each, so return 6.\n",
    "```\n",
    "**Example 2:**\n",
    "```\n",
    "Input: accounts = [[1,5],[7,3],[3,5]]\n",
    "Output: 10\n",
    "Explanation: \n",
    "1st customer has wealth = 6\n",
    "2nd customer has wealth = 10 \n",
    "3rd customer has wealth = 8\n",
    "The 2nd customer is the richest with a wealth of 10.\n",
    "```\n",
    "**Example 3:**\n",
    "```\n",
    "Input: accounts = [[2,8,7],[7,1,3],[1,9,5]]\n",
    "Output: 17\n",
    "```\n",
    "\n",
    "**Constraints:**\n",
    "```\n",
    "m == accounts.length\n",
    "n == accounts[i].length\n",
    "1 <= m, n <= 50\n",
    "1 <= accounts[i][j] <= 100\n",
    "```"
   ]
  },
  {
   "cell_type": "code",
   "execution_count": 5,
   "metadata": {},
   "outputs": [
    {
     "name": "stdout",
     "output_type": "stream",
     "text": [
      "10\n"
     ]
    }
   ],
   "source": [
    "class Solution(object):\n",
    "    def maximumWealth(self, accounts):\n",
    "        \"\"\"\n",
    "        :type accounts: List[List[int]]\n",
    "        :rtype: int\n",
    "        \"\"\"\n",
    "        li = []\n",
    "        for i in range(0, len(accounts)):\n",
    "            li.append(sum(accounts[i]))\n",
    "        return max(li)\n",
    "\n",
    "o = Solution()\n",
    "print(o.maximumWealth([[1,5],[7,3],[3,5]]))"
   ]
  },
  {
   "cell_type": "markdown",
   "metadata": {},
   "source": [
    "### Alternate Solution"
   ]
  },
  {
   "cell_type": "code",
   "execution_count": 6,
   "metadata": {},
   "outputs": [
    {
     "name": "stdout",
     "output_type": "stream",
     "text": [
      "10\n"
     ]
    }
   ],
   "source": [
    "class Solution(object):\n",
    "    def maximumWealth(self, accounts):\n",
    "        \"\"\"\n",
    "        :type accounts: List[List[int]]\n",
    "        :rtype: int\n",
    "        \"\"\"\n",
    "        return max([sum(acc) for acc in accounts])\n",
    "    \n",
    "o = Solution()\n",
    "print(o.maximumWealth([[1,5],[7,3],[3,5]]))"
   ]
  },
  {
   "cell_type": "code",
   "execution_count": 7,
   "metadata": {},
   "outputs": [
    {
     "name": "stdout",
     "output_type": "stream",
     "text": [
      "10\n"
     ]
    }
   ],
   "source": [
    "class Solution(object):\n",
    "    def maximumWealth(self, accounts):\n",
    "        \"\"\"\n",
    "        :type accounts: List[List[int]]\n",
    "        :rtype: int\n",
    "        \"\"\"\n",
    "        return max(map(sum,accounts))\n",
    "    \n",
    "o = Solution()\n",
    "print(o.maximumWealth([[1,5],[7,3],[3,5]]))"
   ]
  },
  {
   "cell_type": "markdown",
   "metadata": {},
   "source": [
    "## 1470) Shuffle the Array\n",
    "Given the array `nums` consisting of `2n` elements in the form `[x1,x2,...,xn,y1,y2,...,yn]`.\n",
    "\n",
    "Return the array in the form `[x1,y1,x2,y2,...,xn,yn]`.\n",
    "\n",
    " \n",
    "\n",
    "Example 1:\n",
    "```\n",
    "Input: nums = [2,5,1,3,4,7], n = 3\n",
    "Output: [2,3,5,4,1,7] \n",
    "Explanation: Since x1=2, x2=5, x3=1, y1=3, y2=4, y3=7 then the answer is [2,3,5,4,1,7].\n",
    "```\n",
    "Example 2:\n",
    "```\n",
    "Input: nums = [1,2,3,4,4,3,2,1], n = 4\n",
    "Output: [1,4,2,3,3,2,4,1]\n",
    "```\n",
    "Example 3:\n",
    "```\n",
    "Input: nums = [1,1,2,2], n = 2\n",
    "Output: [1,2,1,2]\n",
    "```\n",
    "\n",
    "Constraints:\n",
    "```\n",
    "1 <= n <= 500\n",
    "nums.length == 2n\n",
    "1 <= nums[i] <= 10^3\n",
    "```"
   ]
  },
  {
   "cell_type": "code",
   "execution_count": 8,
   "metadata": {},
   "outputs": [
    {
     "name": "stdout",
     "output_type": "stream",
     "text": [
      "[1, 4, 2, 3, 3, 2, 4, 1]\n"
     ]
    }
   ],
   "source": [
    "class Solution(object):\n",
    "    def shuffle(self, nums, n):\n",
    "        \"\"\"\n",
    "        :type nums: List[int]\n",
    "        :type n: int\n",
    "        :rtype: List[int]\n",
    "        \"\"\"\n",
    "        length = 2*n\n",
    "        li = []\n",
    "        for i in range(0, length):\n",
    "            if i%2 == 0:\n",
    "                li.append(nums[int(i/2)])\n",
    "            else:\n",
    "                li.append(nums[n])\n",
    "                n = n+1\n",
    "                \n",
    "        return li\n",
    "\n",
    "o = Solution()\n",
    "print(o.shuffle([1,2,3,4,4,3,2,1], 4))"
   ]
  },
  {
   "cell_type": "markdown",
   "metadata": {},
   "source": [
    "## 1512) Number of Good Pairs\n",
    "Given an array of integers nums.\n",
    "\n",
    "A pair `(i,j)` is called good if `nums[i] == nums[j]` and `i < j`.\n",
    "\n",
    "Return the number of good pairs.\n",
    "\n",
    " \n",
    "\n",
    "Example 1:\n",
    "```\n",
    "Input: nums = [1,2,3,1,1,3]\n",
    "Output: 4\n",
    "Explanation: There are 4 good pairs (0,3), (0,4), (3,4), (2,5) 0-indexed.\n",
    "```\n",
    "Example 2:\n",
    "```\n",
    "Input: nums = [1,1,1,1]\n",
    "Output: 6\n",
    "Explanation: Each pair in the array are good.\n",
    "```\n",
    "Example 3:\n",
    "```\n",
    "Input: nums = [1,2,3]\n",
    "Output: 0\n",
    "```\n",
    "\n",
    "Constraints:\n",
    "```\n",
    "1 <= nums.length <= 100\n",
    "1 <= nums[i] <= 100\n",
    "```"
   ]
  },
  {
   "cell_type": "code",
   "execution_count": 9,
   "metadata": {},
   "outputs": [
    {
     "name": "stdout",
     "output_type": "stream",
     "text": [
      "6\n"
     ]
    }
   ],
   "source": [
    "class Solution(object):\n",
    "    def numIdenticalPairs(self, nums):\n",
    "        \"\"\"\n",
    "        :type nums: List[int]\n",
    "        :rtype: int\n",
    "        \"\"\"\n",
    "        c = 0\n",
    "        for i in range(0, len(nums)):\n",
    "            for j in range(0, i):\n",
    "                if nums[i] == nums[j]:\n",
    "                    c = c+1\n",
    "        return c\n",
    "                    \n",
    "\n",
    "o = Solution()\n",
    "print(o.numIdenticalPairs([1,1,1,1]))"
   ]
  },
  {
   "cell_type": "markdown",
   "metadata": {},
   "source": [
    "## 1769) Minimum Number of Operations to Move All Balls to Each Box\n",
    "You have `n` boxes. You are given a binary string boxes of length `n`, where `boxes[i]` is `'0'` if the `ith` box is empty, and `'1'` if it contains one ball.\n",
    "\n",
    "In one operation, you can move one ball from a box to an adjacent box. Box `i` is adjacent to box `j` if `abs(i - j) == 1`. Note that after doing so, there may be more than one ball in some boxes.\n",
    "\n",
    "Return an array answer of size `n`, where `answer[i]` is the minimum number of operations needed to move all the balls to the `ith` box.\n",
    "\n",
    "Each `answer[i]` is calculated considering the initial state of the boxes.\n",
    "\n",
    " \n",
    "\n",
    "Example 1:\n",
    "```\n",
    "Input: boxes = \"110\"\n",
    "Output: [1,1,3]\n",
    "Explanation: The answer for each box is as follows:\n",
    "1) First box: you will have to move one ball from the second box to the first box in one operation.\n",
    "2) Second box: you will have to move one ball from the first box to the second box in one operation.\n",
    "3) Third box: you will have to move one ball from the first box to the third box in two operations, and move one ball from the second box to the third box in one operation.\n",
    "```\n",
    "Example 2:\n",
    "```\n",
    "Input: boxes = \"001011\"\n",
    "Output: [11,8,5,4,3,4]\n",
    "```\n",
    "\n",
    "Constraints:\n",
    "```\n",
    "n == boxes.length\n",
    "1 <= n <= 2000\n",
    "boxes[i] is either '0' or '1'.\n",
    "```"
   ]
  },
  {
   "cell_type": "code",
   "execution_count": 10,
   "metadata": {},
   "outputs": [
    {
     "data": {
      "text/plain": [
       "[11, 8, 5, 4, 3, 4]"
      ]
     },
     "execution_count": 10,
     "metadata": {},
     "output_type": "execute_result"
    }
   ],
   "source": [
    "class Solution(object):\n",
    "    def minOperations(self, boxes):\n",
    "        \"\"\"\n",
    "        :type boxes: str\n",
    "        :rtype: List[int]\n",
    "        \"\"\"\n",
    "        answer = []\n",
    "        for i in range(0, len(boxes)):\n",
    "            diff = 0\n",
    "            for j in range(0, len(boxes)):\n",
    "                if boxes[j] == '1':\n",
    "                    diff = diff+abs(i-j)\n",
    "            answer.append(diff)\n",
    "        return answer\n",
    "\n",
    "\n",
    "o = Solution()\n",
    "o.minOperations(\"001011\")"
   ]
  },
  {
   "cell_type": "markdown",
   "metadata": {},
   "source": [
    "## 771) Jewels and Stones\n",
    "\n",
    "You're given strings `jewels` representing the types of stones that are jewels, and `stones` representing the stones you have. Each character in `stones` is a type of stone you have. You want to know how many of the stones you have are also jewels.\n",
    "\n",
    "Letters are case sensitive, so `\"a\"` is considered a different type of stone from `\"A\"`.\n",
    "\n",
    " \n",
    "\n",
    "Example 1:\n",
    "```\n",
    "Input: jewels = \"aA\", stones = \"aAAbbbb\"\n",
    "Output: 3\n",
    "```\n",
    "Example 2:\n",
    "```\n",
    "Input: jewels = \"z\", stones = \"ZZ\"\n",
    "Output: 0\n",
    "```\n",
    "\n",
    "Constraints:\n",
    "```\n",
    "1 <= jewels.length, stones.length <= 50\n",
    "jewels and stones consist of only English letters.\n",
    "All the characters of jewels are unique.\n",
    "```"
   ]
  },
  {
   "cell_type": "code",
   "execution_count": 11,
   "metadata": {},
   "outputs": [
    {
     "data": {
      "text/plain": [
       "3"
      ]
     },
     "execution_count": 11,
     "metadata": {},
     "output_type": "execute_result"
    }
   ],
   "source": [
    "class Solution(object):\n",
    "    def numJewelsInStones(self, jewels, stones):\n",
    "        \"\"\"\n",
    "        :type jewels: str\n",
    "        :type stones: str\n",
    "        :rtype: int\n",
    "        \"\"\"\n",
    "        ct = 0\n",
    "        for each in jewels:\n",
    "            for x in stones:\n",
    "                if x==each:\n",
    "                    ct+=1\n",
    "        return ct\n",
    "\n",
    "o = Solution()\n",
    "o.numJewelsInStones('aA', 'aAAbbbb')"
   ]
  },
  {
   "cell_type": "markdown",
   "metadata": {},
   "source": [
    "## 1603) Design Parking System\n",
    "Design a parking system for a parking lot. The parking lot has three kinds of parking spaces: big, medium, and small, with a fixed number of slots for each size.\n",
    "\n",
    "Implement the `ParkingSystem` class:\n",
    "\n",
    "`ParkingSystem(int big, int medium, int small)` Initializes object of the `ParkingSystem` class. The number of slots for each parking space are given as part of the constructor.\n",
    "`bool addCar(int carType)` Checks whether there is a parking space of `carType` for the car that wants to get into the parking lot. `carType` can be of three kinds: big, medium, or small, which are represented by `1`, `2`, and `3` respectively. A car can only park in a parking space of its `carType`. If there is no space available, return `false`, else park the car in that size space and return `true`.\n",
    " \n",
    "\n",
    "Example 1:\n",
    "```\n",
    "Input\n",
    "[\"ParkingSystem\", \"addCar\", \"addCar\", \"addCar\", \"addCar\"]\n",
    "[[1, 1, 0], [1], [2], [3], [1]]\n",
    "Output\n",
    "[null, true, true, false, false]\n",
    "\n",
    "Explanation\n",
    "ParkingSystem parkingSystem = new ParkingSystem(1, 1, 0);\n",
    "parkingSystem.addCar(1); // return true because there is 1 available slot for a big car\n",
    "parkingSystem.addCar(2); // return true because there is 1 available slot for a medium car\n",
    "parkingSystem.addCar(3); // return false because there is no available slot for a small car\n",
    "parkingSystem.addCar(1); // return false because there is no available slot for a big car. It is already occupied.\n",
    "``` \n",
    "\n",
    "Constraints:\n",
    "```\n",
    "0 <= big, medium, small <= 1000\n",
    "carType is 1, 2, or 3\n",
    "At most 1000 calls will be made to addCar\n",
    "```"
   ]
  },
  {
   "cell_type": "code",
   "execution_count": 12,
   "metadata": {},
   "outputs": [],
   "source": [
    "class ParkingSystem(object):\n",
    "\n",
    "    def __init__(self, big, medium, small):\n",
    "        \"\"\"\n",
    "        :type big: int\n",
    "        :type medium: int\n",
    "        :type small: int\n",
    "        \"\"\"\n",
    "        self.big = big\n",
    "        self.medium = medium\n",
    "        self.small = small\n",
    "\n",
    "\n",
    "    def addCar(self, carType):\n",
    "        \"\"\"\n",
    "        :type carType: int\n",
    "        :rtype: bool\n",
    "        \"\"\"\n",
    "        if carType==1 and self.big > 0:\n",
    "            self.big -= 1\n",
    "            return True\n",
    "        elif carType==2 and self.medium > 0:\n",
    "            self.medium -= 1\n",
    "            return True\n",
    "        elif carType==3 and self.small > 0:\n",
    "            self.small -= 1\n",
    "            return True\n",
    "        else:\n",
    "            return False\n",
    "    \n",
    "o = ParkingSystem(1,1,0)\n",
    "c1 = o.addCar(1)\n",
    "c2 = o.addCar(1)\n",
    "c3 = o.addCar(2)\n",
    "c4 = o.addCar(2)\n",
    "c5 = o.addCar(3)\n",
    "\n",
    "# Your ParkingSystem object will be instantiated and called as such:\n",
    "# obj = ParkingSystem(big, medium, small)\n",
    "# param_1 = obj.addCar(carType)"
   ]
  },
  {
   "cell_type": "markdown",
   "metadata": {},
   "source": [
    "## 1365) How Many Numbers Are Smaller Than the Current Number\n",
    "Given the array `nums`, for each `nums[i]` find out how many numbers in the array are smaller than it. That is, for each `nums[i]` you have to count the number of valid `j's` such that `j != i` and `nums[j] < nums[i]`.\n",
    "\n",
    "Return the answer in an array.\n",
    "\n",
    " \n",
    "\n",
    "Example 1:\n",
    "```\n",
    "Input: nums = [8,1,2,2,3]\n",
    "Output: [4,0,1,1,3]\n",
    "Explanation: \n",
    "For nums[0]=8 there exist four smaller numbers than it (1, 2, 2 and 3). \n",
    "For nums[1]=1 does not exist any smaller number than it.\n",
    "For nums[2]=2 there exist one smaller number than it (1). \n",
    "For nums[3]=2 there exist one smaller number than it (1). \n",
    "For nums[4]=3 there exist three smaller numbers than it (1, 2 and 2).\n",
    "```\n",
    "Example 2:\n",
    "```\n",
    "Input: nums = [6,5,4,8]\n",
    "Output: [2,1,0,3]\n",
    "```\n",
    "Example 3:\n",
    "```\n",
    "Input: nums = [7,7,7,7]\n",
    "Output: [0,0,0,0]\n",
    "``` \n",
    "\n",
    "Constraints:\n",
    "```\n",
    "2 <= nums.length <= 500\n",
    "0 <= nums[i] <= 100\n",
    "```"
   ]
  },
  {
   "cell_type": "code",
   "execution_count": 13,
   "metadata": {},
   "outputs": [
    {
     "data": {
      "text/plain": [
       "[4, 0, 1, 1, 3]"
      ]
     },
     "execution_count": 13,
     "metadata": {},
     "output_type": "execute_result"
    }
   ],
   "source": [
    "class Solution(object):\n",
    "    def smallerNumbersThanCurrent(self, nums):\n",
    "        \"\"\"\n",
    "        :type nums: List[int]\n",
    "        :rtype: List[int]\n",
    "        \"\"\"\n",
    "        li = []\n",
    "        for x in range(0, len(nums)):\n",
    "            c = 0\n",
    "            for y in range(0, len(nums)):\n",
    "                if nums[x] > nums[y]:\n",
    "                    c+=1\n",
    "            li.append(c)\n",
    "        return li\n",
    "\n",
    "o = Solution()\n",
    "o.smallerNumbersThanCurrent([8,1,2,2,3])"
   ]
  },
  {
   "cell_type": "markdown",
   "metadata": {},
   "source": [
    "The above solution is a bit slow. We can implement it through sorting."
   ]
  },
  {
   "cell_type": "markdown",
   "metadata": {},
   "source": [
    "## 1342) Number of Steps to Reduce a Number to Zero\n",
    "Given a non-negative integer `num`, return the number of steps to reduce it to zero. If the current number is even, you have to divide it by 2, otherwise, you have to subtract 1 from it.\n",
    " \n",
    "\n",
    "Example 1:\n",
    "```\n",
    "Input: num = 14\n",
    "Output: 6\n",
    "Explanation: \n",
    "Step 1) 14 is even; divide by 2 and obtain 7. \n",
    "Step 2) 7 is odd; subtract 1 and obtain 6.\n",
    "Step 3) 6 is even; divide by 2 and obtain 3. \n",
    "Step 4) 3 is odd; subtract 1 and obtain 2. \n",
    "Step 5) 2 is even; divide by 2 and obtain 1. \n",
    "Step 6) 1 is odd; subtract 1 and obtain 0.\n",
    "```\n",
    "Example 2:\n",
    "```\n",
    "Input: num = 8\n",
    "Output: 4\n",
    "Explanation: \n",
    "Step 1) 8 is even; divide by 2 and obtain 4. \n",
    "Step 2) 4 is even; divide by 2 and obtain 2. \n",
    "Step 3) 2 is even; divide by 2 and obtain 1. \n",
    "Step 4) 1 is odd; subtract 1 and obtain 0.\n",
    "```\n",
    "Example 3:\n",
    "```\n",
    "Input: num = 123\n",
    "Output: 12\n",
    "```\n",
    "\n",
    "Constraints:\n",
    "```\n",
    "0 <= num <= 10^6\n",
    "```"
   ]
  },
  {
   "cell_type": "code",
   "execution_count": 14,
   "metadata": {},
   "outputs": [
    {
     "data": {
      "text/plain": [
       "6"
      ]
     },
     "execution_count": 14,
     "metadata": {},
     "output_type": "execute_result"
    }
   ],
   "source": [
    "class Solution(object):\n",
    "    def numberOfSteps (self, num):\n",
    "        \"\"\"\n",
    "        :type num: int\n",
    "        :rtype: int\n",
    "        \"\"\"\n",
    "        c = 0\n",
    "        while num!=0:\n",
    "            if num%2==0:\n",
    "                num/=2\n",
    "            else:\n",
    "                num-=1\n",
    "            c+=1\n",
    "        return c\n",
    "o = Solution()\n",
    "o.numberOfSteps(14)"
   ]
  },
  {
   "cell_type": "markdown",
   "metadata": {},
   "source": [
    "## 1528) Shuffle String\n",
    "Given a string `s` and an integer array `indices` of the same length.\n",
    "\n",
    "The string `s` will be shuffled such that the character at the `ith` position moves to `indices[i]` in the shuffled string.\n",
    "\n",
    "Return the shuffled string.\n",
    "\n",
    "\n",
    "Example 1:\n",
    "```\n",
    "Input: s = \"codeleet\", indices = [4,5,6,7,0,2,1,3]\n",
    "Output: \"leetcode\"\n",
    "Explanation: As shown, \"codeleet\" becomes \"leetcode\" after shuffling.\n",
    "```\n",
    "Example 2:\n",
    "```\n",
    "Input: s = \"abc\", indices = [0,1,2]\n",
    "Output: \"abc\"\n",
    "Explanation: After shuffling, each character remains in its position.\n",
    "```\n",
    "Example 3:\n",
    "```\n",
    "Input: s = \"aiohn\", indices = [3,1,4,2,0]\n",
    "Output: \"nihao\"\n",
    "```\n",
    "Example 4:\n",
    "```\n",
    "Input: s = \"aaiougrt\", indices = [4,0,2,6,7,3,1,5]\n",
    "Output: \"arigatou\"\n",
    "```\n",
    "Example 5:\n",
    "```\n",
    "Input: s = \"art\", indices = [1,0,2]\n",
    "Output: \"rat\"\n",
    "```\n",
    "\n",
    "Constraints:\n",
    "```\n",
    "s.length == indices.length == n\n",
    "1 <= n <= 100\n",
    "s contains only lower-case English letters.\n",
    "0 <= indices[i] < n\n",
    "All values of indices are unique (i.e. indices is a permutation of the integers from 0 to n - 1).\n",
    "```"
   ]
  },
  {
   "cell_type": "code",
   "execution_count": 15,
   "metadata": {},
   "outputs": [
    {
     "data": {
      "text/plain": [
       "'arigatou'"
      ]
     },
     "execution_count": 15,
     "metadata": {},
     "output_type": "execute_result"
    }
   ],
   "source": [
    "class Solution(object):\n",
    "    def restoreString(self, s, indices):\n",
    "        \"\"\"\n",
    "        :type s: str\n",
    "        :type indices: List[int]\n",
    "        :rtype: str\n",
    "        \"\"\"\n",
    "        dct = {}\n",
    "        counter = 0\n",
    "        for each in indices:\n",
    "            dct[each] = s[counter]\n",
    "            counter+=1\n",
    "        final_str = \"\"\n",
    "        for dct_key in range(0, counter):\n",
    "            final_str+=dct.get(dct_key)\n",
    "        return final_str\n",
    "o = Solution()\n",
    "o.restoreString(\"aaiougrt\", [4,0,2,6,7,3,1,5])"
   ]
  },
  {
   "cell_type": "markdown",
   "metadata": {},
   "source": [
    "## 1281) Subtract the Product and Sum of Digits of an Integer\n",
    "Given an integer number `n`, return the difference between the product of its digits and the sum of its digits.\n",
    " \n",
    "\n",
    "Example 1:\n",
    "```\n",
    "Input: n = 234\n",
    "Output: 15 \n",
    "Explanation: \n",
    "Product of digits = 2 * 3 * 4 = 24 \n",
    "Sum of digits = 2 + 3 + 4 = 9 \n",
    "Result = 24 - 9 = 15\n",
    "```\n",
    "Example 2:\n",
    "```\n",
    "Input: n = 4421\n",
    "Output: 21\n",
    "Explanation: \n",
    "Product of digits = 4 * 4 * 2 * 1 = 32 \n",
    "Sum of digits = 4 + 4 + 2 + 1 = 11 \n",
    "Result = 32 - 11 = 21\n",
    "```\n",
    "\n",
    "Constraints:\n",
    "```\n",
    "1 <= n <= 10^5\n",
    "```"
   ]
  },
  {
   "cell_type": "markdown",
   "metadata": {},
   "source": [
    "### Performance of the below solution:  \n",
    "Runtime: 12 ms (**Better than 92.40%**)  <span style=\"color:green\"> <b>Good</b></span>  \n",
    "Memory Usage: 13.5 MB (**Better than 39.88%**)"
   ]
  },
  {
   "cell_type": "code",
   "execution_count": 16,
   "metadata": {},
   "outputs": [
    {
     "data": {
      "text/plain": [
       "21"
      ]
     },
     "execution_count": 16,
     "metadata": {},
     "output_type": "execute_result"
    }
   ],
   "source": [
    "class Solution(object):\n",
    "    def subtractProductAndSum(self, n):\n",
    "        \"\"\"\n",
    "        :type n: int\n",
    "        :rtype: int\n",
    "        \"\"\"\n",
    "        mul=1\n",
    "        li=[]\n",
    "        for each in str(n):\n",
    "            li.append(int(each))\n",
    "            mul*=int(each)\n",
    "        addition = sum(li)\n",
    "\n",
    "        return mul-addition\n",
    "        \n",
    "o = Solution()\n",
    "o.subtractProductAndSum(4421)"
   ]
  },
  {
   "cell_type": "markdown",
   "metadata": {},
   "source": [
    "## 1313) Decompress Run-Length Encoded List\n",
    "We are given a list `nums` of integers representing a list compressed with run-length encoding.\n",
    "\n",
    "Consider each adjacent pair of elements `[freq, val] = [nums[2*i], nums[2*i+1]]` (with `i >= 0`).  For each such pair, there are `freq` elements with value `val` concatenated in a sublist. Concatenate all the sublists from left to right to generate the decompressed list.\n",
    "\n",
    "Return the decompressed list.\n",
    "\n",
    " \n",
    "\n",
    "Example 1:\n",
    "```\n",
    "Input: nums = [1,2,3,4]\n",
    "Output: [2,4,4,4]\n",
    "Explanation: The first pair [1,2] means we have freq = 1 and val = 2 so we generate the array [2].\n",
    "The second pair [3,4] means we have freq = 3 and val = 4 so we generate [4,4,4].\n",
    "At the end the concatenation [2] + [4,4,4] is [2,4,4,4].\n",
    "```\n",
    "Example 2:\n",
    "```\n",
    "Input: nums = [1,1,2,3]\n",
    "Output: [1,3,3]\n",
    "```\n",
    "\n",
    "Constraints:\n",
    "```\n",
    "2 <= nums.length <= 100\n",
    "nums.length % 2 == 0\n",
    "1 <= nums[i] <= 100\n",
    "```"
   ]
  },
  {
   "cell_type": "code",
   "execution_count": 17,
   "metadata": {},
   "outputs": [
    {
     "data": {
      "text/plain": [
       "[1, 3, 3]"
      ]
     },
     "execution_count": 17,
     "metadata": {},
     "output_type": "execute_result"
    }
   ],
   "source": [
    "from typing import List\n",
    "class Solution:\n",
    "    def decompressRLElist(self, nums: List[int]) -> List[int]:\n",
    "        li = []\n",
    "        for i in range(0, len(nums), 2):\n",
    "            li += [nums[i+1]]*nums[i]\n",
    "        return li\n",
    "o = Solution()\n",
    "o.decompressRLElist([1,1,2,3])"
   ]
  },
  {
   "cell_type": "markdown",
   "metadata": {},
   "source": [
    "## 1773) Count Items Matching a Rule\n",
    "You are given an array `items`, where each `items[i] = [typei, colori, namei]` describes the type, color, and name of the `ith` item. You are also given a rule represented by two strings, `ruleKey` and `ruleValue`.\n",
    "\n",
    "The `ith` item is said to match the rule if one of the following is true:\n",
    "\n",
    "`ruleKey == \"type\"` and `ruleValue == typei`.  \n",
    "`ruleKey == \"color\"` and `ruleValue == colori`.  \n",
    "`ruleKey == \"name\"` and `ruleValue == namei`.  \n",
    "Return the number of items that match the given rule.\n",
    "\n",
    " \n",
    "\n",
    "Example 1:\n",
    "```\n",
    "Input: items = [[\"phone\",\"blue\",\"pixel\"],[\"computer\",\"silver\",\"lenovo\"],[\"phone\",\"gold\",\"iphone\"]], ruleKey = \"color\", ruleValue = \"silver\"\n",
    "Output: 1\n",
    "Explanation: There is only one item matching the given rule, which is [\"computer\",\"silver\",\"lenovo\"].\n",
    "```\n",
    "Example 2:\n",
    "```\n",
    "Input: items = [[\"phone\",\"blue\",\"pixel\"],[\"computer\",\"silver\",\"phone\"],[\"phone\",\"gold\",\"iphone\"]], ruleKey = \"type\", ruleValue = \"phone\"\n",
    "Output: 2\n",
    "Explanation: There are only two items matching the given rule, which are [\"phone\",\"blue\",\"pixel\"] and [\"phone\",\"gold\",\"iphone\"]. Note that the item [\"computer\",\"silver\",\"phone\"] does not match.\n",
    "``` \n",
    "\n",
    "Constraints:\n",
    "```\n",
    "1 <= items.length <= 104\n",
    "1 <= typei.length, colori.length, namei.length, ruleValue.length <= 10\n",
    "ruleKey is equal to either \"type\", \"color\", or \"name\".\n",
    "All strings consist only of lowercase letters.\n",
    "```"
   ]
  },
  {
   "cell_type": "code",
   "execution_count": 18,
   "metadata": {},
   "outputs": [
    {
     "data": {
      "text/plain": [
       "1"
      ]
     },
     "execution_count": 18,
     "metadata": {},
     "output_type": "execute_result"
    }
   ],
   "source": [
    "class Solution(object):\n",
    "    def countMatches(self,items,ruleKey,ruleValue):\n",
    "        ruleDct={\n",
    "            \"type\":0,\n",
    "            \"color\":1,\n",
    "            \"name\":2\n",
    "        }\n",
    "        ct=0\n",
    "        for i in items:\n",
    "            if i[ruleDct[ruleKey]]==ruleValue:\n",
    "                ct+=1\n",
    "        return ct\n",
    "\n",
    "o = Solution()\n",
    "o.countMatches([[\"phone\",\"blue\",\"pixel\"],[\"computer\",\"silver\",\"lenovo\"],[\"phone\",\"gold\",\"iphone\"]],\"color\",\"silver\")"
   ]
  },
  {
   "cell_type": "markdown",
   "metadata": {},
   "source": [
    "## 1720) Decode XORed Array\n",
    "There is a hidden integer array `arr` that consists of `n` non-negative integers.\n",
    "\n",
    "It was encoded into another integer array encoded of length `n - 1`, such that `encoded[i] = arr[i] XOR arr[i + 1]`. For example, if `arr = [1,0,2,1]`, then `encoded = [1,2,3]`.\n",
    "\n",
    "You are given the `encoded` array. You are also given an integer `first`, that is the first element of `arr`, i.e. `arr[0]`.\n",
    "\n",
    "Return the original array `arr`. It can be proved that the answer exists and is unique.\n",
    "\n",
    " \n",
    "\n",
    "Example 1:\n",
    "```\n",
    "Input: encoded = [1,2,3], first = 1\n",
    "Output: [1,0,2,1]\n",
    "Explanation: If arr = [1,0,2,1], then first = 1 and encoded = [1 XOR 0, 0 XOR 2, 2 XOR 1] = [1,2,3]\n",
    "```\n",
    "Example 2:\n",
    "```\n",
    "Input: encoded = [6,2,7,3], first = 4\n",
    "Output: [4,2,0,7,4]\n",
    "```\n",
    "\n",
    "Constraints:\n",
    "```\n",
    "2 <= n <= 104\n",
    "encoded.length == n - 1\n",
    "0 <= encoded[i] <= 105\n",
    "0 <= first <= 105\n",
    "```"
   ]
  },
  {
   "cell_type": "code",
   "execution_count": 19,
   "metadata": {},
   "outputs": [
    {
     "data": {
      "text/plain": [
       "[1, 0, 2, 1]"
      ]
     },
     "execution_count": 19,
     "metadata": {},
     "output_type": "execute_result"
    }
   ],
   "source": [
    "class Solution(object):\n",
    "    def decode(self, encoded, first):\n",
    "        \"\"\"\n",
    "        :type encoded: List[int]\n",
    "        :type first: int\n",
    "        :rtype: List[int]\n",
    "        \"\"\"\n",
    "        li = [first]\n",
    "        for i in range(0, len(encoded)):\n",
    "            li.append(li[i]^encoded[i])\n",
    "        return li\n",
    "\n",
    "o = Solution()\n",
    "o.decode([1,2,3],1)"
   ]
  },
  {
   "cell_type": "markdown",
   "metadata": {},
   "source": [
    "## 1389) Create Target Array in the Given Order\n",
    "Given two arrays of integers `nums` and `index`. Your task is to create target array under the following rules:\n",
    "\n",
    "Initially *target* array is empty.\n",
    "From left to right read `nums[i]` and `index[i]`, insert at index `index[i]` the value `nums[i]` in target array.\n",
    "Repeat the previous step until there are no elements to read in `nums` and `index`.\n",
    "Return the *target* array.\n",
    "\n",
    "It is guaranteed that the insertion operations will be valid.\n",
    "\n",
    " \n",
    "\n",
    "Example 1:\n",
    "```\n",
    "Input: nums = [0,1,2,3,4], index = [0,1,2,2,1]\n",
    "Output: [0,4,1,3,2]\n",
    "Explanation:\n",
    "nums       index     target\n",
    "0            0        [0]\n",
    "1            1        [0,1]\n",
    "2            2        [0,1,2]\n",
    "3            2        [0,1,3,2]\n",
    "4            1        [0,4,1,3,2]\n",
    "```\n",
    "Example 2:\n",
    "```\n",
    "Input: nums = [1,2,3,4,0], index = [0,1,2,3,0]\n",
    "Output: [0,1,2,3,4]\n",
    "Explanation:\n",
    "nums       index     target\n",
    "1            0        [1]\n",
    "2            1        [1,2]\n",
    "3            2        [1,2,3]\n",
    "4            3        [1,2,3,4]\n",
    "0            0        [0,1,2,3,4]\n",
    "```\n",
    "Example 3:\n",
    "```\n",
    "Input: nums = [1], index = [0]\n",
    "Output: [1]\n",
    "```\n",
    "\n",
    "Constraints:\n",
    "```\n",
    "1 <= nums.length, index.length <= 100\n",
    "nums.length == index.length\n",
    "0 <= nums[i] <= 100\n",
    "0 <= index[i] <= i\n",
    "```"
   ]
  },
  {
   "cell_type": "code",
   "execution_count": 20,
   "metadata": {},
   "outputs": [
    {
     "data": {
      "text/plain": [
       "[0, 4, 1, 3, 2]"
      ]
     },
     "execution_count": 20,
     "metadata": {},
     "output_type": "execute_result"
    }
   ],
   "source": [
    "class Solution(object):\n",
    "    def createTargetArray(self, nums, index):\n",
    "        \"\"\"\n",
    "        :type nums: List[int]\n",
    "        :type index: List[int]\n",
    "        :rtype: List[int]\n",
    "        \"\"\"\n",
    "        target=[]\n",
    "        for i in range(len(nums)):\n",
    "            target.insert(index[i],nums[i])\n",
    "        return target\n",
    "o = Solution()\n",
    "o.createTargetArray([0,1,2,3,4],[0,1,2,2,1])"
   ]
  },
  {
   "cell_type": "markdown",
   "metadata": {},
   "source": [
    "## 1221. Split a String in Balanced Strings\n",
    "Balanced strings are those that have an equal quantity of `'L'` and `'R'` characters.\n",
    "\n",
    "Given a balanced string `s`, split it in the maximum amount of balanced strings.\n",
    "\n",
    "*Return the maximum amount of split balanced strings.#\n",
    "\n",
    " \n",
    "\n",
    "Example 1:\n",
    "```\n",
    "Input: s = \"RLRRLLRLRL\"\n",
    "Output: 4\n",
    "Explanation: s can be split into \"RL\", \"RRLL\", \"RL\", \"RL\", each substring contains same number of 'L' and 'R'.\n",
    "```\n",
    "Example 2:\n",
    "```\n",
    "Input: s = \"RLLLLRRRLR\"\n",
    "Output: 3\n",
    "Explanation: s can be split into \"RL\", \"LLLRRR\", \"LR\", each substring contains same number of 'L' and 'R'.\n",
    "```\n",
    "Example 3:\n",
    "```\n",
    "Input: s = \"LLLLRRRR\"\n",
    "Output: 1\n",
    "Explanation: s can be split into \"LLLLRRRR\".\n",
    "```\n",
    "Example 4:\n",
    "```\n",
    "Input: s = \"RLRRRLLRLL\"\n",
    "Output: 2\n",
    "Explanation: s can be split into \"RL\", \"RRRLLRLL\", since each substring contains an equal number of 'L' and 'R'\n",
    "```\n",
    "\n",
    "Constraints:\n",
    "```\n",
    "1 <= s.length <= 1000\n",
    "s[i] is either 'L' or 'R'.\n",
    "s is a balanced string.\n",
    "```"
   ]
  },
  {
   "cell_type": "code",
   "execution_count": 21,
   "metadata": {},
   "outputs": [
    {
     "data": {
      "text/plain": [
       "3"
      ]
     },
     "execution_count": 21,
     "metadata": {},
     "output_type": "execute_result"
    }
   ],
   "source": [
    "class Solution(object):\n",
    "    def balancedStringSplit(self, s):\n",
    "        \"\"\"\n",
    "        :type s: str\n",
    "        :rtype: int\n",
    "        \"\"\"\n",
    "        count_r, max_balanced = 0,0\n",
    "        for each in s:\n",
    "            if each=='R':\n",
    "                count_r+=1\n",
    "            else:\n",
    "                count_r-=1\n",
    "            if count_r==0:\n",
    "                max_balanced+=1\n",
    "        return max_balanced\n",
    "\n",
    "o = Solution()\n",
    "o.balancedStringSplit('RLLLLRRRLR')"
   ]
  },
  {
   "cell_type": "markdown",
   "metadata": {},
   "source": [
    "## 1486. XOR Operation in an Array\n",
    "\n",
    "Given an integer `n` and an integer `start`.\n",
    "\n",
    "Define an array `nums` where `nums[i] = start + 2*i` (0-indexed) and `n == nums.length`.\n",
    "\n",
    "Return the bitwise XOR of all elements of `nums`.\n",
    "\n",
    " \n",
    "\n",
    "Example 1:\n",
    "```\n",
    "Input: n = 5, start = 0\n",
    "Output: 8\n",
    "Explanation: Array nums is equal to [0, 2, 4, 6, 8] where (0 ^ 2 ^ 4 ^ 6 ^ 8) = 8.\n",
    "Where \"^\" corresponds to bitwise XOR operator.\n",
    "```\n",
    "Example 2:\n",
    "```\n",
    "Input: n = 4, start = 3\n",
    "Output: 8\n",
    "Explanation: Array nums is equal to [3, 5, 7, 9] where (3 ^ 5 ^ 7 ^ 9) = 8.\n",
    "```\n",
    "Example 3:\n",
    "```\n",
    "Input: n = 1, start = 7\n",
    "Output: 7\n",
    "```\n",
    "Example 4:\n",
    "```\n",
    "Input: n = 10, start = 5\n",
    "Output: 2\n",
    "```\n",
    "\n",
    "Constraints:\n",
    "```\n",
    "1 <= n <= 1000\n",
    "0 <= start <= 1000\n",
    "n == nums.length\n",
    "```"
   ]
  },
  {
   "cell_type": "code",
   "execution_count": 22,
   "metadata": {},
   "outputs": [
    {
     "data": {
      "text/plain": [
       "8"
      ]
     },
     "execution_count": 22,
     "metadata": {},
     "output_type": "execute_result"
    }
   ],
   "source": [
    "from functools import reduce\n",
    "\n",
    "class Solution(object):\n",
    "    def xorOperation(self, n, start):\n",
    "        \"\"\"\n",
    "        :type n: int\n",
    "        :type start: int\n",
    "        :rtype: int\n",
    "        \"\"\"\n",
    "        nums = []\n",
    "        for i in range(0,n):\n",
    "            nums.append(start + 2*i)\n",
    "        return reduce(lambda x, y: x^y, nums)\n",
    "\n",
    "o = Solution()\n",
    "o.xorOperation(5,0)"
   ]
  },
  {
   "cell_type": "code",
   "execution_count": 23,
   "metadata": {},
   "outputs": [
    {
     "data": {
      "text/plain": [
       "8"
      ]
     },
     "execution_count": 23,
     "metadata": {},
     "output_type": "execute_result"
    }
   ],
   "source": [
    "class Solution(object):\n",
    "    def xorOperation(self, n, start):\n",
    "        \"\"\"\n",
    "        :type n: int\n",
    "        :type start: int\n",
    "        :rtype: int\n",
    "        \"\"\"\n",
    "        nums = start + 2*0\n",
    "        for i in range(1,n):\n",
    "            nums^=(start + 2*i)\n",
    "        return nums\n",
    "\n",
    "o = Solution()\n",
    "o.xorOperation(5,0)"
   ]
  },
  {
   "cell_type": "markdown",
   "metadata": {},
   "source": [
    "## 938. Range Sum of BST\n",
    "Given the `root` node of a binary search tree, return *the sum of values of all nodes with a value in the range `[low, high]`.*\n",
    "\n",
    " \n",
    "\n",
    "Example 1:\n",
    "![Binary Search Tree 1](img/bst1.jpg)\n",
    "```\n",
    "Input: root = [10,5,15,3,7,null,18], low = 7, high = 15\n",
    "Output: 32\n",
    "```\n",
    "Example 2:\n",
    "![Binary Search Tree 2](img/bst2.jpg)\n",
    "```\n",
    "Input: root = [10,5,15,3,7,13,18,1,null,6], low = 6, high = 10\n",
    "Output: 23\n",
    "```\n",
    "\n",
    "Constraints:\n",
    "```\n",
    "The number of nodes in the tree is in the range [1, 2 * 104].\n",
    "1 <= Node.val <= 105\n",
    "1 <= low <= high <= 105\n",
    "All Node.val are unique.\n",
    "```"
   ]
  },
  {
   "cell_type": "code",
   "execution_count": 24,
   "metadata": {},
   "outputs": [],
   "source": [
    "# Definition for a binary tree node.\n",
    "class TreeNode(object):\n",
    "    def __init__(self, val=0, left=None, right=None):\n",
    "        self.val = val\n",
    "        self.left = left\n",
    "        self.right = right\n",
    "class Solution(object):\n",
    "    def rangeSumBST(self, root, low, high):\n",
    "        \"\"\"\n",
    "        :type root: TreeNode\n",
    "        :type low: int\n",
    "        :type high: int\n",
    "        :rtype: int\n",
    "        \"\"\"\n",
    "        pass"
   ]
  },
  {
   "cell_type": "markdown",
   "metadata": {},
   "source": [
    "## 1614) Maximum Nesting Depth of the Parentheses\n",
    "A string is a **valid parentheses string** (denoted **VPS**) if it meets one of the following:\n",
    "\n",
    "- It is an empty string `\"\"`, or a single character not equal to `\"(\"` or `\")\"`,\n",
    "- It can be written as `AB (A` concatenated with `B`), where `A` and `B` are VPS's, or\n",
    "- It can be written as `(A)`, where `A` is a VPS.\n",
    "\n",
    "We can similarly define the nesting depth `depth(S)` of any VPS `S` as follows:\n",
    "\n",
    "- `depth(\"\") = 0`\n",
    "- `depth(C) = 0`, where `C` is a string with a single character not equal to `\"(\"` or `\")\"`.\n",
    "- `depth(A + B) = max(depth(A), depth(B))`, where `A` and `B` are VPS's.\n",
    "- `depth(\"(\" + A + \")\") = 1 + depth(A)`, where `A` is a VPS.\n",
    "For example, `\"\"`, `\"()()\"`, and `\"()(()())\"` are VPS's (with nesting depths 0, 1, and 2), and `\")(\"` and `\"(()\"` are not VPS's.\n",
    "\n",
    "Given a VPS represented as string `s`, return the nesting depth of `s`. \n",
    "\n",
    "Example 1:\n",
    "```\n",
    "Input: s = \"(1+(2*3)+((8)/4))+1\"\n",
    "Output: 3\n",
    "Explanation: Digit 8 is inside of 3 nested parentheses in the string.\n",
    "```\n",
    "Example 2:\n",
    "```\n",
    "Input: s = \"(1)+((2))+(((3)))\"\n",
    "Output: 3\n",
    "```\n",
    "Example 3:\n",
    "```\n",
    "Input: s = \"1+(2*3)/(2-1)\"\n",
    "Output: 1\n",
    "```\n",
    "Example 4:\n",
    "```\n",
    "Input: s = \"1\"\n",
    "Output: 0\n",
    "```\n",
    "\n",
    "Constraints:\n",
    "```\n",
    "1 <= s.length <= 100\n",
    "s consists of digits 0-9 and characters '+', '-', '*', '/', '(', and ')'.\n",
    "It is guaranteed that parentheses expression s is a VPS.\n",
    "```"
   ]
  },
  {
   "cell_type": "code",
   "execution_count": 25,
   "metadata": {},
   "outputs": [
    {
     "data": {
      "text/plain": [
       "3"
      ]
     },
     "execution_count": 25,
     "metadata": {},
     "output_type": "execute_result"
    }
   ],
   "source": [
    "class Solution(object):\n",
    "    def maxDepth(self,s):\n",
    "        o,l=0,[]\n",
    "        for each in s:\n",
    "            if each==\"(\":\n",
    "                o+=1\n",
    "            if each==\")\":\n",
    "                o-=1\n",
    "            l.append(o)\n",
    "        return max(l)\n",
    "\n",
    "o = Solution()\n",
    "o.maxDepth(\"(1+(2*3)+((8)/4))+1\")"
   ]
  },
  {
   "cell_type": "markdown",
   "metadata": {},
   "source": [
    "## 1662. Check If Two String Arrays are Equivalent\n",
    "Given two string arrays `word1` and `word2`, return `true` if the two arrays represent the same string, and `false` otherwise.\n",
    "\n",
    "A string is represented by an array if the array elements concatenated in order forms the string.\n",
    "\n",
    " \n",
    "\n",
    "Example 1:\n",
    "```\n",
    "Input: word1 = [\"ab\", \"c\"], word2 = [\"a\", \"bc\"]\n",
    "Output: true\n",
    "Explanation:\n",
    "word1 represents string \"ab\" + \"c\" -> \"abc\"\n",
    "word2 represents string \"a\" + \"bc\" -> \"abc\"\n",
    "The strings are the same, so return true.\n",
    "```\n",
    "Example 2:\n",
    "```\n",
    "Input: word1 = [\"a\", \"cb\"], word2 = [\"ab\", \"c\"]\n",
    "Output: false\n",
    "```\n",
    "Example 3:\n",
    "```\n",
    "Input: word1  = [\"abc\", \"d\", \"defg\"], word2 = [\"abcddefg\"]\n",
    "Output: true\n",
    "``` \n",
    "\n",
    "Constraints:\n",
    "```\n",
    "1 <= word1.length, word2.length <= 103\n",
    "1 <= word1[i].length, word2[i].length <= 103\n",
    "1 <= sum(word1[i].length), sum(word2[i].length) <= 103\n",
    "word1[i] and word2[i] consist of lowercase letters.\n",
    "```"
   ]
  },
  {
   "cell_type": "code",
   "execution_count": 26,
   "metadata": {},
   "outputs": [
    {
     "data": {
      "text/plain": [
       "True"
      ]
     },
     "execution_count": 26,
     "metadata": {},
     "output_type": "execute_result"
    }
   ],
   "source": [
    "class Solution(object):\n",
    "    def arrayStringsAreEqual(self, word1, word2):\n",
    "        \"\"\"\n",
    "        :type word1: List[str]\n",
    "        :type word2: List[str]\n",
    "        :rtype: bool\n",
    "        \"\"\"\n",
    "        w1, w2 = '', ''\n",
    "        for each in word1:\n",
    "            w1+=each\n",
    "        for each in word2:\n",
    "            w2+=each\n",
    "        if w1==w2:\n",
    "            return True\n",
    "        else:\n",
    "            return False\n",
    "\n",
    "o = Solution()\n",
    "o.arrayStringsAreEqual([\"abc\", \"d\", \"defg\"],[\"abcddefg\"])"
   ]
  },
  {
   "cell_type": "markdown",
   "metadata": {},
   "source": [
    "## 1656. Design an Ordered Stream\n",
    "There is a stream of `n` `(idKey, value)` pairs arriving in an arbitrary order, where `idKey` is an integer between `1` and `n` and `value` is a string. No two pairs have the same `id`.\n",
    "\n",
    "Design a stream that returns the values in increasing order of their IDs by returning a chunk (list) of values after each insertion. The concatenation of all the chunks should result in a list of the sorted values.\n",
    "\n",
    "Implement the `OrderedStream` class:\n",
    "\n",
    "`OrderedStream(int n)` Constructs the stream to take `n` values.\n",
    "`String[] insert(int idKey, String value)` Inserts the pair `(idKey, value)` into the stream, then returns the largest possible chunk of currently inserted values that appear next in the order.\n",
    " \n",
    "\n",
    "Example:\n",
    "\n",
    "![Ordered Stream](img/q1.gif)\n",
    "```\n",
    "Input\n",
    "[\"OrderedStream\", \"insert\", \"insert\", \"insert\", \"insert\", \"insert\"]\n",
    "[[5], [3, \"ccccc\"], [1, \"aaaaa\"], [2, \"bbbbb\"], [5, \"eeeee\"], [4, \"ddddd\"]]\n",
    "Output\n",
    "[null, [], [\"aaaaa\"], [\"bbbbb\", \"ccccc\"], [], [\"ddddd\", \"eeeee\"]]\n",
    "Explanation\n",
    "// Note that the values ordered by ID is [\"aaaaa\", \"bbbbb\", \"ccccc\", \"ddddd\", \"eeeee\"].\n",
    "OrderedStream os = new OrderedStream(5);\n",
    "os.insert(3, \"ccccc\"); // Inserts (3, \"ccccc\"), returns [].\n",
    "os.insert(1, \"aaaaa\"); // Inserts (1, \"aaaaa\"), returns [\"aaaaa\"].\n",
    "os.insert(2, \"bbbbb\"); // Inserts (2, \"bbbbb\"), returns [\"bbbbb\", \"ccccc\"].\n",
    "os.insert(5, \"eeeee\"); // Inserts (5, \"eeeee\"), returns [].\n",
    "os.insert(4, \"ddddd\"); // Inserts (4, \"ddddd\"), returns [\"ddddd\", \"eeeee\"].\n",
    "// Concatentating all the chunks returned:\n",
    "// [] + [\"aaaaa\"] + [\"bbbbb\", \"ccccc\"] + [] + [\"ddddd\", \"eeeee\"] = [\"aaaaa\", \"bbbbb\", \"ccccc\", \"ddddd\", \"eeeee\"]\n",
    "// The resulting order is the same as the order above.\n",
    "```\n",
    "\n",
    "Constraints:\n",
    "```\n",
    "1 <= n <= 1000\n",
    "1 <= id <= n\n",
    "value.length == 5\n",
    "value consists only of lowercase letters.\n",
    "Each call to insert will have a unique id.\n",
    "Exactly n calls will be made to insert.\n",
    "```"
   ]
  },
  {
   "cell_type": "code",
   "execution_count": 27,
   "metadata": {},
   "outputs": [],
   "source": [
    "class OrderedStream(object):\n",
    "\n",
    "    def __init__(self, n):\n",
    "        \"\"\"\n",
    "        :type n: int\n",
    "        \"\"\"\n",
    "        \n",
    "\n",
    "    def insert(self, idKey, value):\n",
    "        \"\"\"\n",
    "        :type idKey: int\n",
    "        :type value: str\n",
    "        :rtype: List[str]\n",
    "        \"\"\"\n",
    "        \n",
    "\n",
    "\n",
    "# Your OrderedStream object will be instantiated and called as such:\n",
    "# obj = OrderedStream(n)\n",
    "# param_1 = obj.insert(idKey,value)"
   ]
  },
  {
   "cell_type": "markdown",
   "metadata": {},
   "source": [
    "## 1684) Count the Number of Consistent Strings\n",
    "\n",
    "You are given a string `allowed` consisting of distinct characters and an array of strings `words`. A string is consistent if all characters in the string appear in the string `allowed`.\n",
    "\n",
    "Return the number of consistent strings in the array `words`.\n",
    " \n",
    "\n",
    "Example 1:\n",
    "```\n",
    "Input: allowed = \"ab\", words = [\"ad\",\"bd\",\"aaab\",\"baa\",\"badab\"]\n",
    "Output: 2\n",
    "Explanation: Strings \"aaab\" and \"baa\" are consistent since they only contain characters 'a' and 'b'.\n",
    "```\n",
    "Example 2:\n",
    "```\n",
    "Input: allowed = \"abc\", words = [\"a\",\"b\",\"c\",\"ab\",\"ac\",\"bc\",\"abc\"]\n",
    "Output: 7\n",
    "Explanation: All strings are consistent.\n",
    "```\n",
    "Example 3:\n",
    "```\n",
    "Input: allowed = \"cad\", words = [\"cc\",\"acd\",\"b\",\"ba\",\"bac\",\"bad\",\"ac\",\"d\"]\n",
    "Output: 4\n",
    "Explanation: Strings \"cc\", \"acd\", \"ac\", and \"d\" are consistent.\n",
    "```\n",
    "\n",
    "Constraints:\n",
    "```\n",
    "1 <= words.length <= 104\n",
    "1 <= allowed.length <= 26\n",
    "1 <= words[i].length <= 10\n",
    "The characters in allowed are distinct.\n",
    "words[i] and allowed contain only lowercase English letters.\n",
    "```"
   ]
  },
  {
   "cell_type": "code",
   "execution_count": 28,
   "metadata": {},
   "outputs": [
    {
     "data": {
      "text/plain": [
       "2"
      ]
     },
     "execution_count": 28,
     "metadata": {},
     "output_type": "execute_result"
    }
   ],
   "source": [
    "class Solution(object):\n",
    "    def countConsistentStrings(self, allowed, words):\n",
    "        allowed = set(allowed)\n",
    "        count = 0\n",
    "        for word in words:\n",
    "            for letter in word:\n",
    "                if letter not in allowed:\n",
    "                    count += 1\n",
    "                    break\n",
    "        return len(words) - count\n",
    "\n",
    "o = Solution()\n",
    "o.countConsistentStrings(\"ab\", [\"ad\",\"bd\",\"aaab\",\"baa\",\"badab\"])"
   ]
  },
  {
   "cell_type": "markdown",
   "metadata": {},
   "source": [
    "## 1290) Convert Binary Number in a Linked List to Integer\n",
    "\n",
    "Given `head` which is a reference node to a singly-linked list. The value of each node in the linked list is either 0 or 1. The linked list holds the binary representation of a number.\n",
    "\n",
    "Return the decimal value of the number in the linked list.\n",
    "\n",
    " \n",
    "\n",
    "Example 1:\n",
    "\n",
    "![Linked List](img/graph-1.png)\n",
    "```\n",
    "Input: head = [1,0,1]\n",
    "Output: 5\n",
    "Explanation: (101) in base 2 = (5) in base 10\n",
    "```\n",
    "Example 2:\n",
    "```\n",
    "Input: head = [0]\n",
    "Output: 0\n",
    "```\n",
    "Example 3:\n",
    "```\n",
    "Input: head = [1]\n",
    "Output: 1\n",
    "```\n",
    "Example 4:\n",
    "```\n",
    "Input: head = [1,0,0,1,0,0,1,1,1,0,0,0,0,0,0]\n",
    "Output: 18880\n",
    "```\n",
    "Example 5:\n",
    "```\n",
    "Input: head = [0,0]\n",
    "Output: 0\n",
    "```\n",
    "\n",
    "Constraints:\n",
    "```\n",
    "The Linked List is not empty.\n",
    "Number of nodes will not exceed 30.\n",
    "Each node's value is either 0 or 1.\n",
    "```"
   ]
  },
  {
   "cell_type": "code",
   "execution_count": 29,
   "metadata": {},
   "outputs": [],
   "source": [
    "# Definition for singly-linked list.\n",
    "class ListNode(object):\n",
    "    def __init__(self, val=0, next=None):\n",
    "        self.val = val\n",
    "        self.next = next\n",
    "class Solution:\n",
    "    def getDecimalValue(self, head: ListNode) -> int:\n",
    "        pass\n",
    "            \n",
    "o = Solution()\n",
    "o.getDecimalValue([1,0,0,1,0,0,1,1,1,0,0,0,0,0,0])\n",
    "        "
   ]
  },
  {
   "cell_type": "markdown",
   "metadata": {},
   "source": [
    "## 1588) Sum of All Odd Length Subarrays\n",
    "Given an array of positive integers `arr`, calculate the sum of all possible odd-length subarrays.\n",
    "\n",
    "A subarray is a contiguous subsequence of the array.\n",
    "\n",
    "Return the sum of all odd-length subarrays of `arr`.\n",
    "\n",
    " \n",
    "\n",
    "Example 1:\n",
    "```\n",
    "Input: arr = [1,4,2,5,3]\n",
    "Output: 58\n",
    "Explanation: The odd-length subarrays of arr and their sums are:\n",
    "[1] = 1\n",
    "[4] = 4\n",
    "[2] = 2\n",
    "[5] = 5\n",
    "[3] = 3\n",
    "[1,4,2] = 7\n",
    "[4,2,5] = 11\n",
    "[2,5,3] = 10\n",
    "[1,4,2,5,3] = 15\n",
    "If we add all these together we get 1 + 4 + 2 + 5 + 3 + 7 + 11 + 10 + 15 = 58\n",
    "```\n",
    "Example 2:\n",
    "```\n",
    "Input: arr = [1,2]\n",
    "Output: 3\n",
    "Explanation: There are only 2 subarrays of odd length, [1] and [2]. Their sum is 3.\n",
    "```\n",
    "Example 3:\n",
    "```\n",
    "Input: arr = [10,11,12]\n",
    "Output: 66\n",
    "```\n",
    "\n",
    "Constraints:\n",
    "```\n",
    "1 <= arr.length <= 100\n",
    "1 <= arr[i] <= 1000\n",
    "```"
   ]
  },
  {
   "cell_type": "code",
   "execution_count": 30,
   "metadata": {},
   "outputs": [
    {
     "data": {
      "text/plain": [
       "58"
      ]
     },
     "execution_count": 30,
     "metadata": {},
     "output_type": "execute_result"
    }
   ],
   "source": [
    "class Solution:\n",
    "    def sumOddLengthSubarrays(self, arr):\n",
    "        s=0\n",
    "        for i in range(len(arr)):\n",
    "            for j in range(i,len(arr),2):\n",
    "                s+=sum(arr[i:j+1])\n",
    "        return s\n",
    "\n",
    "o = Solution()\n",
    "o.sumOddLengthSubarrays([1,4,2,5,3])"
   ]
  },
  {
   "cell_type": "markdown",
   "metadata": {},
   "source": [
    "## 1688) Count of Matches in Tournament\n",
    "You are given an integer `n`, the number of teams in a tournament that has strange rules:\n",
    "\n",
    "If the current number of teams is even, each team gets paired with another team. A total of `n / 2` matches are played, and `n / 2` teams advance to the next round.\n",
    "If the current number of teams is odd, one team randomly advances in the tournament, and the rest gets paired. A total of `(n - 1) / 2` matches are played, and `(n - 1) / 2 + 1` teams advance to the next round.\n",
    "Return the number of matches played in the tournament until a winner is decided.\n",
    "\n",
    " \n",
    "\n",
    "Example 1:\n",
    "```\n",
    "Input: n = 7\n",
    "Output: 6\n",
    "Explanation: Details of the tournament: \n",
    "- 1st Round: Teams = 7, Matches = 3, and 4 teams advance.\n",
    "- 2nd Round: Teams = 4, Matches = 2, and 2 teams advance.\n",
    "- 3rd Round: Teams = 2, Matches = 1, and 1 team is declared the winner.\n",
    "Total number of matches = 3 + 2 + 1 = 6.\n",
    "```\n",
    "Example 2:\n",
    "```\n",
    "Input: n = 14\n",
    "Output: 13\n",
    "Explanation: Details of the tournament:\n",
    "- 1st Round: Teams = 14, Matches = 7, and 7 teams advance.\n",
    "- 2nd Round: Teams = 7, Matches = 3, and 4 teams advance.\n",
    "- 3rd Round: Teams = 4, Matches = 2, and 2 teams advance.\n",
    "- 4th Round: Teams = 2, Matches = 1, and 1 team is declared the winner.\n",
    "Total number of matches = 7 + 3 + 2 + 1 = 13.\n",
    "```\n",
    "\n",
    "Constraints:\n",
    "```\n",
    "1 <= n <= 200\n",
    "```"
   ]
  },
  {
   "cell_type": "code",
   "execution_count": 31,
   "metadata": {},
   "outputs": [
    {
     "data": {
      "text/plain": [
       "13"
      ]
     },
     "execution_count": 31,
     "metadata": {},
     "output_type": "execute_result"
    }
   ],
   "source": [
    "class Solution(object):\n",
    "    def numberOfMatches(self, n):\n",
    "        \"\"\"\n",
    "        :type n: int\n",
    "        :rtype: int\n",
    "        \"\"\"\n",
    "        mat = 0\n",
    "        while(n!=1):\n",
    "            if n%2==0:\n",
    "                mat = mat+n/2\n",
    "                n=n/2\n",
    "            else:\n",
    "                mat = mat + (n-1)/2\n",
    "                n=1+(n-1)/2\n",
    "        return int(mat)\n",
    "\n",
    "o = Solution()\n",
    "o.numberOfMatches(14)"
   ]
  },
  {
   "cell_type": "markdown",
   "metadata": {},
   "source": [
    "## 1534) Count Good Triplets\n",
    "Given an array of integers `arr`, and three integers `a`, `b` and `c`. You need to find the number of good triplets.\n",
    "\n",
    "A triplet `(arr[i], arr[j], arr[k])` is good if the following conditions are true:\n",
    "```\n",
    "0 <= i < j < k < arr.length\n",
    "|arr[i] - arr[j]| <= a\n",
    "|arr[j] - arr[k]| <= b\n",
    "|arr[i] - arr[k]| <= c\n",
    "```\n",
    "Where `|x|` denotes the absolute value of `x`.\n",
    "\n",
    "Return the number of good triplets.\n",
    " \n",
    "\n",
    "Example 1:\n",
    "```\n",
    "Input: arr = [3,0,1,1,9,7], a = 7, b = 2, c = 3\n",
    "Output: 4\n",
    "Explanation: There are 4 good triplets: [(3,0,1), (3,0,1), (3,1,1), (0,1,1)].\n",
    "```\n",
    "Example 2:\n",
    "```\n",
    "Input: arr = [1,1,2,2,3], a = 0, b = 0, c = 1\n",
    "Output: 0\n",
    "Explanation: No triplet satisfies all conditions.\n",
    "```\n",
    "\n",
    "Constraints:\n",
    "```\n",
    "3 <= arr.length <= 100\n",
    "0 <= arr[i] <= 1000\n",
    "0 <= a, b, c <= 1000\n",
    "```"
   ]
  },
  {
   "cell_type": "code",
   "execution_count": 32,
   "metadata": {},
   "outputs": [
    {
     "data": {
      "text/plain": [
       "4"
      ]
     },
     "execution_count": 32,
     "metadata": {},
     "output_type": "execute_result"
    }
   ],
   "source": [
    "class Solution(object):\n",
    "    def countGoodTriplets(self, arr, a, b, c):\n",
    "        \"\"\"\n",
    "        :type arr: List[int]\n",
    "        :type a: int\n",
    "        :type b: int\n",
    "        :type c: int\n",
    "        :rtype: int\n",
    "        \"\"\"\n",
    "        ct = 0\n",
    "        for i in range(0,len(arr)):\n",
    "            for j in range(i+1,len(arr)):\n",
    "                for k in range(j+1,len(arr)):\n",
    "                    if abs(arr[i]-arr[j])<=a and abs(arr[j]-arr[k])<=b and abs(arr[i]-arr[k])<=c:\n",
    "                        ct+=1\n",
    "        return ct\n",
    "\n",
    "o = Solution()\n",
    "o.countGoodTriplets([3,0,1,1,9,7], 7, 2, 3)"
   ]
  },
  {
   "cell_type": "markdown",
   "metadata": {},
   "source": [
    "## 709) To Lower Case\n",
    "\n",
    "Implement function ToLowerCase() that has a string parameter str, and returns the same string in lowercase.\n",
    "\n",
    " \n",
    "Example 1:\n",
    "```\n",
    "Input: \"Hello\"\n",
    "Output: \"hello\"\n",
    "```\n",
    "Example 2:\n",
    "```\n",
    "Input: \"here\"\n",
    "Output: \"here\"\n",
    "```\n",
    "Example 3:\n",
    "```\n",
    "Input: \"LOVELY\"\n",
    "Output: \"lovely\"\n",
    "```"
   ]
  },
  {
   "cell_type": "code",
   "execution_count": 33,
   "metadata": {},
   "outputs": [
    {
     "data": {
      "text/plain": [
       "'al&phabet'"
      ]
     },
     "execution_count": 33,
     "metadata": {},
     "output_type": "execute_result"
    }
   ],
   "source": [
    "class Solution(object):\n",
    "    def toLowerCase(self, str):\n",
    "        \"\"\"\n",
    "        :type str: str\n",
    "        :rtype: str\n",
    "        \"\"\"\n",
    "        x=''\n",
    "        for each in range(0,len(str)):\n",
    "            if ord(str[each])>=65 and ord(str[each])<97:\n",
    "                x+=chr(ord(str[each])+32)\n",
    "            else:\n",
    "                x+=chr(ord(str[each]))\n",
    "        return x\n",
    "\n",
    "o = Solution()\n",
    "o.toLowerCase(\"al&phaBET\")"
   ]
  },
  {
   "cell_type": "markdown",
   "metadata": {},
   "source": [
    "## 1732) Find the Highest Altitude\n",
    "\n",
    "There is a biker going on a road trip. The road trip consists of `n + 1` points at different altitudes. The biker starts his trip on point `0` with altitude equal `0`.\n",
    "\n",
    "You are given an integer array `gain` of length `n` where `gain[i]` is the net gain in altitude between points `i` and `i + 1` for all (`0 <= i < n`). Return the highest altitude of a point.\n",
    "\n",
    " \n",
    "\n",
    "Example 1:\n",
    "```\n",
    "Input: gain = [-5,1,5,0,-7]\n",
    "Output: 1\n",
    "Explanation: The altitudes are [0,-5,-4,1,1,-6]. The highest is 1.\n",
    "```\n",
    "Example 2:\n",
    "```\n",
    "Input: gain = [-4,-3,-2,-1,4,3,2]\n",
    "Output: 0\n",
    "Explanation: The altitudes are [0,-4,-7,-9,-10,-6,-3,-1]. The highest is 0.\n",
    "``` \n",
    "\n",
    "Constraints:\n",
    "```\n",
    "n == gain.length\n",
    "1 <= n <= 100\n",
    "-100 <= gain[i] <= 100\n",
    "```"
   ]
  },
  {
   "cell_type": "code",
   "execution_count": 34,
   "metadata": {},
   "outputs": [
    {
     "data": {
      "text/plain": [
       "1"
      ]
     },
     "execution_count": 34,
     "metadata": {},
     "output_type": "execute_result"
    }
   ],
   "source": [
    "class Solution(object):\n",
    "    def largestAltitude(self, gain):\n",
    "        alt = [0,gain[0]]\n",
    "        for i in range(1,len(gain)):\n",
    "            alt.append(alt[-1]+gain[i])\n",
    "        return max(alt)\n",
    "o = Solution()\n",
    "o.largestAltitude([-5,1,5,0,-7])"
   ]
  },
  {
   "cell_type": "markdown",
   "metadata": {},
   "source": [
    "## 1822. Sign of the Product of an Array\n",
    "\n",
    "There is a function `signFunc(x)` that returns:\n",
    "\n",
    "`1` if `x` is positive.  \n",
    "`-1` if `x` is negative.  \n",
    "`0` if `x` is equal to `0`.  \n",
    "You are given an integer array `nums`. Let `product` be the product of all values in the array `nums`.\n",
    "\n",
    "Return `signFunc(product)`.\n",
    "\n",
    " \n",
    "\n",
    "Example 1:\n",
    "```\n",
    "Input: nums = [-1,-2,-3,-4,3,2,1]\n",
    "Output: 1\n",
    "Explanation: The product of all values in the array is 144, and signFunc(144) = 1\n",
    "```\n",
    "Example 2:\n",
    "```\n",
    "Input: nums = [1,5,0,2,-3]\n",
    "Output: 0\n",
    "Explanation: The product of all values in the array is 0, and signFunc(0) = 0\n",
    "```\n",
    "Example 3:\n",
    "```\n",
    "Input: nums = [-1,1,-1,1,-1]\n",
    "Output: -1\n",
    "Explanation: The product of all values in the array is -1, and signFunc(-1) = -1\n",
    "```\n",
    "\n",
    "Constraints:\n",
    "```\n",
    "1 <= nums.length <= 1000\n",
    "-100 <= nums[i] <= 100\n",
    "```"
   ]
  },
  {
   "cell_type": "code",
   "execution_count": 35,
   "metadata": {},
   "outputs": [
    {
     "data": {
      "text/plain": [
       "1"
      ]
     },
     "execution_count": 35,
     "metadata": {},
     "output_type": "execute_result"
    }
   ],
   "source": [
    "from functools import reduce\n",
    "class Solution(object):\n",
    "    def arraySign(self, nums):\n",
    "        \"\"\"\n",
    "        :type nums: List[int]\n",
    "        :rtype: int\n",
    "        \"\"\"\n",
    "        prod = reduce((lambda x, y: x * y), nums)\n",
    "        if prod>0:\n",
    "            return 1\n",
    "        elif prod<0:\n",
    "            return -1\n",
    "        else:\n",
    "            return 0\n",
    "\n",
    "o = Solution()\n",
    "o.arraySign([-1,-2,-3,-4,3,2,1])"
   ]
  },
  {
   "cell_type": "markdown",
   "metadata": {},
   "source": [
    "## 1832) Check if the Sentence Is Pangram\n",
    "A pangram is a sentence where every letter of the English alphabet appears at least once.\n",
    "\n",
    "Given a string `sentence` containing only lowercase English letters, return `true` if `sentence` is a pangram, or `false` otherwise.\n",
    "\n",
    " \n",
    "Example 1:\n",
    "```\n",
    "Input: sentence = \"thequickbrownfoxjumpsoverthelazydog\"\n",
    "Output: true\n",
    "Explanation: sentence contains at least one of every letter of the English alphabet.\n",
    "```\n",
    "Example 2:\n",
    "```\n",
    "Input: sentence = \"leetcode\"\n",
    "Output: false\n",
    "```\n",
    "\n",
    "Constraints:\n",
    "```\n",
    "1 <= sentence.length <= 1000\n",
    "sentence consists of lowercase English letters.\n",
    "```"
   ]
  },
  {
   "cell_type": "code",
   "execution_count": 36,
   "metadata": {},
   "outputs": [
    {
     "data": {
      "text/plain": [
       "True"
      ]
     },
     "execution_count": 36,
     "metadata": {},
     "output_type": "execute_result"
    }
   ],
   "source": [
    "class Solution(object):\n",
    "    def checkIfPangram(self, sentence):\n",
    "        \"\"\"\n",
    "        :type sentence: str\n",
    "        :rtype: bool\n",
    "        \"\"\"\n",
    "        alpha_dict = {}\n",
    "        for each in range(97,123):\n",
    "            alpha_dict[chr(each)] = None\n",
    "        for char in sentence:\n",
    "            alpha_dict[char]=1\n",
    "        if None in alpha_dict.values():\n",
    "            return False\n",
    "        else:\n",
    "            return True\n",
    "\n",
    "o = Solution()\n",
    "o.checkIfPangram(\"thequickbrownfoxjumpsoverthelazydog\")"
   ]
  },
  {
   "cell_type": "markdown",
   "metadata": {},
   "source": [
    "## 1704) Determine if String Halves Are Alike\n",
    "\n",
    "You are given a string `s` of even length. Split this string into two halves of equal lengths, and let `a` be the first half and `b` be the second half.\n",
    "\n",
    "Two strings are alike if they have the same number of vowels `('a', 'e', 'i', 'o', 'u', 'A', 'E', 'I', 'O', 'U')`. Notice that `s` contains uppercase and lowercase letters.\n",
    "\n",
    "Return `true` if `a` and `b` are alike. Otherwise, return `false`.\n",
    "\n",
    " \n",
    "Example 1:\n",
    "```\n",
    "Input: s = \"book\"\n",
    "Output: true\n",
    "Explanation: a = \"bo\" and b = \"ok\". a has 1 vowel and b has 1 vowel. Therefore, they are alike.\n",
    "```\n",
    "Example 2:\n",
    "```\n",
    "Input: s = \"textbook\"\n",
    "Output: false\n",
    "Explanation: a = \"text\" and b = \"book\". a has 1 vowel whereas b has 2. Therefore, they are not alike.\n",
    "Notice that the vowel o is counted twice.\n",
    "```\n",
    "Example 3:\n",
    "```\n",
    "Input: s = \"MerryChristmas\"\n",
    "Output: false\n",
    "```\n",
    "Example 4:\n",
    "```\n",
    "Input: s = \"AbCdEfGh\"\n",
    "Output: true\n",
    "```\n",
    "\n",
    "Constraints:\n",
    "```\n",
    "2 <= s.length <= 1000\n",
    "s.length is even.\n",
    "s consists of uppercase and lowercase letters.\n",
    "```"
   ]
  },
  {
   "cell_type": "code",
   "execution_count": 37,
   "metadata": {},
   "outputs": [
    {
     "data": {
      "text/plain": [
       "False"
      ]
     },
     "execution_count": 37,
     "metadata": {},
     "output_type": "execute_result"
    }
   ],
   "source": [
    "class Solution(object):\n",
    "    def halvesAreAlike(self, s):\n",
    "        \"\"\"\n",
    "        :type s: str\n",
    "        :rtype: bool\n",
    "        \"\"\"\n",
    "        vow = ['a', 'e', 'i', 'o', 'u', 'A', 'E', 'I', 'O', 'U']\n",
    "        half = int(len(s)/2)\n",
    "        first = s[0:half]\n",
    "        last = s[-half:]\n",
    "        c_first = 0\n",
    "        c_last = 0\n",
    "        for s_first in first:\n",
    "            if s_first in vow:\n",
    "                c_first+=1\n",
    "        for s_last in last:\n",
    "            if s_last in vow:\n",
    "                c_last+=1\n",
    "        if c_first==c_last:\n",
    "            return True\n",
    "        else:\n",
    "            return False\n",
    "\n",
    "o = Solution()\n",
    "o.halvesAreAlike(\"MeryChristmas\")"
   ]
  },
  {
   "cell_type": "markdown",
   "metadata": {},
   "source": [
    "## 1827) Minimum Operations to Make the Array Increasing\n",
    "You are given an integer array `nums` (0-indexed). In one operation, you can choose an element of the array and increment it by `1`.\n",
    "\n",
    "For example, if `nums = [1,2,3]`, you can choose to increment `nums[1]` to make `nums = [1,3,3]`.\n",
    "Return the minimum number of operations needed to make `nums` strictly increasing.\n",
    "\n",
    "An array `nums` is strictly increasing if `nums[i] < nums[i+1]` for all `0 <= i < nums.length - 1`. An array of length `1` is trivially strictly increasing.\n",
    " \n",
    "\n",
    "Example 1:\n",
    "```\n",
    "Input: nums = [1,1,1]\n",
    "Output: 3\n",
    "Explanation: You can do the following operations:\n",
    "1) Increment nums[2], so nums becomes [1,1,2].\n",
    "2) Increment nums[1], so nums becomes [1,2,2].\n",
    "3) Increment nums[2], so nums becomes [1,2,3].\n",
    "```\n",
    "Example 2:\n",
    "```\n",
    "Input: nums = [1,5,2,4,1]\n",
    "Output: 14\n",
    "```\n",
    "Example 3:\n",
    "```\n",
    "Input: nums = [8]\n",
    "Output: 0\n",
    "```\n",
    "\n",
    "Constraints:\n",
    "```\n",
    "1 <= nums.length <= 5000\n",
    "1 <= nums[i] <= 104\n",
    "```"
   ]
  },
  {
   "cell_type": "code",
   "execution_count": 38,
   "metadata": {},
   "outputs": [
    {
     "data": {
      "text/plain": [
       "14"
      ]
     },
     "execution_count": 38,
     "metadata": {},
     "output_type": "execute_result"
    }
   ],
   "source": [
    "class Solution(object):\n",
    "    \"\"\"\n",
    "    :type nums: List[int]\n",
    "    :rtype: int\n",
    "    \"\"\"\n",
    "    def minOperations(self, nums):\n",
    "        steps=0\n",
    "        for each in range(1,len(nums)):\n",
    "            if nums[each]<=nums[each-1]:\n",
    "                steps+=nums[each-1]-nums[each]+1\n",
    "                nums[each] = nums[each-1]+1\n",
    "        return steps\n",
    "\n",
    "o = Solution()\n",
    "o.minOperations([1,5,2,4,1])"
   ]
  },
  {
   "cell_type": "markdown",
   "metadata": {},
   "source": [
    "## 1266) Minimum Time Visiting All Points\n",
    "On a 2D plane, there are `n` points with integer coordinates `points[i] = [xi, yi]`. Return the minimum time in seconds to visit all the points in the order given by `points`.\n",
    "\n",
    "You can move according to these rules:\n",
    "\n",
    "- In 1 second, you can either:  \n",
    "  - move vertically by one unit,  \n",
    "  - move horizontally by one unit, or  \n",
    "  - move diagonally `sqrt(2)` units (in other words, move one unit vertically then one unit horizontally in `1` second).  \n",
    "- You have to visit the points in the same order as they appear in the array.\n",
    "- You are allowed to pass through points that appear later in the order, but these do not count as visits.  \n",
    "\n",
    "Example 1:\n",
    "![Linked List](img/1626_example_1.png)\n",
    "```\n",
    "Input: points = [[1,1],[3,4],[-1,0]]\n",
    "Output: 7\n",
    "Explanation: One optimal path is [1,1] -> [2,2] -> [3,3] -> [3,4] -> [2,3] -> [1,2] -> [0,1] -> [-1,0]   \n",
    "Time from [1,1] to [3,4] = 3 seconds \n",
    "Time from [3,4] to [-1,0] = 4 seconds\n",
    "Total time = 7 seconds\n",
    "```\n",
    "Example 2:\n",
    "```\n",
    "Input: points = [[3,2],[-2,2]]\n",
    "Output: 5\n",
    "```\n",
    "Constraints:\n",
    "```\n",
    "points.length == n\n",
    "1 <= n <= 100\n",
    "points[i].length == 2\n",
    "-1000 <= points[i][0], points[i][1] <= 1000\n",
    "```"
   ]
  },
  {
   "cell_type": "code",
   "execution_count": 39,
   "metadata": {},
   "outputs": [
    {
     "data": {
      "text/plain": [
       "7"
      ]
     },
     "execution_count": 39,
     "metadata": {},
     "output_type": "execute_result"
    }
   ],
   "source": [
    "class Solution(object):\n",
    "    def minTimeToVisitAllPoints(self, points):\n",
    "        \"\"\"\n",
    "        :type points: List[List[int]]\n",
    "        :rtype: int\n",
    "        \"\"\"\n",
    "        c=0\n",
    "        for i in range(1,len(points)):\n",
    "            prev = points[i-1]\n",
    "            current = points[i]\n",
    "            while(current!=prev):\n",
    "                if prev[0] != current[0] and prev[0] < current[0]:\n",
    "                    prev[0]+=1\n",
    "                elif prev[0] != current[0] and prev[0] > current[0]:\n",
    "                    prev[0]-=1\n",
    "                if prev[1] != current[1] and prev[1] < current[1]:\n",
    "                    prev[1]+=1\n",
    "                elif prev[1] != current[1] and prev[1] > current[1]:\n",
    "                    prev[1]-=1\n",
    "                c+=1\n",
    "        return c\n",
    "            \n",
    "o = Solution().minTimeToVisitAllPoints([[1,1],[3,4],[-1,0]])\n",
    "o"
   ]
  },
  {
   "cell_type": "markdown",
   "metadata": {},
   "source": [
    "## 1021) Remove Outermost Parentheses\n",
    "A valid parentheses string is either empty `(\"\")`, `\"(\" + A + \")\"`, or `A + B`, where `A` and `B` are valid parentheses strings, and + represents string concatenation.  For example, `\"\"`, `\"()\"`, `\"(())()\"`, and `\"(()(()))\"` are all valid parentheses strings.\n",
    "\n",
    "A valid parentheses string `S` is primitive if it is nonempty, and there does not exist a way to split it into `S = A+B`, with `A` and `B` nonempty valid parentheses strings.\n",
    "\n",
    "Given a valid parentheses string `S`, consider its primitive decomposition: `S = P_1 + P_2 + ... + P_k`, where `P_i` are primitive valid parentheses strings.\n",
    "\n",
    "Return `S` after removing the outermost parentheses of every primitive string in the primitive decomposition of `S`.\n",
    "\n",
    "\n",
    "Example 1:\n",
    "```\n",
    "Input: \"(()())(())\"\n",
    "Output: \"()()()\"\n",
    "Explanation: \n",
    "The input string is \"(()())(())\", with primitive decomposition \"(()())\" + \"(())\".\n",
    "After removing outer parentheses of each part, this is \"()()\" + \"()\" = \"()()()\".\n",
    "```\n",
    "Example 2:\n",
    "```\n",
    "Input: \"(()())(())(()(()))\"\n",
    "Output: \"()()()()(())\"\n",
    "Explanation: \n",
    "The input string is \"(()())(())(()(()))\", with primitive decomposition \"(()())\" + \"(())\" + \"(()(()))\".\n",
    "After removing outer parentheses of each part, this is \"()()\" + \"()\" + \"()(())\" = \"()()()()(())\".\n",
    "```\n",
    "Example 3:\n",
    "```\n",
    "Input: \"()()\"\n",
    "Output: \"\"\n",
    "Explanation: \n",
    "The input string is \"()()\", with primitive decomposition \"()\" + \"()\".\n",
    "After removing outer parentheses of each part, this is \"\" + \"\" = \"\".\n",
    "```\n",
    "\n",
    "Note:\n",
    "```\n",
    "S.length <= 10000\n",
    "S[i] is \"(\" or \")\"\n",
    "S is a valid parentheses string\n",
    "```"
   ]
  },
  {
   "cell_type": "code",
   "execution_count": 40,
   "metadata": {},
   "outputs": [
    {
     "data": {
      "text/plain": [
       "'()()()'"
      ]
     },
     "execution_count": 40,
     "metadata": {},
     "output_type": "execute_result"
    }
   ],
   "source": [
    "class Solution(object):\n",
    "    def removeOuterParentheses(self, S):\n",
    "        res, opened = [], 0\n",
    "        for c in S:\n",
    "            if c == '(' and opened > 0:\n",
    "                res.append(c)\n",
    "            if c == ')' and opened > 1:\n",
    "                res.append(c)\n",
    "            if c == '(':\n",
    "                opened += 1\n",
    "            else:\n",
    "                opened -= 1\n",
    "        return \"\".join(res)\n",
    "\n",
    "o = Solution().removeOuterParentheses(\"(()())(())\")\n",
    "o"
   ]
  },
  {
   "cell_type": "markdown",
   "metadata": {},
   "source": [
    "## 804) Unique Morse Code Words\n",
    "International Morse Code defines a standard encoding where each letter is mapped to a series of dots and dashes, as follows: `\"a\"` maps to `\".-\"`, `\"b\"` maps to `\"-...\"`, `\"c\"` maps to `\"-.-.\"`, and so on.\n",
    "\n",
    "For convenience, the full table for the 26 letters of the English alphabet is given below:\n",
    "```\n",
    "[\".-\",\"-...\",\"-.-.\",\"-..\",\".\",\"..-.\",\"--.\",\"....\",\"..\",\".---\",\"-.-\",\".-..\",\"--\",\"-.\",\"---\",\".--.\",\"--.-\",\".-.\",\"...\",\"-\",\"..-\",\"...-\",\".--\",\"-..-\",\"-.--\",\"--..\"]\n",
    "```\n",
    "Now, given a list of words, each word can be written as a concatenation of the Morse code of each letter. For example, `\"cab\"` can be written as `\"-.-..--...\"`, (which is the concatenation `\"-.-.\"` + `\".-\"` + `\"-...\"`). We'll call such a concatenation, the transformation of a word.\n",
    "\n",
    "Return the number of different transformations among all words we have.\n",
    "\n",
    "Example:\n",
    "```\n",
    "Input: words = [\"gin\", \"zen\", \"gig\", \"msg\"]\n",
    "Output: 2\n",
    "Explanation: \n",
    "The transformation of each word is:\n",
    "\"gin\" -> \"--...-.\"\n",
    "\"zen\" -> \"--...-.\"\n",
    "\"gig\" -> \"--...--.\"\n",
    "\"msg\" -> \"--...--.\"\n",
    "```\n",
    "There are 2 different transformations, `\"--...-.\"` and `\"--...--.\"`.\n",
    "Note:\n",
    "```\n",
    "The length of words will be at most 100.\n",
    "Each words[i] will have length in range [1, 12].\n",
    "words[i] will only consist of lowercase letters.\n",
    "```"
   ]
  },
  {
   "cell_type": "code",
   "execution_count": 41,
   "metadata": {},
   "outputs": [
    {
     "data": {
      "text/plain": [
       "2"
      ]
     },
     "execution_count": 41,
     "metadata": {},
     "output_type": "execute_result"
    }
   ],
   "source": [
    "class Solution(object):\n",
    "    def uniqueMorseRepresentations(self, words):\n",
    "        \"\"\"\n",
    "        :type words: List[str]\n",
    "        :rtype: int\n",
    "        \"\"\"\n",
    "        morse_map = [\".-\",\"-...\",\"-.-.\",\"-..\",\".\",\"..-.\",\"--.\",\"....\",\"..\",\".---\",\"-.-\",\".-..\",\"--\",\"-.\",\"---\",\".--.\",\"--.-\",\".-.\",\"...\",\"-\",\"..-\",\"...-\",\".--\",\"-..-\",\"-.--\",\"--..\"]\n",
    "        li,n = [],[]\n",
    "        for each in words:\n",
    "            li.append([morse_map[ord(c)-97] for c in each])\n",
    "        for each in li:\n",
    "            n.append(''.join(each))\n",
    "        return len(set(n))\n",
    "o = Solution()\n",
    "o.uniqueMorseRepresentations([\"gin\", \"zen\", \"gig\", \"msg\"])"
   ]
  },
  {
   "cell_type": "markdown",
   "metadata": {},
   "source": [
    "## 1816) Truncate Sentence\n",
    "A sentence is a list of words that are separated by a single space with no leading or trailing spaces. Each of the words consists of only uppercase and lowercase English letters (no punctuation).\n",
    "\n",
    "For example, `\"Hello World\"`, `\"HELLO\"`, and `\"hello world hello world\"` are all sentences.\n",
    "You are given a sentence `s` and an integer `k`. You want to truncate `s` such that it contains only the first `k` words. Return `s` after truncating it.\n",
    " \n",
    "\n",
    "Example 1:\n",
    "```\n",
    "Input: s = \"Hello how are you Contestant\", k = 4\n",
    "Output: \"Hello how are you\"\n",
    "Explanation:\n",
    "The words in s are [\"Hello\", \"how\" \"are\", \"you\", \"Contestant\"].\n",
    "The first 4 words are [\"Hello\", \"how\", \"are\", \"you\"].\n",
    "Hence, you should return \"Hello how are you\".\n",
    "```\n",
    "Example 2:\n",
    "```\n",
    "Input: s = \"What is the solution to this problem\", k = 4\n",
    "Output: \"What is the solution\"\n",
    "Explanation:\n",
    "The words in s are [\"What\", \"is\" \"the\", \"solution\", \"to\", \"this\", \"problem\"].\n",
    "The first 4 words are [\"What\", \"is\", \"the\", \"solution\"].\n",
    "Hence, you should return \"What is the solution\".\n",
    "```\n",
    "Example 3:\n",
    "```\n",
    "Input: s = \"chopper is not a tanuki\", k = 5\n",
    "Output: \"chopper is not a tanuki\"\n",
    "```\n",
    "\n",
    "Constraints:\n",
    "```\n",
    "1 <= s.length <= 500\n",
    "k is in the range [1, the number of words in s].\n",
    "s consist of only lowercase and uppercase English letters and spaces.\n",
    "The words in s are separated by a single space.\n",
    "There are no leading or trailing spaces.\n",
    "```"
   ]
  },
  {
   "cell_type": "code",
   "execution_count": 42,
   "metadata": {},
   "outputs": [
    {
     "data": {
      "text/plain": [
       "'Hello how are you Contestant'"
      ]
     },
     "execution_count": 42,
     "metadata": {},
     "output_type": "execute_result"
    }
   ],
   "source": [
    "class Solution(object):\n",
    "    def truncateSentence(self,s,k):\n",
    "        ct_space = 0\n",
    "        sentence = \"\"\n",
    "        for each in s:\n",
    "            sentence+=each\n",
    "            if ord(each) == 32:\n",
    "                k-=1\n",
    "            if k==0:\n",
    "                return sentence[:-1]\n",
    "        return sentence\n",
    "\n",
    "o = Solution().truncateSentence(\"Hello how are you Contestant\", 5)\n",
    "o"
   ]
  },
  {
   "cell_type": "markdown",
   "metadata": {},
   "source": [
    "## 1295) Find Numbers with Even Number of Digits\n",
    "Given an array nums of integers, return how many of them contain an even number of digits.\n",
    " \n",
    "\n",
    "Example 1:\n",
    "```\n",
    "Input: nums = [12,345,2,6,7896]\n",
    "Output: 2\n",
    "Explanation: \n",
    "12 contains 2 digits (even number of digits). \n",
    "345 contains 3 digits (odd number of digits). \n",
    "2 contains 1 digit (odd number of digits). \n",
    "6 contains 1 digit (odd number of digits). \n",
    "7896 contains 4 digits (even number of digits). \n",
    "Therefore only 12 and 7896 contain an even number of digits.\n",
    "```\n",
    "Example 2:\n",
    "```\n",
    "Input: nums = [555,901,482,1771]\n",
    "Output: 1 \n",
    "Explanation: \n",
    "Only 1771 contains an even number of digits.\n",
    "```\n",
    "\n",
    "Constraints:\n",
    "```\n",
    "1 <= nums.length <= 500\n",
    "1 <= nums[i] <= 10^5\n",
    "```"
   ]
  },
  {
   "cell_type": "code",
   "execution_count": 43,
   "metadata": {},
   "outputs": [
    {
     "data": {
      "text/plain": [
       "1"
      ]
     },
     "execution_count": 43,
     "metadata": {},
     "output_type": "execute_result"
    }
   ],
   "source": [
    "import math\n",
    "class Solution(object):\n",
    "    def findNumbers(self, nums):\n",
    "        \"\"\"\n",
    "        :type nums: List[int]\n",
    "        :rtype: int\n",
    "        \"\"\"\n",
    "        c = 0\n",
    "        for each in nums:\n",
    "            if int(math.log10(each))%2==1:\n",
    "                c+=1\n",
    "        return c\n",
    "\n",
    "o = Solution().findNumbers([555,901,482,1771])\n",
    "o"
   ]
  },
  {
   "cell_type": "markdown",
   "metadata": {},
   "source": [
    "## 1252) Cells with Odd Values in a Matrix\n",
    "There is an `m x n` matrix that is initialized to all `0`'s. There is also a 2D array `indices` where each `indices[i] = [ri, ci]` represents a 0-indexed location to perform some increment operations on the matrix.\n",
    "\n",
    "For each location `indices[i]`, do both of the following:\n",
    "\n",
    "1) Increment all the cells on row ri.  \n",
    "2) Increment all the cells on column ci.  \n",
    "Given m, n, and indices, return the number of odd-valued cells in the matrix after applying the increment to all locations in indices.  \n",
    "Example 1:\n",
    "![Matrix1](img/e1.png)\n",
    "```\n",
    "Input: m = 2, n = 3, indices = [[0,1],[1,1]]\n",
    "Output: 6\n",
    "Explanation: Initial matrix = [[0,0,0],[0,0,0]].\n",
    "After applying first increment it becomes [[1,2,1],[0,1,0]].\n",
    "The final matrix is [[1,3,1],[1,3,1]], which contains 6 odd numbers.\n",
    "```\n",
    "Example 2:\n",
    "![Matrix2](img/e2.png)\n",
    "```\n",
    "Input: m = 2, n = 2, indices = [[1,1],[0,0]]\n",
    "Output: 0\n",
    "Explanation: Final matrix = [[2,2],[2,2]]. There are no odd numbers in the final matrix.\n",
    "```\n",
    "Constraints:\n",
    "```\n",
    "1 <= m, n <= 50\n",
    "1 <= indices.length <= 100\n",
    "0 <= ri < m\n",
    "0 <= ci < n\n",
    "```\n",
    "\n",
    "Follow up: Could you solve this in O(n + m + indices.length) time with only O(n + m) extra space?"
   ]
  },
  {
   "cell_type": "code",
   "execution_count": 44,
   "metadata": {},
   "outputs": [],
   "source": [
    "from typing import List\n",
    "class Solution(object):\n",
    "    def oddCells(self, n: int, m: int, indices: List[List[int]]) -> int:\n",
    "        \"\"\"\n",
    "        :type m: int\n",
    "        :type n: int\n",
    "        :type indices: List[List[int]]\n",
    "        :rtype: int\n",
    "        \"\"\"\n",
    "        pass"
   ]
  },
  {
   "cell_type": "markdown",
   "metadata": {},
   "source": [
    "## 832) Flipping an Image\n",
    "Given an `n x n` binary matrix `image`, flip the image horizontally, then invert it, and return the resulting image.\n",
    "\n",
    "To flip an image horizontally means that each row of the image is reversed.\n",
    "\n",
    "For example, flipping `[1,1,0]` horizontally results in `[0,1,1]`.\n",
    "To invert an image means that each `0` is replaced by `1`, and each `1` is replaced by `0`.\n",
    "\n",
    "For example, inverting `[0,1,1]` results in `[1,0,0]`.\n",
    " \n",
    "\n",
    "Example 1:\n",
    "```\n",
    "Input: image = [[1,1,0],[1,0,1],[0,0,0]]\n",
    "Output: [[1,0,0],[0,1,0],[1,1,1]]\n",
    "Explanation: First reverse each row: [[0,1,1],[1,0,1],[0,0,0]].\n",
    "Then, invert the image: [[1,0,0],[0,1,0],[1,1,1]]\n",
    "```\n",
    "Example 2:\n",
    "```\n",
    "Input: image = [[1,1,0,0],[1,0,0,1],[0,1,1,1],[1,0,1,0]]\n",
    "Output: [[1,1,0,0],[0,1,1,0],[0,0,0,1],[1,0,1,0]]\n",
    "Explanation: First reverse each row: [[0,0,1,1],[1,0,0,1],[1,1,1,0],[0,1,0,1]].\n",
    "Then invert the image: [[1,1,0,0],[0,1,1,0],[0,0,0,1],[1,0,1,0]]\n",
    "```\n",
    "\n",
    "Constraints:\n",
    "```\n",
    "n == image.length\n",
    "n == image[i].length\n",
    "1 <= n <= 20\n",
    "images[i][j] is either 0 or 1.\n",
    "```"
   ]
  },
  {
   "cell_type": "code",
   "execution_count": 45,
   "metadata": {},
   "outputs": [
    {
     "data": {
      "text/plain": [
       "[[1, 0, 0], [0, 1, 0], [1, 1, 1]]"
      ]
     },
     "execution_count": 45,
     "metadata": {},
     "output_type": "execute_result"
    }
   ],
   "source": [
    "class Solution(object):\n",
    "    def flipAndInvertImage(self, image):\n",
    "        \"\"\"\n",
    "        :type image: List[List[int]]\n",
    "        :rtype: List[List[int]]\n",
    "        \"\"\"\n",
    "        return [[l[i] ^ 1 for i in range(len(l) - 1, -1, -1)] for l in image]\n",
    "\n",
    "o = Solution().flipAndInvertImage([[1,1,0],[1,0,1],[0,0,0]])\n",
    "o"
   ]
  },
  {
   "cell_type": "markdown",
   "metadata": {},
   "source": [
    "## 1812) Determine Color of a Chessboard Square\n",
    "You are given `coordinates`, a string that represents the coordinates of a square of the chessboard. Below is a chessboard for your reference.\n",
    "\n",
    "Return `true` if the square is white, and `false` if the square is black.\n",
    "\n",
    "The coordinate will always represent a valid chessboard square. The coordinate will always have the letter first, and the number second.  \n",
    "![Chess](img/chess.png)\n",
    "Example 1:\n",
    "```\n",
    "Input: coordinates = \"a1\"\n",
    "Output: false\n",
    "Explanation: From the chessboard above, the square with coordinates \"a1\" is black, so return false.\n",
    "```\n",
    "Example 2:\n",
    "```\n",
    "Input: coordinates = \"h3\"\n",
    "Output: true\n",
    "Explanation: From the chessboard above, the square with coordinates \"h3\" is white, so return true.\n",
    "```\n",
    "Example 3:\n",
    "```\n",
    "Input: coordinates = \"c7\"\n",
    "Output: false\n",
    "```\n",
    "\n",
    "Constraints:\n",
    "```\n",
    "coordinates.length == 2\n",
    "'a' <= coordinates[0] <= 'h'\n",
    "'1' <= coordinates[1] <= '8'\n",
    "```"
   ]
  },
  {
   "cell_type": "code",
   "execution_count": 46,
   "metadata": {},
   "outputs": [
    {
     "data": {
      "text/plain": [
       "True"
      ]
     },
     "execution_count": 46,
     "metadata": {},
     "output_type": "execute_result"
    }
   ],
   "source": [
    "class Solution(object):\n",
    "    def squareIsWhite(self, coordinates):\n",
    "        \"\"\"\n",
    "        :type coordinates: str\n",
    "        :rtype: bool\n",
    "        \"\"\"\n",
    "        alpha_dct = {\"a\":1,\"b\":2,\"c\":3,\"d\":4,\"e\":5,\"f\":6,\"g\":7,\"h\":8}\n",
    "        if (int(alpha_dct.get(coordinates[0])) + int(coordinates[1]))%2==0:\n",
    "            return False\n",
    "        else:\n",
    "            return True\n",
    "\n",
    "o = Solution().squareIsWhite(\"h3\")\n",
    "o"
   ]
  },
  {
   "cell_type": "markdown",
   "metadata": {},
   "source": [
    "## 1725) Number Of Rectangles That Can Form The Largest Square\n",
    "You are given an array `rectangles` where `rectangles[i] = [li, wi]` represents the `ith` rectangle of length `li` and width `wi`.\n",
    "\n",
    "You can cut the `ith` rectangle to form a square with a side length of `k` if both `k <= li` and `k <= wi`. For example, if you have a rectangle `[4,6]`, you can cut it to get a square with a side length of at most `4`.\n",
    "\n",
    "Let `maxLen` be the side length of the largest square you can obtain from any of the given rectangles.\n",
    "\n",
    "Return the number of rectangles that can make a square with a side length of `maxLen`.\n",
    "\n",
    " \n",
    "Example 1:\n",
    "```\n",
    "Input: rectangles = [[5,8],[3,9],[5,12],[16,5]]\n",
    "Output: 3\n",
    "Explanation: The largest squares you can get from each rectangle are of lengths [5,3,5,5].\n",
    "The largest possible square is of length 5, and you can get it out of 3 rectangles.\n",
    "```\n",
    "Example 2:\n",
    "```\n",
    "Input: rectangles = [[2,3],[3,7],[4,3],[3,7]]\n",
    "Output: 3\n",
    "```\n",
    "\n",
    "Constraints:\n",
    "```\n",
    "1 <= rectangles.length <= 1000\n",
    "rectangles[i].length == 2\n",
    "1 <= li, wi <= 109\n",
    "li != wi\n",
    "```"
   ]
  },
  {
   "cell_type": "code",
   "execution_count": 47,
   "metadata": {},
   "outputs": [
    {
     "data": {
      "text/plain": [
       "3"
      ]
     },
     "execution_count": 47,
     "metadata": {},
     "output_type": "execute_result"
    }
   ],
   "source": [
    "class Solution(object):\n",
    "    def countGoodRectangles(self, rectangles):\n",
    "        \"\"\"\n",
    "        :type rectangles: List[List[int]]\n",
    "        :rtype: int\n",
    "        \"\"\"\n",
    "        l,c = [min(x) for x in rectangles],0\n",
    "        max_val = max(l)\n",
    "        for each in l:\n",
    "            if each==max_val:\n",
    "                c+=1\n",
    "        return c\n",
    "\n",
    "o = Solution().countGoodRectangles([[5,8],[3,9],[5,12],[16,5]])\n",
    "o"
   ]
  },
  {
   "cell_type": "markdown",
   "metadata": {},
   "source": [
    "## 1323) Maximum 69 Number\n",
    "Given a positive integer `num` consisting only of digits 6 and 9.\n",
    "\n",
    "Return the maximum number you can get by changing at most one digit (6 becomes 9, and 9 becomes 6).\n",
    " \n",
    "\n",
    "Example 1:\n",
    "```\n",
    "Input: num = 9669\n",
    "Output: 9969\n",
    "Explanation: \n",
    "Changing the first digit results in 6669.\n",
    "Changing the second digit results in 9969.\n",
    "Changing the third digit results in 9699.\n",
    "Changing the fourth digit results in 9666. \n",
    "The maximum number is 9969.\n",
    "```\n",
    "Example 2:\n",
    "```\n",
    "Input: num = 9996\n",
    "Output: 9999\n",
    "Explanation: Changing the last digit 6 to 9 results in the maximum number.\n",
    "```\n",
    "Example 3:\n",
    "```\n",
    "Input: num = 9999\n",
    "Output: 9999\n",
    "Explanation: It is better not to apply any change.\n",
    "```\n",
    "\n",
    "Constraints:\n",
    "```\n",
    "1 <= num <= 10^4\n",
    "num's digits are 6 or 9.\n",
    "```"
   ]
  },
  {
   "cell_type": "code",
   "execution_count": 48,
   "metadata": {},
   "outputs": [
    {
     "data": {
      "text/plain": [
       "99"
      ]
     },
     "execution_count": 48,
     "metadata": {},
     "output_type": "execute_result"
    }
   ],
   "source": [
    "import math\n",
    "class Solution(object):\n",
    "    def maximum69Number (self, num):\n",
    "        \"\"\"\n",
    "        :type num: int\n",
    "        :rtype: int\n",
    "        \"\"\"\n",
    "        str_num = str(num)\n",
    "        n = int(math.log10(num))\n",
    "        li = []\n",
    "        for i in range(0,n+1):\n",
    "            if str_num[i]=='9':\n",
    "                x = str_num[:i] + '6' + str_num[i+1:]\n",
    "            else:\n",
    "                x = str_num[:i] + '9' + str_num[i+1:]\n",
    "            if '6' not in str_num:\n",
    "                x= str_num\n",
    "            li.append(int(x))\n",
    "        return max(li)\n",
    "\n",
    "o = Solution().maximum69Number(99)\n",
    "o"
   ]
  },
  {
   "cell_type": "markdown",
   "metadata": {},
   "source": [
    "## 1309) Decrypt String from Alphabet to Integer Mapping \n",
    "Given a string `s` formed by digits (`'0'` - `'9'`) and `'#'` . We want to map s to English lowercase characters as follows:\n",
    "\n",
    "Characters (`'a'` to `'i'`) are represented by (`'1'` to `'9'`) respectively.\n",
    "Characters (`'j'` to `'z'`) are represented by (`'10#'` to `'26#'`) respectively. \n",
    "Return the string formed after mapping.\n",
    "\n",
    "It's guaranteed that a unique mapping will always exist.\n",
    "\n",
    "\n",
    "Example 1:\n",
    "```\n",
    "Input: s = \"10#11#12\"\n",
    "Output: \"jkab\"\n",
    "Explanation: \"j\" -> \"10#\" , \"k\" -> \"11#\" , \"a\" -> \"1\" , \"b\" -> \"2\".\n",
    "```\n",
    "Example 2:\n",
    "```\n",
    "Input: s = \"1326#\"\n",
    "Output: \"acz\"\n",
    "```\n",
    "Example 3:\n",
    "```\n",
    "Input: s = \"25#\"\n",
    "Output: \"y\"\n",
    "```\n",
    "Example 4:\n",
    "```\n",
    "Input: s = \"12345678910#11#12#13#14#15#16#17#18#19#20#21#22#23#24#25#26#\"\n",
    "Output: \"abcdefghijklmnopqrstuvwxyz\"\n",
    "```\n",
    "\n",
    "Constraints:\n",
    "```\n",
    "1 <= s.length <= 1000\n",
    "s[i] only contains digits letters ('0'-'9') and '#' letter.\n",
    "s will be valid string such that mapping is always possible.\n",
    "```"
   ]
  },
  {
   "cell_type": "code",
   "execution_count": 49,
   "metadata": {},
   "outputs": [
    {
     "data": {
      "text/plain": [
       "'y'"
      ]
     },
     "execution_count": 49,
     "metadata": {},
     "output_type": "execute_result"
    }
   ],
   "source": [
    "class Solution(object):\n",
    "    def freqAlphabets(self, s):\n",
    "        \"\"\"\n",
    "        :type s: str\n",
    "        :rtype: str\n",
    "        \"\"\"\n",
    "        c1,c2,d,e = 1,10,{},{}\n",
    "        for i in range(97,106):\n",
    "            d[str(c1)] = chr(i)\n",
    "            c1+=1\n",
    "        for i in range(106,123):\n",
    "            e[str(c2)+\"#\"] = chr(i)\n",
    "            c2+=1\n",
    "        alpha_dict = {**e, **d}\n",
    "        for key,value in alpha_dict.items():\n",
    "            s=s.replace(key,value)\n",
    "        return s\n",
    "\n",
    "o = Solution().freqAlphabets(\"25#\")\n",
    "o"
   ]
  },
  {
   "cell_type": "markdown",
   "metadata": {},
   "source": [
    "## 1844) Replace All Digits with Characters\n",
    "You are given a 0-indexed string `s` that has lowercase English letters in its even indices and digits in its odd indices.\n",
    "\n",
    "There is a function `shift(c, x)`, where `c` is a character and `x` is a digit, that returns the `xth` character after `c`.\n",
    "\n",
    "For example, `shift('a', 5) = 'f'` and `shift('x', 0) = 'x'`.\n",
    "For every odd index `i`, you want to replace the digit `s[i]` with `shift(s[i-1], s[i])`.\n",
    "\n",
    "Return `s` after replacing all digits. It is guaranteed that `shift(s[i-1], s[i])` will never exceed `'z'`.\n",
    " \n",
    "\n",
    "Example 1:\n",
    "```\n",
    "Input: s = \"a1c1e1\"\n",
    "Output: \"abcdef\"\n",
    "Explanation: The digits are replaced as follows:\n",
    "- s[1] -> shift('a',1) = 'b'\n",
    "- s[3] -> shift('c',1) = 'd'\n",
    "- s[5] -> shift('e',1) = 'f'\n",
    "```\n",
    "Example 2:\n",
    "```\n",
    "Input: s = \"a1b2c3d4e\"\n",
    "Output: \"abbdcfdhe\"\n",
    "Explanation: The digits are replaced as follows:\n",
    "- s[1] -> shift('a',1) = 'b'\n",
    "- s[3] -> shift('b',2) = 'd'\n",
    "- s[5] -> shift('c',3) = 'f'\n",
    "- s[7] -> shift('d',4) = 'h'\n",
    "```\n",
    "\n",
    "Constraints:\n",
    "```\n",
    "1 <= s.length <= 100\n",
    "s consists only of lowercase English letters and digits.\n",
    "shift(s[i-1], s[i]) <= 'z' for all odd indices i.\n",
    "```"
   ]
  },
  {
   "cell_type": "code",
   "execution_count": 50,
   "metadata": {},
   "outputs": [
    {
     "data": {
      "text/plain": [
       "'abcdef'"
      ]
     },
     "execution_count": 50,
     "metadata": {},
     "output_type": "execute_result"
    }
   ],
   "source": [
    "class Solution(object):\n",
    "    def replaceDigits(self, s):\n",
    "        \"\"\"\n",
    "        :type s: str\n",
    "        :rtype: str\n",
    "        \"\"\"\n",
    "        n = s[0]\n",
    "        for c in range(1,len(s)):\n",
    "            if c%2==1:\n",
    "                n+= chr(ord(s[c-1])+int(s[c]))\n",
    "            else:\n",
    "                n+=s[c]\n",
    "        return n\n",
    "o = Solution().replaceDigits(\"a1c1e1\")\n",
    "o"
   ]
  },
  {
   "cell_type": "markdown",
   "metadata": {},
   "source": [
    "## 1572) Matrix Diagonal Sum\n",
    "Given a square matrix `mat`, return the sum of the matrix diagonals.\n",
    "\n",
    "Only include the sum of all the elements on the primary diagonal and all the elements on the secondary diagonal that are not part of the primary diagonal.\n",
    "\n",
    " \n",
    "\n",
    "Example 1:\n",
    "\n",
    "![Diagonal Sum](img/sample_1911.png)\n",
    "```\n",
    "Input: mat = [[1,2,3],\n",
    "              [4,5,6],\n",
    "              [7,8,9]]\n",
    "Output: 25\n",
    "Explanation: Diagonals sum: 1 + 5 + 9 + 3 + 7 = 25\n",
    "Notice that element mat[1][1] = 5 is counted only once.\n",
    "```\n",
    "Example 2:\n",
    "```\n",
    "Input: mat = [[1,1,1,1],\n",
    "              [1,1,1,1],\n",
    "              [1,1,1,1],\n",
    "              [1,1,1,1]]\n",
    "Output: 8\n",
    "```\n",
    "Example 3:\n",
    "```\n",
    "Input: mat = [[5]]\n",
    "Output: 5\n",
    "```\n",
    "\n",
    "Constraints:\n",
    "```\n",
    "n == mat.length == mat[i].length\n",
    "1 <= n <= 100\n",
    "1 <= mat[i][j] <= 100\n",
    "```"
   ]
  },
  {
   "cell_type": "code",
   "execution_count": 51,
   "metadata": {},
   "outputs": [
    {
     "data": {
      "text/plain": [
       "25"
      ]
     },
     "execution_count": 51,
     "metadata": {},
     "output_type": "execute_result"
    }
   ],
   "source": [
    "class Solution(object):\n",
    "    def diagonalSum(self, mat):\n",
    "        init,length = 0,len(mat)-1\n",
    "        s = 0\n",
    "        for each in mat:\n",
    "            if init==length:\n",
    "                s+=each[init]\n",
    "            else:\n",
    "                s+=each[init]+each[length]\n",
    "            init+=1;length-=1\n",
    "            if init==length and length==0:\n",
    "                break\n",
    "        return s\n",
    "\n",
    "o = Solution().diagonalSum([[1,2,3],[4,5,6],[7,8,9]])\n",
    "o"
   ]
  },
  {
   "cell_type": "markdown",
   "metadata": {},
   "source": [
    "## 1370) Increasing Decreasing String\n",
    "Given a string `s`. You should re-order the string using the following algorithm:\n",
    "\n",
    "- Pick the smallest character from `s` and append it to the result.\n",
    "- Pick the smallest character from `s` which is greater than the last appended character to the result and append it.\n",
    "- Repeat step 2 until you cannot pick more characters.\n",
    "- Pick the largest character from `s` and append it to the result.\n",
    "- Pick the largest character from `s` which is smaller than the last appended character to the result and append it.\n",
    "- Repeat step 5 until you cannot pick more characters.\n",
    "- Repeat the steps from 1 to 6 until you pick all characters from `s`.  \n",
    "\n",
    "In each step, If the smallest or the largest character appears more than once you can choose any occurrence and append it to the result.\n",
    "\n",
    "Return the result string after sorting `s` with this algorithm.\n",
    "\n",
    " \n",
    "\n",
    "Example 1:\n",
    "```\n",
    "Input: s = \"aaaabbbbcccc\"\n",
    "Output: \"abccbaabccba\"\n",
    "Explanation: After steps 1, 2 and 3 of the first iteration, result = \"abc\"\n",
    "After steps 4, 5 and 6 of the first iteration, result = \"abccba\"\n",
    "First iteration is done. Now s = \"aabbcc\" and we go back to step 1\n",
    "After steps 1, 2 and 3 of the second iteration, result = \"abccbaabc\"\n",
    "After steps 4, 5 and 6 of the second iteration, result = \"abccbaabccba\"\n",
    "```\n",
    "Example 2:\n",
    "```\n",
    "Input: s = \"rat\"\n",
    "Output: \"art\"\n",
    "Explanation: The word \"rat\" becomes \"art\" after re-ordering it with the mentioned algorithm.\n",
    "```\n",
    "Example 3:\n",
    "```\n",
    "Input: s = \"leetcode\"\n",
    "Output: \"cdelotee\"\n",
    "```\n",
    "Example 4:\n",
    "```\n",
    "Input: s = \"ggggggg\"\n",
    "Output: \"ggggggg\"\n",
    "```\n",
    "Example 5:\n",
    "```\n",
    "Input: s = \"spo\"\n",
    "Output: \"ops\"\n",
    "```\n",
    "\n",
    "Constraints:\n",
    "```\n",
    "1 <= s.length <= 500\n",
    "s contains only lower-case English letters.\n",
    "```"
   ]
  },
  {
   "cell_type": "code",
   "execution_count": 52,
   "metadata": {},
   "outputs": [
    {
     "data": {
      "text/plain": [
       "'abccbaabccba'"
      ]
     },
     "execution_count": 52,
     "metadata": {},
     "output_type": "execute_result"
    }
   ],
   "source": [
    "class Solution:\n",
    "    def sortString(self, s):\n",
    "        s = list(s)\n",
    "        final_str = ''\n",
    "        while s:\n",
    "            for ch in sorted(set(s)):\n",
    "                s.remove(ch)\n",
    "                final_str += ch\n",
    "            for ch in sorted(set(s), reverse=True):\n",
    "                s.remove(ch)\n",
    "                final_str += ch\n",
    "        return final_str\n",
    "o = Solution().sortString(\"aaaabbbbcccc\")\n",
    "o"
   ]
  },
  {
   "cell_type": "markdown",
   "metadata": {},
   "source": [
    "## 1436) Destination City\n",
    "You are given the array `paths`, where `paths[i] = [cityAi, cityBi]` means there exists a direct path going from `cityAi` to `cityBi`. Return the destination city, that is, the city without any path outgoing to another city.\n",
    "\n",
    "It is guaranteed that the graph of paths forms a line without any loop, therefore, there will be exactly one destination city.\n",
    "\n",
    "\n",
    "Example 1:\n",
    "```\n",
    "Input: paths = [[\"London\",\"New York\"],[\"New York\",\"Lima\"],[\"Lima\",\"Sao Paulo\"]]\n",
    "Output: \"Sao Paulo\" \n",
    "Explanation: Starting at \"London\" city you will reach \"Sao Paulo\" city which is the destination city. Your trip consist of: \"London\" -> \"New York\" -> \"Lima\" -> \"Sao Paulo\".\n",
    "```\n",
    "Example 2:\n",
    "```\n",
    "Input: paths = [[\"B\",\"C\"],[\"D\",\"B\"],[\"C\",\"A\"]]\n",
    "Output: \"A\"\n",
    "Explanation: All possible trips are: \n",
    "\"D\" -> \"B\" -> \"C\" -> \"A\". \n",
    "\"B\" -> \"C\" -> \"A\". \n",
    "\"C\" -> \"A\". \n",
    "\"A\". \n",
    "Clearly the destination city is \"A\".\n",
    "```\n",
    "Example 3:\n",
    "```\n",
    "Input: paths = [[\"A\",\"Z\"]]\n",
    "Output: \"Z\"\n",
    "```\n",
    "\n",
    "Constraints:\n",
    "```\n",
    "1 <= paths.length <= 100\n",
    "paths[i].length == 2\n",
    "1 <= cityAi.length, cityBi.length <= 10\n",
    "cityAi != cityBi\n",
    "All strings consist of lowercase and uppercase English letters and the space character.\n",
    "```"
   ]
  },
  {
   "cell_type": "code",
   "execution_count": 53,
   "metadata": {},
   "outputs": [
    {
     "data": {
      "text/plain": [
       "'A'"
      ]
     },
     "execution_count": 53,
     "metadata": {},
     "output_type": "execute_result"
    }
   ],
   "source": [
    "class Solution(object):\n",
    "    def destCity(self, paths):\n",
    "        return (set([path[1] for path in paths]) - set([path[0] for path in paths])).pop()\n",
    "\n",
    "o = Solution().destCity([[\"B\",\"C\"],[\"D\",\"B\"],[\"C\",\"A\"]])\n",
    "o"
   ]
  },
  {
   "cell_type": "markdown",
   "metadata": {},
   "source": [
    "## 1464) Maximum Product of Two Elements in an Array\n",
    "Given the array of integers nums, you will choose two different indices `i` and `j` of that array. Return the maximum value of `(nums[i]-1)*(nums[j]-1)`.\n",
    " \n",
    "\n",
    "Example 1:\n",
    "```\n",
    "Input: nums = [3,4,5,2]\n",
    "Output: 12 \n",
    "Explanation: If you choose the indices i=1 and j=2 (indexed from 0), you will get the maximum value, that is, (nums[1]-1)*(nums[2]-1) = (4-1)*(5-1) = 3*4 = 12. \n",
    "```\n",
    "Example 2:\n",
    "```\n",
    "Input: nums = [1,5,4,5]\n",
    "Output: 16\n",
    "Explanation: Choosing the indices i=1 and j=3 (indexed from 0), you will get the maximum value of (5-1)*(5-1) = 16.\n",
    "```\n",
    "Example 3:\n",
    "```\n",
    "Input: nums = [3,7]\n",
    "Output: 12\n",
    "```\n",
    "\n",
    "Constraints:\n",
    "```\n",
    "2 <= nums.length <= 500\n",
    "1 <= nums[i] <= 10^3\n",
    "```"
   ]
  },
  {
   "cell_type": "code",
   "execution_count": 54,
   "metadata": {},
   "outputs": [
    {
     "data": {
      "text/plain": [
       "12"
      ]
     },
     "execution_count": 54,
     "metadata": {},
     "output_type": "execute_result"
    }
   ],
   "source": [
    "class Solution(object):\n",
    "    def maxProduct(self, nums):\n",
    "        \"\"\"\n",
    "        :type nums: List[int]\n",
    "        :rtype: int\n",
    "        \"\"\"\n",
    "        maximum = max(nums)\n",
    "        nums.remove(maximum)\n",
    "        second_max = max(nums)\n",
    "        return (maximum-1)*(second_max-1)\n",
    "    \n",
    "o = Solution().maxProduct([3,4,5,2])\n",
    "o"
   ]
  },
  {
   "cell_type": "markdown",
   "metadata": {},
   "source": [
    "## 1450) Number of Students Doing Homework at a Given Time\n",
    "Given two integer arrays `startTime` and `endTime` and given an integer `queryTime`.\n",
    "\n",
    "The `ith` student started doing their homework at the time `startTime[i]` and finished it at time `endTime[i]`.\n",
    "\n",
    "Return the number of students doing their homework at time `queryTime`. More formally, return the number of students where `queryTime` lays in the interval `[startTime[i], endTime[i]]` inclusive.\n",
    "\n",
    "\n",
    "Example 1:\n",
    "```\n",
    "Input: startTime = [1,2,3], endTime = [3,2,7], queryTime = 4\n",
    "Output: 1\n",
    "Explanation: We have 3 students where:\n",
    "The first student started doing homework at time 1 and finished at time 3 and wasn't doing anything at time 4.\n",
    "The second student started doing homework at time 2 and finished at time 2 and also wasn't doing anything at time 4.\n",
    "The third student started doing homework at time 3 and finished at time 7 and was the only student doing homework at time 4.\n",
    "```\n",
    "Example 2:\n",
    "```\n",
    "Input: startTime = [4], endTime = [4], queryTime = 4\n",
    "Output: 1\n",
    "Explanation: The only student was doing their homework at the queryTime.\n",
    "```\n",
    "Example 3:\n",
    "```\n",
    "Input: startTime = [4], endTime = [4], queryTime = 5\n",
    "Output: 0\n",
    "```\n",
    "Example 4:\n",
    "```\n",
    "Input: startTime = [1,1,1,1], endTime = [1,3,2,4], queryTime = 7\n",
    "Output: 0\n",
    "```\n",
    "Example 5:\n",
    "```\n",
    "Input: startTime = [9,8,7,6,5,4,3,2,1], endTime = [10,10,10,10,10,10,10,10,10], queryTime = 5\n",
    "Output: 5\n",
    "```\n",
    "\n",
    "Constraints:\n",
    "```\n",
    "startTime.length == endTime.length\n",
    "1 <= startTime.length <= 100\n",
    "1 <= startTime[i] <= endTime[i] <= 1000\n",
    "1 <= queryTime <= 1000\n",
    "```"
   ]
  },
  {
   "cell_type": "code",
   "execution_count": 55,
   "metadata": {},
   "outputs": [
    {
     "data": {
      "text/plain": [
       "1"
      ]
     },
     "execution_count": 55,
     "metadata": {},
     "output_type": "execute_result"
    }
   ],
   "source": [
    "class Solution(object):\n",
    "    def busyStudent(self, startTime, endTime, queryTime):\n",
    "        \"\"\"\n",
    "        :type startTime: List[int]\n",
    "        :type endTime: List[int]\n",
    "        :type queryTime: int\n",
    "        :rtype: int\n",
    "        \"\"\"\n",
    "        c,length=0,len(startTime)\n",
    "        for each in range(0,length):\n",
    "            if startTime[each]<=queryTime and endTime[each]>=queryTime:\n",
    "                c+=1\n",
    "        return c\n",
    "    \n",
    "o = Solution().busyStudent([1,2,3],[3,2,7],4)\n",
    "o"
   ]
  },
  {
   "cell_type": "markdown",
   "metadata": {},
   "source": [
    "## 1374) Generate a String With Characters That Have Odd Counts\n",
    "Given an integer `n`, return a string with `n` characters such that each character in such string occurs an odd number of times.\n",
    "\n",
    "The returned string must contain only lowercase English letters. If there are multiples valid strings, return any of them.  \n",
    "\n",
    "Example 1:\n",
    "```\n",
    "Input: n = 4\n",
    "Output: \"pppz\"\n",
    "Explanation: \"pppz\" is a valid string since the character 'p' occurs three times and the character 'z' occurs once. Note that there are many other valid strings such as \"ohhh\" and \"love\".\n",
    "```\n",
    "Example 2:\n",
    "```\n",
    "Input: n = 2\n",
    "Output: \"xy\"\n",
    "Explanation: \"xy\" is a valid string since the characters 'x' and 'y' occur once. Note that there are many other valid strings such as \"ag\" and \"ur\".\n",
    "```\n",
    "Example 3:\n",
    "```\n",
    "Input: n = 7\n",
    "Output: \"holasss\"\n",
    "```\n",
    "Constraints:\n",
    "```\n",
    "1 <= n <= 500\n",
    "```"
   ]
  },
  {
   "cell_type": "code",
   "execution_count": 56,
   "metadata": {},
   "outputs": [
    {
     "data": {
      "text/plain": [
       "'aaaaaaaaab'"
      ]
     },
     "execution_count": 56,
     "metadata": {},
     "output_type": "execute_result"
    }
   ],
   "source": [
    "class Solution(object):\n",
    "    def generateTheString(self, n):\n",
    "        if n%2==0:\n",
    "            return 'a' * (n-1) + 'b'\n",
    "        else:\n",
    "            return 'a' * n\n",
    "\n",
    "o = Solution().generateTheString(10)\n",
    "o"
   ]
  },
  {
   "cell_type": "markdown",
   "metadata": {},
   "source": [
    "## 1304) Find N Unique Integers Sum up to Zero\n",
    "Given an integer `n`, return any array containing `n` unique integers such that they add up to 0.\n",
    "\n",
    "\n",
    "Example 1:\n",
    "```\n",
    "Input: n = 5\n",
    "Output: [-7,-1,1,3,4]\n",
    "Explanation: These arrays also are accepted [-5,-1,1,2,3] , [-3,-1,2,-2,4].\n",
    "```\n",
    "Example 2:\n",
    "```\n",
    "Input: n = 3\n",
    "Output: [-1,0,1]\n",
    "```\n",
    "Example 3:\n",
    "```\n",
    "Input: n = 1\n",
    "Output: [0]\n",
    "```\n",
    "Constraints:\n",
    "```\n",
    "1 <= n <= 1000\n",
    "```"
   ]
  },
  {
   "cell_type": "code",
   "execution_count": 57,
   "metadata": {},
   "outputs": [
    {
     "data": {
      "text/plain": [
       "[0, 1, 2, 3, 4, 5, 6, 7, 8, -36]"
      ]
     },
     "execution_count": 57,
     "metadata": {},
     "output_type": "execute_result"
    }
   ],
   "source": [
    "class Solution(object):\n",
    "    def sumZero(self, n):\n",
    "        if n!=2:\n",
    "            x= [x for x in range(0,n)][:-1];x.append(-sum(x))\n",
    "        else:\n",
    "            x=[-1,1]\n",
    "        return x\n",
    "o = Solution()\n",
    "o.sumZero(10)"
   ]
  },
  {
   "cell_type": "markdown",
   "metadata": {},
   "source": [
    "### Alternate solution"
   ]
  },
  {
   "cell_type": "code",
   "execution_count": 58,
   "metadata": {},
   "outputs": [
    {
     "data": {
      "text/plain": [
       "range(-9, 10, 2)"
      ]
     },
     "execution_count": 58,
     "metadata": {},
     "output_type": "execute_result"
    }
   ],
   "source": [
    "class Solution(object):\n",
    "    def sumZero(self, n):\n",
    "        return range(1 - n, n, 2)\n",
    "o = Solution()\n",
    "o.sumZero(10)"
   ]
  },
  {
   "cell_type": "markdown",
   "metadata": {},
   "source": [
    "## 728) Self Dividing Numbers\n",
    "A self-dividing number is a number that is divisible by every digit it contains.\n",
    "\n",
    "For example, 128 is a self-dividing number because `128 % 1 == 0`, `128 % 2 == 0`, and `128 % 8 == 0`.\n",
    "\n",
    "Also, a self-dividing number is not allowed to contain the digit zero.\n",
    "\n",
    "Given a lower and upper number bound, output a list of every possible self dividing number, including the bounds if possible.\n",
    "\n",
    "Example 1:\n",
    "```\n",
    "Input: \n",
    "left = 1, right = 22\n",
    "Output: [1, 2, 3, 4, 5, 6, 7, 8, 9, 11, 12, 15, 22]\n",
    "```\n",
    "Note:\n",
    "```\n",
    "The boundaries of each input argument are 1 <= left <= right <= 10000.\n",
    "```"
   ]
  },
  {
   "cell_type": "code",
   "execution_count": 59,
   "metadata": {},
   "outputs": [
    {
     "data": {
      "text/plain": [
       "[1, 2, 3, 4, 5, 6, 7, 8, 9, 11, 12, 15, 22]"
      ]
     },
     "execution_count": 59,
     "metadata": {},
     "output_type": "execute_result"
    }
   ],
   "source": [
    "class Solution(object):\n",
    "    def selfDividingNumbers(self, left, right):\n",
    "        ans = []\n",
    "        for x in range(left,right+1):\n",
    "            div = []\n",
    "            for each in str(x):\n",
    "                if '0' not in str(x):\n",
    "                    div.append(x%int(each))\n",
    "            if div and all(each==0 for each in div) is True:\n",
    "                ans.append(x)\n",
    "        return ans\n",
    "o = Solution().selfDividingNumbers(1,22)\n",
    "o"
   ]
  },
  {
   "cell_type": "markdown",
   "metadata": {},
   "source": [
    "### Alternate Solution (One Liner)"
   ]
  },
  {
   "cell_type": "code",
   "execution_count": 60,
   "metadata": {},
   "outputs": [
    {
     "data": {
      "text/plain": [
       "[1, 2, 3, 4, 5, 6, 7, 8, 9, 11, 12, 15, 22]"
      ]
     },
     "execution_count": 60,
     "metadata": {},
     "output_type": "execute_result"
    }
   ],
   "source": [
    "class Solution(object):\n",
    "    def selfDividingNumbers(self, left, right):\n",
    "        return [x for x in range(left, right+1) if all([int(i) != 0 and x % int(i)==0 for i in str(x)])]\n",
    "o = Solution().selfDividingNumbers(1,22)\n",
    "o"
   ]
  },
  {
   "cell_type": "markdown",
   "metadata": {},
   "source": [
    "## 1351. Count Negative Numbers in a Sorted Matrix\n",
    "Given a `m x n` matrix `grid` which is sorted in non-increasing order both row-wise and column-wise, return the number of negative numbers in `grid`.\n",
    " \n",
    "\n",
    "Example 1:\n",
    "```\n",
    "Input: grid = [[4,3,2,-1],[3,2,1,-1],[1,1,-1,-2],[-1,-1,-2,-3]]\n",
    "Output: 8\n",
    "Explanation: There are 8 negatives number in the matrix.\n",
    "```\n",
    "Example 2:\n",
    "```\n",
    "Input: grid = [[3,2],[1,0]]\n",
    "Output: 0\n",
    "```\n",
    "Example 3:\n",
    "```\n",
    "Input: grid = [[1,-1],[-1,-1]]\n",
    "Output: 3\n",
    "```\n",
    "Example 4:\n",
    "```\n",
    "Input: grid = [[-1]]\n",
    "Output: 1\n",
    "```\n",
    "\n",
    "Constraints:\n",
    "```\n",
    "m == grid.length\n",
    "n == grid[i].length\n",
    "1 <= m, n <= 100\n",
    "-100 <= grid[i][j] <= 100\n",
    "```\n",
    "\n",
    "Follow up: Could you find an O(n + m) solution?"
   ]
  },
  {
   "cell_type": "code",
   "execution_count": 61,
   "metadata": {},
   "outputs": [
    {
     "data": {
      "text/plain": [
       "8"
      ]
     },
     "execution_count": 61,
     "metadata": {},
     "output_type": "execute_result"
    }
   ],
   "source": [
    "class Solution(object):\n",
    "    def countNegatives(self, grid):\n",
    "        c=0\n",
    "        for i in grid:\n",
    "            for j in i:\n",
    "                if j<0:\n",
    "                    c+=1\n",
    "        return c\n",
    "o = Solution().countNegatives([[4,3,2,-1],[3,2,1,-1],[1,1,-1,-2],[-1,-1,-2,-3]])\n",
    "o"
   ]
  },
  {
   "cell_type": "markdown",
   "metadata": {},
   "source": [
    "### Alternate solution"
   ]
  },
  {
   "cell_type": "code",
   "execution_count": 62,
   "metadata": {},
   "outputs": [
    {
     "data": {
      "text/plain": [
       "8"
      ]
     },
     "execution_count": 62,
     "metadata": {},
     "output_type": "execute_result"
    }
   ],
   "source": [
    "class Solution(object):\n",
    "    def countNegatives(self, grid):\n",
    "        return str(grid).count('-')\n",
    "o = Solution().countNegatives([[4,3,2,-1],[3,2,1,-1],[1,1,-1,-2],[-1,-1,-2,-3]])\n",
    "o"
   ]
  },
  {
   "cell_type": "markdown",
   "metadata": {},
   "source": [
    "## 905) Sort Array By Parity\n",
    "Given an array `A` of non-negative integers, return an array consisting of all the even elements of `A`, followed by all the odd elements of `A`.\n",
    "\n",
    "You may return any answer array that satisfies this condition.\n",
    "\n",
    "Example 1:\n",
    "```\n",
    "Input: [3,1,2,4]\n",
    "Output: [2,4,3,1]\n",
    "The outputs [4,2,3,1], [2,4,1,3], and [4,2,1,3] would also be accepted.\n",
    "```\n",
    "\n",
    "Note:\n",
    "```\n",
    "1 <= A.length <= 5000\n",
    "0 <= A[i] <= 5000\n",
    "```"
   ]
  },
  {
   "cell_type": "code",
   "execution_count": 63,
   "metadata": {},
   "outputs": [
    {
     "data": {
      "text/plain": [
       "[2, 4, 3, 1]"
      ]
     },
     "execution_count": 63,
     "metadata": {},
     "output_type": "execute_result"
    }
   ],
   "source": [
    "class Solution(object):\n",
    "    def sortArrayByParity(self, A):\n",
    "        return [x for x in A if x%2==0]+[x for x in A if x%2==1]\n",
    "          \n",
    "o = Solution().sortArrayByParity([3,1,2,4])\n",
    "o"
   ]
  },
  {
   "cell_type": "markdown",
   "metadata": {},
   "source": [
    "### Alternate Solution"
   ]
  },
  {
   "cell_type": "code",
   "execution_count": 64,
   "metadata": {},
   "outputs": [
    {
     "data": {
      "text/plain": [
       "[0, 2, 1]"
      ]
     },
     "execution_count": 64,
     "metadata": {},
     "output_type": "execute_result"
    }
   ],
   "source": [
    "class Solution(object):\n",
    "    def sortArrayByParity(self, A):\n",
    "        \"\"\"\n",
    "        :type A: List[int]\n",
    "        :rtype: List[int]\n",
    "        \"\"\"\n",
    "        left,right = 0,len(A)-1\n",
    "        while left<right:\n",
    "            if A[left]%2==0:\n",
    "                left+=1\n",
    "            else:\n",
    "                A[left],A[right]=A[right],A[left]\n",
    "                right-=1\n",
    "        return A\n",
    "        \n",
    "    \n",
    "o = Solution().sortArrayByParity([0,1,2])\n",
    "o"
   ]
  },
  {
   "cell_type": "markdown",
   "metadata": {},
   "source": [
    "## 1475) Final Prices With a Special Discount in a Shop\n",
    "Given the array `prices` where `prices[i]` is the price of the `ith` item in a shop. There is a special discount for items in the shop, if you buy the `ith` item, then you will receive a discount equivalent to `prices[j]` where `j` is the minimum index such that `j > i` and `prices[j] <= prices[i]`, otherwise, you will not receive any discount at all.\n",
    "\n",
    "Return an array where the `ith` element is the final price you will pay for the `ith` item of the shop considering the special discount.\n",
    "\n",
    "\n",
    "Example 1:\n",
    "```\n",
    "Input: prices = [8,4,6,2,3]\n",
    "Output: [4,2,4,2,3]\n",
    "Explanation: \n",
    "For item 0 with price[0]=8 you will receive a discount equivalent to prices[1]=4, therefore, the final price you will pay is 8 - 4 = 4. \n",
    "For item 1 with price[1]=4 you will receive a discount equivalent to prices[3]=2, therefore, the final price you will pay is 4 - 2 = 2. \n",
    "For item 2 with price[2]=6 you will receive a discount equivalent to prices[3]=2, therefore, the final price you will pay is 6 - 2 = 4. \n",
    "For items 3 and 4 you will not receive any discount at all.\n",
    "```\n",
    "Example 2:\n",
    "```\n",
    "Input: prices = [1,2,3,4,5]\n",
    "Output: [1,2,3,4,5]\n",
    "Explanation: In this case, for all items, you will not receive any discount at all.\n",
    "```\n",
    "Example 3:\n",
    "```\n",
    "Input: prices = [10,1,1,6]\n",
    "Output: [9,0,1,6]\n",
    "```\n",
    "\n",
    "Constraints:\n",
    "```\n",
    "1 <= prices.length <= 500\n",
    "1 <= prices[i] <= 10^3\n",
    "```"
   ]
  },
  {
   "cell_type": "code",
   "execution_count": 65,
   "metadata": {},
   "outputs": [
    {
     "data": {
      "text/plain": [
       "[4, 2, 4, 2, 3]"
      ]
     },
     "execution_count": 65,
     "metadata": {},
     "output_type": "execute_result"
    }
   ],
   "source": [
    "class Solution(object):\n",
    "    def finalPrices(self, prices):\n",
    "        for check in range(0,len(prices)-1):\n",
    "            for another in range(check+1,len(prices)):\n",
    "                if prices[another]<=prices[check]:\n",
    "                    prices[check]-=prices[another]\n",
    "                    break\n",
    "        return prices\n",
    "o = Solution().finalPrices([8,4,6,2,3])\n",
    "o"
   ]
  },
  {
   "cell_type": "markdown",
   "metadata": {},
   "source": [
    "## 1768) Merge Strings Alternately\n",
    "You are given two strings `word1` and `word2`. Merge the strings by adding letters in alternating order, starting with `word1`. If a string is longer than the other, append the additional letters onto the end of the merged string.\n",
    "\n",
    "Return the merged string.\n",
    "\n",
    "Example 1:\n",
    "```\n",
    "Input: word1 = \"abc\", word2 = \"pqr\"\n",
    "Output: \"apbqcr\"\n",
    "Explanation: The merged string will be merged as so:\n",
    "word1:  a   b   c\n",
    "word2:    p   q   r\n",
    "merged: a p b q c r\n",
    "```\n",
    "Example 2:\n",
    "```\n",
    "Input: word1 = \"ab\", word2 = \"pqrs\"\n",
    "Output: \"apbqrs\"\n",
    "Explanation: Notice that as word2 is longer, \"rs\" is appended to the end.\n",
    "word1:  a   b \n",
    "word2:    p   q   r   s\n",
    "merged: a p b q   r   s\n",
    "```\n",
    "Example 3:\n",
    "```\n",
    "Input: word1 = \"abcd\", word2 = \"pq\"\n",
    "Output: \"apbqcd\"\n",
    "Explanation: Notice that as word1 is longer, \"cd\" is appended to the end.\n",
    "word1:  a   b   c   d\n",
    "word2:    p   q \n",
    "merged: a p b q c   d\n",
    "```\n",
    "\n",
    "Constraints:\n",
    "```\n",
    "1 <= word1.length, word2.length <= 100\n",
    "word1 and word2 consist of lowercase English letters.\n",
    "```"
   ]
  },
  {
   "cell_type": "code",
   "execution_count": 23,
   "metadata": {},
   "outputs": [
    {
     "data": {
      "text/plain": [
       "'apbqrs'"
      ]
     },
     "execution_count": 23,
     "metadata": {},
     "output_type": "execute_result"
    }
   ],
   "source": [
    "class Solution(object):\n",
    "    def mergeAlternately(self, word1, word2):\n",
    "        st = \"\"\n",
    "        for i in range(0,min(len(word1),len(word2))):\n",
    "            st+=word1[i]+word2[i]\n",
    "        return st+word1[i+1:] + word2[i+1:]\n",
    "    \n",
    "o = Solution().mergeAlternately(\"ab\",\"pqrs\")\n",
    "o"
   ]
  },
  {
   "cell_type": "markdown",
   "metadata": {},
   "source": [
    "### Alternate Solution"
   ]
  },
  {
   "cell_type": "code",
   "execution_count": 19,
   "metadata": {},
   "outputs": [
    {
     "data": {
      "text/plain": [
       "'apbqrs'"
      ]
     },
     "execution_count": 19,
     "metadata": {},
     "output_type": "execute_result"
    }
   ],
   "source": [
    "from itertools import zip_longest\n",
    "class Solution(object):\n",
    "    def mergeAlternately(self, w1, w2):\n",
    "        return ''.join(a + b for a, b in zip_longest(w1, w2, fillvalue=''))\n",
    "\n",
    "o = Solution().mergeAlternately(\"ab\",\"pqrs\")\n",
    "o"
   ]
  },
  {
   "cell_type": "markdown",
   "metadata": {},
   "source": [
    "## 961) N-Repeated Element in Size 2N Array\n",
    "In a array `nums` of size `2 * n`, there are `n + 1` unique elements, and exactly one of these elements is repeated `n` times.\n",
    "\n",
    "Return the element repeated n times.\n",
    "\n",
    "Example 1:\n",
    "```\n",
    "Input: nums[1,2,3,3]\n",
    "Output: 3\n",
    "```\n",
    "Example 2:\n",
    "```\n",
    "Input: nums[2,1,2,5,3,2]\n",
    "Output: 2\n",
    "```\n",
    "Example 3:\n",
    "```\n",
    "Input: nums[5,1,5,2,5,3,5,4]\n",
    "Output: 5\n",
    "```\n",
    "\n",
    "Note:\n",
    "```\n",
    "4 <= nums.length <= 10000\n",
    "0 <= nums[i] < 10000\n",
    "nums.length is even\n",
    "```"
   ]
  },
  {
   "cell_type": "code",
   "execution_count": 90,
   "metadata": {},
   "outputs": [
    {
     "data": {
      "text/plain": [
       "2"
      ]
     },
     "execution_count": 90,
     "metadata": {},
     "output_type": "execute_result"
    }
   ],
   "source": [
    "from collections import Counter\n",
    "class Solution(object):\n",
    "    def repeatedNTimes(self, nums):\n",
    "        \"\"\"\n",
    "        :type nums: List[int]\n",
    "        :rtype: int\n",
    "        \"\"\"\n",
    "        return Counter(nums).most_common(1)[0][0]\n",
    "o = Solution().repeatedNTimes([2,1,2,5,3,2])\n",
    "o"
   ]
  },
  {
   "cell_type": "markdown",
   "metadata": {},
   "source": [
    "### Alternate Solution"
   ]
  },
  {
   "cell_type": "code",
   "execution_count": 72,
   "metadata": {},
   "outputs": [
    {
     "data": {
      "text/plain": [
       "5"
      ]
     },
     "execution_count": 72,
     "metadata": {},
     "output_type": "execute_result"
    }
   ],
   "source": [
    "import random\n",
    "class Solution(object):\n",
    "    def repeatedNTimes(self, nums):\n",
    "        while 1:\n",
    "            s = random.sample(nums, 2)\n",
    "            if s[0] == s[1]:\n",
    "                return s[0]\n",
    "o = Solution().repeatedNTimes([5,1,5,2,5,3,5,4])\n",
    "o"
   ]
  },
  {
   "cell_type": "markdown",
   "metadata": {},
   "source": [
    "## 1837) Sum of Digits in Base K\n",
    "Given an integer `n` (in base `10`) and a base `k`, return the sum of the digits of `n` after converting `n` from base `10` to base `k`.\n",
    "\n",
    "After converting, each digit should be interpreted as a base `10` number, and the sum should be returned in base `10`.\n",
    "\n",
    "Example 1:\n",
    "```\n",
    "Input: n = 34, k = 6\n",
    "Output: 9\n",
    "Explanation: 34 (base 10) expressed in base 6 is 54. 5 + 4 = 9.\n",
    "```\n",
    "Example 2:\n",
    "```\n",
    "Input: n = 10, k = 10\n",
    "Output: 1\n",
    "Explanation: n is already in base 10. 1 + 0 = 1.\n",
    "```\n",
    "\n",
    "Constraints:\n",
    "```\n",
    "1 <= n <= 100\n",
    "2 <= k <= 10\n",
    "```"
   ]
  },
  {
   "cell_type": "code",
   "execution_count": 65,
   "metadata": {},
   "outputs": [
    {
     "data": {
      "text/plain": [
       "9"
      ]
     },
     "execution_count": 65,
     "metadata": {},
     "output_type": "execute_result"
    }
   ],
   "source": [
    "class Solution(object):\n",
    "    def sumBase(self, n, k):\n",
    "        res=0\n",
    "        while(n>0):\n",
    "            res+=n%k\n",
    "            n//=k\n",
    "        return res\n",
    "o = Solution().sumBase(34,6)\n",
    "o"
   ]
  },
  {
   "cell_type": "markdown",
   "metadata": {},
   "source": [
    "## 1748) Sum of Unique Elements\n",
    "You are given an integer array `nums`. The unique elements of an array are the elements that appear exactly once in the array.\n",
    "\n",
    "Return the sum of all the unique elements of `nums`.\n",
    "\n",
    "\n",
    "Example 1:\n",
    "```\n",
    "Input: nums = [1,2,3,2]\n",
    "Output: 4\n",
    "Explanation: The unique elements are [1,3], and the sum is 4.\n",
    "```\n",
    "Example 2:\n",
    "```\n",
    "Input: nums = [1,1,1,1,1]\n",
    "Output: 0\n",
    "Explanation: There are no unique elements, and the sum is 0.\n",
    "```\n",
    "Example 3:\n",
    "```\n",
    "Input: nums = [1,2,3,4,5]\n",
    "Output: 15\n",
    "Explanation: The unique elements are [1,2,3,4,5], and the sum is 15.\n",
    "```\n",
    "\n",
    "Constraints:\n",
    "```\n",
    "1 <= nums.length <= 100\n",
    "1 <= nums[i] <= 100\n",
    "```"
   ]
  },
  {
   "cell_type": "code",
   "execution_count": 27,
   "metadata": {},
   "outputs": [
    {
     "data": {
      "text/plain": [
       "4"
      ]
     },
     "execution_count": 27,
     "metadata": {},
     "output_type": "execute_result"
    }
   ],
   "source": [
    "from collections import Counter\n",
    "\n",
    "class Solution(object):\n",
    "    def sumOfUnique(self, nums):\n",
    "        \"\"\"\n",
    "        :type nums: List[int]\n",
    "        :rtype: int\n",
    "        \"\"\"\n",
    "        result = 0\n",
    "        x = Counter(nums)\n",
    "        for i in x:\n",
    "            if x[i] == 1:\n",
    "                result+=i\n",
    "        return result\n",
    "    \n",
    "o = Solution().sumOfUnique([1,2,3,2])\n",
    "o"
   ]
  },
  {
   "cell_type": "markdown",
   "metadata": {},
   "source": [
    "### Alternate Solution (One-liner)"
   ]
  },
  {
   "cell_type": "code",
   "execution_count": 30,
   "metadata": {},
   "outputs": [
    {
     "data": {
      "text/plain": [
       "4"
      ]
     },
     "execution_count": 30,
     "metadata": {},
     "output_type": "execute_result"
    }
   ],
   "source": [
    "from collections import Counter\n",
    "\n",
    "class Solution(object):\n",
    "    def sumOfUnique(self, nums):\n",
    "        return sum(a for a, c in Counter(nums).items() if c == 1)\n",
    "    \n",
    "o = Solution().sumOfUnique([1,2,3,2])\n",
    "o"
   ]
  },
  {
   "cell_type": "markdown",
   "metadata": {},
   "source": [
    "## 1299) Replace Elements with Greatest Element on Right Side\n",
    "Given an array `arr`, replace every element in that array with the greatest element among the elements to its right, and replace the last element with `-1`.\n",
    "\n",
    "After doing so, return the array.\n",
    "\n",
    "Example 1:\n",
    "```\n",
    "Input: arr = [17,18,5,4,6,1]\n",
    "Output: [18,6,6,6,1,-1]\n",
    "Explanation: \n",
    "- index 0 --> the greatest element to the right of index 0 is index 1 (18).\n",
    "- index 1 --> the greatest element to the right of index 1 is index 4 (6).\n",
    "- index 2 --> the greatest element to the right of index 2 is index 4 (6).\n",
    "- index 3 --> the greatest element to the right of index 3 is index 4 (6).\n",
    "- index 4 --> the greatest element to the right of index 4 is index 5 (1).\n",
    "- index 5 --> there are no elements to the right of index 5, so we put -1.\n",
    "```\n",
    "Example 2:\n",
    "```\n",
    "Input: arr = [400]\n",
    "Output: [-1]\n",
    "Explanation: There are no elements to the right of index 0.\n",
    "```\n",
    "\n",
    "Constraints:\n",
    "```\n",
    "1 <= arr.length <= 104\n",
    "1 <= arr[i] <= 105\n",
    "```"
   ]
  },
  {
   "cell_type": "code",
   "execution_count": 18,
   "metadata": {},
   "outputs": [
    {
     "data": {
      "text/plain": [
       "[18, 6, 6, 6, 1, -1]"
      ]
     },
     "execution_count": 18,
     "metadata": {},
     "output_type": "execute_result"
    }
   ],
   "source": [
    "class Solution(object):\n",
    "    def replaceElements(self, arr):\n",
    "        \"\"\"\n",
    "        :type arr: List[int]\n",
    "        :rtype: List[int]\n",
    "        \"\"\"\n",
    "        return [max(arr[i+1:len(arr)]) for i in range(0,len(arr)) if i+1!=len(arr)]+[-1]\n",
    "                \n",
    "    \n",
    "o = Solution().replaceElements([17,18,5,4,6,1])\n",
    "o"
   ]
  },
  {
   "cell_type": "markdown",
   "metadata": {},
   "source": [
    "### Efficient Solution"
   ]
  },
  {
   "cell_type": "code",
   "execution_count": 29,
   "metadata": {},
   "outputs": [
    {
     "data": {
      "text/plain": [
       "[18, 6, 6, 6, 1, -1]"
      ]
     },
     "execution_count": 29,
     "metadata": {},
     "output_type": "execute_result"
    }
   ],
   "source": [
    "class Solution(object):\n",
    "    \n",
    "    def replaceElements(self, arr, mx = -1):\n",
    "        for i in range(len(arr) - 1, -1, -1):\n",
    "            arr[i], mx = mx, max(mx, arr[i])\n",
    "        return arr\n",
    "                 \n",
    "o = Solution().replaceElements([17,18,5,4,6,1])\n",
    "o"
   ]
  },
  {
   "cell_type": "markdown",
   "metadata": {},
   "source": [
    "## 657) Robot Return to Origin\n",
    "There is a robot starting at position (0, 0), the origin, on a 2D plane. Given a sequence of its moves, judge if this robot ends up at (0, 0) after it completes its moves.\n",
    "\n",
    "The move sequence is represented by a string, and the character `moves[i]` represents its ith move. Valid moves are R (right), L (left), U (up), and D (down). If the robot returns to the origin after it finishes all of its moves, return true. Otherwise, return false.\n",
    "\n",
    "Note: The way that the robot is \"facing\" is irrelevant. \"R\" will always make the robot move to the right once, \"L\" will always make it move left, etc. Also, assume that the magnitude of the robot's movement is the same for each move.\n",
    "\n",
    "\n",
    "Example 1:\n",
    "```\n",
    "Input: moves = \"UD\"\n",
    "Output: true\n",
    "Explanation: The robot moves up once, and then down once. All moves have the same magnitude, so it ended up at the origin where it started. Therefore, we return true.\n",
    "```\n",
    "Example 2:\n",
    "```\n",
    "Input: moves = \"LL\"\n",
    "Output: false\n",
    "Explanation: The robot moves left twice. It ends up two \"moves\" to the left of the origin. We return false because it is not at the origin at the end of its moves.\n",
    "```\n",
    "Example 3:\n",
    "```\n",
    "Input: moves = \"RRDD\"\n",
    "Output: false\n",
    "```\n",
    "Example 4:\n",
    "```\n",
    "Input: moves = \"LDRRLRUULR\"\n",
    "Output: false\n",
    "```\n",
    "\n",
    "Constraints:\n",
    "```\n",
    "1 <= moves.length <= 2 * 104\n",
    "moves only contains the characters 'U', 'D', 'L' and 'R'.\n",
    "```"
   ]
  },
  {
   "cell_type": "code",
   "execution_count": 7,
   "metadata": {},
   "outputs": [
    {
     "data": {
      "text/plain": [
       "True"
      ]
     },
     "execution_count": 7,
     "metadata": {},
     "output_type": "execute_result"
    }
   ],
   "source": [
    "class Solution(object):\n",
    "    def judgeCircle(self, moves):\n",
    "        point = [0,0]\n",
    "        for each in moves:\n",
    "            if each == \"U\":\n",
    "                point[0]+=1\n",
    "            elif each == \"D\":\n",
    "                point[0]-=1\n",
    "            elif each == \"R\":\n",
    "                point[1]+=1\n",
    "            else:\n",
    "                point[1]-=1\n",
    "        if point == [0,0]:\n",
    "            return True\n",
    "        else:\n",
    "            return False\n",
    "\n",
    "o = Solution().judgeCircle(\"UD\")\n",
    "o"
   ]
  },
  {
   "cell_type": "markdown",
   "metadata": {},
   "source": [
    "### Alternate Solution (One-Liner)"
   ]
  },
  {
   "cell_type": "code",
   "execution_count": 9,
   "metadata": {},
   "outputs": [
    {
     "data": {
      "text/plain": [
       "True"
      ]
     },
     "execution_count": 9,
     "metadata": {},
     "output_type": "execute_result"
    }
   ],
   "source": [
    "class Solution(object):\n",
    "    def judgeCircle(self, moves):\n",
    "        return moves.count(\"U\") == moves.count(\"D\") and moves.count(\"L\") == moves.count(\"R\")\n",
    "\n",
    "o = Solution().judgeCircle(\"UD\")\n",
    "o"
   ]
  },
  {
   "cell_type": "markdown",
   "metadata": {},
   "source": [
    "## 1854) Maximum Population Year\n",
    "You are given a 2D integer array `logs` where each `logs[i] = [birthi, deathi]` indicates the birth and death years of the `ith` person.\n",
    "\n",
    "The population of some year `x` is the number of people alive during that year. The `ith` person is counted in year `x`'s population if `x` is in the inclusive range `[birthi, deathi - 1]`. Note that the person is not counted in the year that they die.\n",
    "\n",
    "Return the earliest year with the maximum population.\n",
    "\n",
    "\n",
    "Example 1:\n",
    "```\n",
    "Input: logs = [[1993,1999],[2000,2010]]\n",
    "Output: 1993\n",
    "Explanation: The maximum population is 1, and 1993 is the earliest year with this population.\n",
    "```\n",
    "Example 2:\n",
    "```\n",
    "Input: logs = [[1950,1961],[1960,1971],[1970,1981]]\n",
    "Output: 1960\n",
    "Explanation: \n",
    "The maximum population is 2, and it had happened in years 1960 and 1970.\n",
    "The earlier year between them is 1960.\n",
    "```\n",
    "\n",
    "Constraints:\n",
    "```\n",
    "1 <= logs.length <= 100\n",
    "1950 <= birthi < deathi <= 2050\n",
    "```"
   ]
  },
  {
   "cell_type": "code",
   "execution_count": 8,
   "metadata": {},
   "outputs": [
    {
     "data": {
      "text/plain": [
       "1966"
      ]
     },
     "execution_count": 8,
     "metadata": {},
     "output_type": "execute_result"
    }
   ],
   "source": [
    "from collections import defaultdict\n",
    "\n",
    "class Solution:\n",
    "    def maximumPopulation(self, logs):\n",
    "        d = defaultdict(int)\n",
    "        for born,died in logs:\n",
    "            for year in range(born,died):\n",
    "                d[year]+=1\n",
    "\n",
    "        max_alive = result = 0\n",
    "        for year in range(1950,2051):\n",
    "            alive = d[year]\n",
    "            if alive>max_alive:\n",
    "                result=year\n",
    "                max_alive = alive\n",
    "        return result\n",
    "        \n",
    "o = Solution().maximumPopulation([[1950,1961],[1960,1971],[1970,1981],[1965,1970],[1961,1970],[1970,1980],[1966,1975]])\n",
    "o"
   ]
  },
  {
   "cell_type": "markdown",
   "metadata": {},
   "source": [
    "## 1859) Sorting the Sentence\n",
    "A sentence is a list of words that are separated by a single space with no leading or trailing spaces. Each word consists of lowercase and uppercase English letters.\n",
    "\n",
    "A sentence can be shuffled by appending the 1-indexed word position to each word then rearranging the words in the sentence.\n",
    "\n",
    "For example, the sentence `\"This is a sentence\"` can be shuffled as `\"sentence4 a3 is2 This1\"` or `\"is2 sentence4 This1 a3\"`.\n",
    "Given a shuffled sentence `s` containing no more than `9` words, reconstruct and return the original sentence.\n",
    "\n",
    "\n",
    "Example 1:\n",
    "```\n",
    "Input: s = \"is2 sentence4 This1 a3\"\n",
    "Output: \"This is a sentence\"\n",
    "Explanation: Sort the words in s to their original positions \"This1 is2 a3 sentence4\", then remove the numbers.\n",
    "```\n",
    "Example 2:\n",
    "```\n",
    "Input: s = \"Myself2 Me1 I4 and3\"\n",
    "Output: \"Me Myself and I\"\n",
    "Explanation: Sort the words in s to their original positions \"Me1 Myself2 and3 I4\", then remove the numbers.\n",
    "```\n",
    "\n",
    "Constraints:\n",
    "```\n",
    "2 <= s.length <= 200\n",
    "s consists of lowercase and uppercase English letters, spaces, and digits from 1 to 9.\n",
    "The number of words in s is between 1 and 9.\n",
    "The words in s are separated by a single space.\n",
    "s contains no leading or trailing spaces.\n",
    "```"
   ]
  },
  {
   "cell_type": "code",
   "execution_count": 55,
   "metadata": {},
   "outputs": [
    {
     "data": {
      "text/plain": [
       "'This is a sentence'"
      ]
     },
     "execution_count": 55,
     "metadata": {},
     "output_type": "execute_result"
    }
   ],
   "source": [
    "class Solution(object):\n",
    "    def sortSentence(self, s):\n",
    "        final,d = \"\",{}\n",
    "        for each in s.split(\" \"):\n",
    "            d[each[-1]] = each[:-1]\n",
    "        v = sorted(d.items())\n",
    "        for i in sorted(d.items()):\n",
    "            final+=i[1]\n",
    "            final+=\" \"\n",
    "        return final[:-1]\n",
    "    \n",
    "o = Solution().sortSentence(\"is2 sentence4 This1 a3\")\n",
    "o"
   ]
  },
  {
   "cell_type": "markdown",
   "metadata": {},
   "source": [
    "### Alternate Solution"
   ]
  },
  {
   "cell_type": "code",
   "execution_count": 54,
   "metadata": {},
   "outputs": [
    {
     "data": {
      "text/plain": [
       "'This is a sentence'"
      ]
     },
     "execution_count": 54,
     "metadata": {},
     "output_type": "execute_result"
    }
   ],
   "source": [
    "class Solution(object):\n",
    "    def sortSentence(self, s):\n",
    "        words = s[::-1].split()\n",
    "        words.sort()\n",
    "        return ' '.join([i[::-1][:-1] for i in words])\n",
    "    \n",
    "o = Solution().sortSentence(\"is2 sentence4 This1 a3\")\n",
    "o"
   ]
  },
  {
   "cell_type": "markdown",
   "metadata": {},
   "source": [
    "## 561) Array Partition I\n",
    "Given an integer array `nums` of `2n` integers, group these integers into `n` pairs `(a1, b1), (a2, b2), ..., (an, bn)` such that the sum of `min(ai, bi)` for all `i` is maximized. Return the maximized sum.\n",
    "\n",
    "\n",
    "Example 1:\n",
    "```\n",
    "Input: nums = [1,4,3,2]\n",
    "Output: 4\n",
    "Explanation: All possible pairings (ignoring the ordering of elements) are:\n",
    "1. (1, 4), (2, 3) -> min(1, 4) + min(2, 3) = 1 + 2 = 3\n",
    "2. (1, 3), (2, 4) -> min(1, 3) + min(2, 4) = 1 + 2 = 3\n",
    "3. (1, 2), (3, 4) -> min(1, 2) + min(3, 4) = 1 + 3 = 4\n",
    "So the maximum possible sum is 4.\n",
    "```\n",
    "Example 2:\n",
    "```\n",
    "Input: nums = [6,2,6,5,1,2]\n",
    "Output: 9\n",
    "Explanation: The optimal pairing is (2, 1), (2, 5), (6, 6). min(2, 1) + min(2, 5) + min(6, 6) = 1 + 2 + 6 = 9.\n",
    "```\n",
    "\n",
    "Constraints:\n",
    "```\n",
    "1 <= n <= 104\n",
    "nums.length == 2 * n\n",
    "-104 <= nums[i] <= 104\n",
    "```"
   ]
  },
  {
   "cell_type": "code",
   "execution_count": 11,
   "metadata": {},
   "outputs": [
    {
     "data": {
      "text/plain": [
       "4"
      ]
     },
     "execution_count": 11,
     "metadata": {},
     "output_type": "execute_result"
    }
   ],
   "source": [
    "class Solution(object):\n",
    "    def arrayPairSum(self, nums):\n",
    "        \"\"\"\n",
    "        :type nums: List[int]\n",
    "        :rtype: int\n",
    "        \"\"\"\n",
    "        nums.sort()\n",
    "        max_sum=0\n",
    "        for i in range(1,len(nums),2):\n",
    "            max_sum+=nums[i-1]\n",
    "        return max_sum\n",
    "    \n",
    "o = Solution().arrayPairSum([1,4,3,2])\n",
    "o"
   ]
  },
  {
   "cell_type": "markdown",
   "metadata": {},
   "source": [
    "### Alternate Solution"
   ]
  },
  {
   "cell_type": "code",
   "execution_count": 5,
   "metadata": {},
   "outputs": [
    {
     "name": "stdout",
     "output_type": "stream",
     "text": [
      "4\n"
     ]
    }
   ],
   "source": [
    "class Solution(object):\n",
    "    def arrayPairSum(self, nums):\n",
    "        return sum(sorted(nums)[::2])\n",
    "    \n",
    "o = Solution().arrayPairSum([1,4,3,2])\n",
    "o"
   ]
  },
  {
   "cell_type": "markdown",
   "metadata": {},
   "source": [
    "## 1742) Maximum Number of Balls in a Box\n",
    "You are working in a ball factory where you have `n` balls numbered from `lowLimit` up to `highLimit` inclusive (i.e., `n == highLimit - lowLimit + 1`), and an infinite number of boxes numbered from `1` to `infinity`.\n",
    "\n",
    "Your job at this factory is to put each ball in the box with a number equal to the sum of digits of the ball's number. For example, the ball number `321` will be put in the box number `3 + 2 + 1 = 6` and the ball number `10` will be put in the box number `1 + 0 = 1`.\n",
    "\n",
    "Given two integers `lowLimit` and `highLimit`, return the number of balls in the box with the most balls.\n",
    "\n",
    "\n",
    "Example 1:\n",
    "```\n",
    "Input: lowLimit = 1, highLimit = 10\n",
    "Output: 2\n",
    "Explanation:\n",
    "Box Number:  1 2 3 4 5 6 7 8 9 10 11 ...\n",
    "Ball Count:  2 1 1 1 1 1 1 1 1 0  0  ...\n",
    "Box 1 has the most number of balls with 2 balls.\n",
    "```\n",
    "Example 2:\n",
    "```\n",
    "Input: lowLimit = 5, highLimit = 15\n",
    "Output: 2\n",
    "Explanation:\n",
    "Box Number:  1 2 3 4 5 6 7 8 9 10 11 ...\n",
    "Ball Count:  1 1 1 1 2 2 1 1 1 0  0  ...\n",
    "Boxes 5 and 6 have the most number of balls with 2 balls in each.\n",
    "```\n",
    "Example 3:\n",
    "```\n",
    "Input: lowLimit = 19, highLimit = 28\n",
    "Output: 2\n",
    "Explanation:\n",
    "Box Number:  1 2 3 4 5 6 7 8 9 10 11 12 ...\n",
    "Ball Count:  0 1 1 1 1 1 1 1 1 2  0  0  ...\n",
    "Box 10 has the most number of balls with 2 balls.\n",
    "```\n",
    "\n",
    "Constraints:\n",
    "```\n",
    "1 <= lowLimit <= highLimit <= 105\n",
    "```"
   ]
  },
  {
   "cell_type": "code",
   "execution_count": 28,
   "metadata": {},
   "outputs": [
    {
     "data": {
      "text/plain": [
       "2"
      ]
     },
     "execution_count": 28,
     "metadata": {},
     "output_type": "execute_result"
    }
   ],
   "source": [
    "from collections import defaultdict\n",
    "\n",
    "class Solution(object):\n",
    "    def countBalls(self, lowLimit, highLimit):\n",
    "        d = defaultdict(int)\n",
    "        for i in range(lowLimit, highLimit+1):\n",
    "            summation = 0\n",
    "            for each in str(i):\n",
    "                summation+=int(each)\n",
    "            d[summation]+=1\n",
    "        return max(d.values())\n",
    "\n",
    "o = Solution().countBalls(1,10)\n",
    "o"
   ]
  },
  {
   "cell_type": "markdown",
   "metadata": {},
   "source": [
    "## 461) Hamming Distance\n",
    "The Hamming distance between two integers is the number of positions at which the corresponding bits are different.\n",
    "\n",
    "Given two integers `x` and `y`, return the Hamming distance between them.\n",
    "\n",
    "\n",
    "Example 1:\n",
    "```\n",
    "Input: x = 1, y = 4\n",
    "Output: 2\n",
    "Explanation:\n",
    "1   (0 0 0 1)\n",
    "4   (0 1 0 0)\n",
    "       ↑   ↑\n",
    "The above arrows point to positions where the corresponding bits are different.\n",
    "```\n",
    "Example 2:\n",
    "```\n",
    "Input: x = 3, y = 1\n",
    "Output: 1\n",
    "```\n",
    "\n",
    "Constraints:\n",
    "```\n",
    "0 <= x, y <= 231 - 1\n",
    "```"
   ]
  },
  {
   "cell_type": "code",
   "execution_count": 22,
   "metadata": {},
   "outputs": [
    {
     "data": {
      "text/plain": [
       "3"
      ]
     },
     "execution_count": 22,
     "metadata": {},
     "output_type": "execute_result"
    }
   ],
   "source": [
    "class Solution(object):\n",
    "    def hammingDistance(self, x, y):\n",
    "        return bin(x^y).count('1')\n",
    "    \n",
    "o = Solution().hammingDistance(1,6)\n",
    "o"
   ]
  },
  {
   "cell_type": "markdown",
   "metadata": {},
   "source": [
    "## 557) Reverse Words in a String III\n",
    "Given a string `s`, reverse the order of characters in each word within a sentence while still preserving whitespace and initial word order.\n",
    "\n",
    " \n",
    "Example 1:\n",
    "```\n",
    "Input: s = \"Let's take LeetCode contest\"\n",
    "Output: \"s'teL ekat edoCteeL tsetnoc\"\n",
    "```\n",
    "Example 2:\n",
    "```\n",
    "Input: s = \"God Ding\"\n",
    "Output: \"doG gniD\"\n",
    "```\n",
    "\n",
    "Constraints:\n",
    "```\n",
    "1 <= s.length <= 5 * 104\n",
    "s contains printable ASCII characters.\n",
    "s does not contain any leading or trailing spaces.\n",
    "There is at least one word in s.\n",
    "All the words in s are separated by a single space.\n",
    "```"
   ]
  },
  {
   "cell_type": "code",
   "execution_count": 14,
   "metadata": {},
   "outputs": [
    {
     "data": {
      "text/plain": [
       "\"s'teL ekat edoCteeL tsetnoc\""
      ]
     },
     "execution_count": 14,
     "metadata": {},
     "output_type": "execute_result"
    }
   ],
   "source": [
    "class Solution(object):\n",
    "    def reverseWords(self, s):\n",
    "        st=\"\"\n",
    "        for each in s.split(\" \"):\n",
    "            st+=each[::-1]+\" \"\n",
    "        return st[:-1]\n",
    "\n",
    "o = Solution().reverseWords(\"Let's take LeetCode contest\")\n",
    "o"
   ]
  },
  {
   "cell_type": "markdown",
   "metadata": {},
   "source": [
    "## 1051) Height Checker\n",
    "A school is trying to take an annual photo of all the students. The students are asked to stand in a single file line in non-decreasing order by height. Let this ordering be represented by the integer array `expected` where `expected[i]` is the expected height of the `ith` student in line.\n",
    "\n",
    "You are given an integer array `heights` representing the current order that the students are standing in. Each `heights[i]` is the height of the `ith` student in line (0-indexed).\n",
    "\n",
    "Return the number of indices where `heights[i] != expected[i]`.\n",
    "\n",
    "\n",
    "Example 1:\n",
    "```\n",
    "Input: heights = [1,1,4,2,1,3]\n",
    "Output: 3\n",
    "Explanation: \n",
    "heights:  [1,1,4,2,1,3]\n",
    "expected: [1,1,1,2,3,4]\n",
    "Indices 2, 4, and 5 do not match.\n",
    "```\n",
    "Example 2:\n",
    "```\n",
    "Input: heights = [5,1,2,3,4]\n",
    "Output: 5\n",
    "Explanation:\n",
    "heights:  [5,1,2,3,4]\n",
    "expected: [1,2,3,4,5]\n",
    "All indices do not match.\n",
    "```\n",
    "Example 3:\n",
    "```\n",
    "Input: heights = [1,2,3,4,5]\n",
    "Output: 0\n",
    "Explanation:\n",
    "heights:  [1,2,3,4,5]\n",
    "expected: [1,2,3,4,5]\n",
    "All indices match.\n",
    "```\n",
    "\n",
    "Constraints:\n",
    "```\n",
    "1 <= heights.length <= 100\n",
    "1 <= heights[i] <= 100\n",
    "```"
   ]
  },
  {
   "cell_type": "code",
   "execution_count": 16,
   "metadata": {},
   "outputs": [
    {
     "data": {
      "text/plain": [
       "3"
      ]
     },
     "execution_count": 16,
     "metadata": {},
     "output_type": "execute_result"
    }
   ],
   "source": [
    "class Solution(object):\n",
    "    def heightChecker(self, heights):\n",
    "        \"\"\"\n",
    "        :type heights: List[int]\n",
    "        :rtype: int\n",
    "        \"\"\"\n",
    "        c=0\n",
    "        sorted_heights = sorted(heights)\n",
    "        for i in range(0,len(sorted_heights)):\n",
    "            if heights[i] is not sorted_heights[i]:\n",
    "                c+=1\n",
    "        return c\n",
    "\n",
    "o = Solution().heightChecker([1,1,4,2,1,3])\n",
    "o"
   ]
  },
  {
   "cell_type": "markdown",
   "metadata": {},
   "source": [
    "### Alternate Solution (One-liner)"
   ]
  },
  {
   "cell_type": "code",
   "execution_count": 30,
   "metadata": {},
   "outputs": [
    {
     "data": {
      "text/plain": [
       "3"
      ]
     },
     "execution_count": 30,
     "metadata": {},
     "output_type": "execute_result"
    }
   ],
   "source": [
    "class Solution(object):\n",
    "    def heightChecker(self, heights):\n",
    "        return sum(x is not y for x, y in zip(heights, sorted(heights)))\n",
    "\n",
    "o = Solution().heightChecker([1,1,4,2,1,3])\n",
    "o"
   ]
  },
  {
   "cell_type": "markdown",
   "metadata": {},
   "source": [
    "## 1460) Make Two Arrays Equal by Reversing Sub-arrays\n",
    "Given two integer arrays of equal length `target` and `arr`.\n",
    "\n",
    "In one step, you can select any non-empty sub-array of `arr` and reverse it. You are allowed to make any number of steps.\n",
    "\n",
    "Return True if you can make `arr` equal to `target`, or False otherwise.\n",
    "\n",
    "\n",
    "Example 1:\n",
    "```\n",
    "Input: target = [1,2,3,4], arr = [2,4,1,3]\n",
    "Output: true\n",
    "Explanation: You can follow the next steps to convert arr to target:\n",
    "1- Reverse sub-array [2,4,1], arr becomes [1,4,2,3]\n",
    "2- Reverse sub-array [4,2], arr becomes [1,2,4,3]\n",
    "3- Reverse sub-array [4,3], arr becomes [1,2,3,4]\n",
    "There are multiple ways to convert arr to target, this is not the only way to do so.\n",
    "```\n",
    "Example 2:\n",
    "```\n",
    "Input: target = [7], arr = [7]\n",
    "Output: true\n",
    "Explanation: arr is equal to target without any reverses.\n",
    "```\n",
    "Example 3:\n",
    "```\n",
    "Input: target = [1,12], arr = [12,1]\n",
    "Output: true\n",
    "```\n",
    "Example 4:\n",
    "```\n",
    "Input: target = [3,7,9], arr = [3,7,11]\n",
    "Output: false\n",
    "Explanation: arr doesn't have value 9 and it can never be converted to target.\n",
    "```\n",
    "Example 5:\n",
    "```\n",
    "Input: target = [1,1,1,1,1], arr = [1,1,1,1,1]\n",
    "Output: true\n",
    "```\n",
    "Constraints:\n",
    "```\n",
    "target.length == arr.length\n",
    "1 <= target.length <= 1000\n",
    "1 <= target[i] <= 1000\n",
    "1 <= arr[i] <= 1000\n",
    "```"
   ]
  },
  {
   "cell_type": "code",
   "execution_count": 9,
   "metadata": {},
   "outputs": [
    {
     "data": {
      "text/plain": [
       "True"
      ]
     },
     "execution_count": 9,
     "metadata": {},
     "output_type": "execute_result"
    }
   ],
   "source": [
    "class Solution(object):\n",
    "    def canBeEqual(self, target, arr):\n",
    "        if sorted(target) == sorted(arr):\n",
    "            return True\n",
    "        else:\n",
    "            return False\n",
    "    \n",
    "o = Solution().canBeEqual([1,2,3,4],[2,4,1,3])\n",
    "o"
   ]
  },
  {
   "cell_type": "markdown",
   "metadata": {},
   "source": [
    "### Alternate solution (one-liner)"
   ]
  },
  {
   "cell_type": "code",
   "execution_count": 1,
   "metadata": {},
   "outputs": [
    {
     "data": {
      "text/plain": [
       "True"
      ]
     },
     "execution_count": 1,
     "metadata": {},
     "output_type": "execute_result"
    }
   ],
   "source": [
    "class Solution(object):\n",
    "    def canBeEqual(self, target, arr):\n",
    "        return sorted(target) == sorted(arr)\n",
    "    \n",
    "o = Solution().canBeEqual([1,2,3,4],[2,4,1,3])\n",
    "o"
   ]
  },
  {
   "cell_type": "markdown",
   "metadata": {},
   "source": [
    "## 1207) Unique Number of Occurrences\n",
    "Given an array of integers `arr`, write a function that returns `true` if and only if the number of occurrences of each value in the array is unique.\n",
    " \n",
    "\n",
    "Example 1:\n",
    "```\n",
    "Input: arr = [1,2,2,1,1,3]\n",
    "Output: true\n",
    "Explanation: The value 1 has 3 occurrences, 2 has 2 and 3 has 1. No two values have the same number of occurrences.\n",
    "```\n",
    "Example 2:\n",
    "```\n",
    "Input: arr = [1,2]\n",
    "Output: false\n",
    "```\n",
    "Example 3:\n",
    "```\n",
    "Input: arr = [-3,0,1,-3,1,1,1,-3,10,0]\n",
    "Output: true\n",
    "```\n",
    "\n",
    "Constraints:\n",
    "```\n",
    "1 <= arr.length <= 1000\n",
    "-1000 <= arr[i] <= 1000\n",
    "```"
   ]
  },
  {
   "cell_type": "code",
   "execution_count": 34,
   "metadata": {},
   "outputs": [
    {
     "data": {
      "text/plain": [
       "False"
      ]
     },
     "execution_count": 34,
     "metadata": {},
     "output_type": "execute_result"
    }
   ],
   "source": [
    "from collections import Counter\n",
    "class Solution(object):\n",
    "    def uniqueOccurrences(self, arr):\n",
    "        return len(Counter(arr).values()) == len(set(Counter(arr).values()))\n",
    "o = Solution().uniqueOccurrences([1,2])\n",
    "o"
   ]
  },
  {
   "cell_type": "markdown",
   "metadata": {},
   "source": [
    "## 1869) Longer Contiguous Segments of Ones than Zeros\n",
    "Given a binary string `s`, return `true` if the longest contiguous segment of `1`s is strictly longer than the longest contiguous segment of `0`s in `s`. Return `false` otherwise.\n",
    "\n",
    "For example, in `s = \"110100010\"` the longest contiguous segment of `1`s has length `2`, and the longest contiguous segment of `0`s has length `3`.\n",
    "Note that if there are no `0`s, then the longest contiguous segment of `0`s is considered to have length `0`. The same applies if there are no `1`s.\n",
    "\n",
    "\n",
    "Example 1:\n",
    "```\n",
    "Input: s = \"1101\"\n",
    "Output: true\n",
    "Explanation:\n",
    "The longest contiguous segment of 1s has length 2: \"1101\"\n",
    "The longest contiguous segment of 0s has length 1: \"1101\"\n",
    "The segment of 1s is longer, so return true.\n",
    "```\n",
    "Example 2:\n",
    "```\n",
    "Input: s = \"111000\"\n",
    "Output: false\n",
    "Explanation:\n",
    "The longest contiguous segment of 1s has length 3: \"111000\"\n",
    "The longest contiguous segment of 0s has length 3: \"111000\"\n",
    "The segment of 1s is not longer, so return false.\n",
    "```\n",
    "Example 3:\n",
    "```\n",
    "Input: s = \"110100010\"\n",
    "Output: false\n",
    "Explanation:\n",
    "The longest contiguous segment of 1s has length 2: \"110100010\"\n",
    "The longest contiguous segment of 0s has length 3: \"110100010\"\n",
    "The segment of 1s is not longer, so return false.\n",
    "```\n",
    "\n",
    "Constraints:\n",
    "```\n",
    "1 <= s.length <= 100\n",
    "s[i] is either '0' or '1'.\n",
    "```"
   ]
  },
  {
   "cell_type": "code",
   "execution_count": 11,
   "metadata": {},
   "outputs": [
    {
     "data": {
      "text/plain": [
       "True"
      ]
     },
     "execution_count": 11,
     "metadata": {},
     "output_type": "execute_result"
    }
   ],
   "source": [
    "class Solution(object):\n",
    "    def checkZeroOnes(self, s: str) -> bool:\n",
    "        count0 = count1 = max0 = max1 = 0\n",
    "        for c in s:\n",
    "            if c == '0':\n",
    "                count1 = 0\n",
    "                count0 += 1\n",
    "                max0 = max(max0, count0)\n",
    "            else:\n",
    "                count0 = 0\n",
    "                count1 += 1\n",
    "                max1 = max(max1, count1)\n",
    "        return (max1 > max0)\n",
    "    \n",
    "o = Solution().checkZeroOnes(\"1101\")\n",
    "o"
   ]
  },
  {
   "cell_type": "markdown",
   "metadata": {},
   "source": [
    "## 1) Two Sum\n",
    "Given an array of integers `nums` and an integer `target`, return indices of the two numbers such that they add up to `target`.\n",
    "\n",
    "You may assume that each input would have exactly one solution, and you may not use the same element twice.\n",
    "\n",
    "You can return the answer in any order.\n",
    "\n",
    "Example 1:\n",
    "```\n",
    "Input: nums = [2,7,11,15], target = 9\n",
    "Output: [0,1]\n",
    "Output: Because nums[0] + nums[1] == 9, we return [0, 1].\n",
    "```\n",
    "Example 2:\n",
    "```\n",
    "Input: nums = [3,2,4], target = 6\n",
    "Output: [1,2]\n",
    "```\n",
    "Example 3:\n",
    "```\n",
    "Input: nums = [3,3], target = 6\n",
    "Output: [0,1]\n",
    "```\n",
    "\n",
    "Constraints:\n",
    "```\n",
    "2 <= nums.length <= 104\n",
    "-109 <= nums[i] <= 109\n",
    "-109 <= target <= 109\n",
    "Only one valid answer exists.\n",
    "```\n",
    "\n",
    "Follow-up: Can you come up with an algorithm that is less than `O(n2)` time complexity?"
   ]
  },
  {
   "cell_type": "code",
   "execution_count": 19,
   "metadata": {},
   "outputs": [
    {
     "data": {
      "text/plain": [
       "[0, 2]"
      ]
     },
     "execution_count": 19,
     "metadata": {},
     "output_type": "execute_result"
    }
   ],
   "source": [
    "class Solution(object):\n",
    "    def twoSum(self, nums, target):\n",
    "        dic = {}\n",
    "        for i, num in enumerate(nums):\n",
    "            if num in dic:\n",
    "                return [dic[num], i]\n",
    "            else:\n",
    "                dic[target - num] = i\n",
    "    \n",
    "o = Solution().twoSum([2,11,7,15], 9)\n",
    "o"
   ]
  },
  {
   "cell_type": "markdown",
   "metadata": {},
   "source": [
    "## 2) Add Two Numbers\n",
    "You are given two non-empty linked lists representing two non-negative integers. The digits are stored in reverse order, and each of their nodes contains a single digit. Add the two numbers and return the sum as a linked list.\n",
    "\n",
    "You may assume the two numbers do not contain any leading zero, except the number 0 itself.\n",
    "\n",
    "\n",
    "Example 1:\n",
    "![Linked List](img/linked_list.jpg)\n",
    "```\n",
    "Input: l1 = [2,4,3], l2 = [5,6,4]\n",
    "Output: [7,0,8]\n",
    "Explanation: 342 + 465 = 807.\n",
    "```\n",
    "Example 2:\n",
    "```\n",
    "Input: l1 = [0], l2 = [0]\n",
    "Output: [0]\n",
    "```\n",
    "Example 3:\n",
    "```\n",
    "Input: l1 = [9,9,9,9,9,9,9], l2 = [9,9,9,9]\n",
    "Output: [8,9,9,9,0,0,0,1]\n",
    "```\n",
    "\n",
    "Constraints:\n",
    "```\n",
    "The number of nodes in each linked list is in the range [1, 100].\n",
    "0 <= Node.val <= 9\n",
    "It is guaranteed that the list represents a number that does not have leading zeros.\n",
    "```"
   ]
  },
  {
   "cell_type": "code",
   "execution_count": 1,
   "metadata": {},
   "outputs": [],
   "source": [
    "# Definition for singly-linked list.\n",
    "# class ListNode(object):\n",
    "#     def __init__(self, val=0, next=None):\n",
    "#         self.val = val\n",
    "#         self.next = next\n",
    "class Solution(object):\n",
    "    def addTwoNumbers(self, l1, l2):\n",
    "        \"\"\"\n",
    "        :type l1: ListNode\n",
    "        :type l2: ListNode\n",
    "        :rtype: ListNode\n",
    "        \"\"\"\n",
    "        "
   ]
  },
  {
   "cell_type": "markdown",
   "metadata": {},
   "source": [
    "## 3) Longest Substring Without Repeating Characters\n",
    "Given a string `s`, find the length of the longest substring without repeating characters.\n",
    "\n",
    "\n",
    "Example 1:\n",
    "```\n",
    "Input: s = \"abcabcbb\"\n",
    "Output: 3\n",
    "Explanation: The answer is \"abc\", with the length of 3.\n",
    "```\n",
    "Example 2:\n",
    "```\n",
    "Input: s = \"bbbbb\"\n",
    "Output: 1\n",
    "Explanation: The answer is \"b\", with the length of 1.\n",
    "```\n",
    "Example 3:\n",
    "```\n",
    "Input: s = \"pwwkew\"\n",
    "Output: 3\n",
    "Explanation: The answer is \"wke\", with the length of 3.\n",
    "Notice that the answer must be a substring, \"pwke\" is a subsequence and not a substring.\n",
    "```\n",
    "Example 4:\n",
    "```\n",
    "Input: s = \"\"\n",
    "Output: 0\n",
    "```\n",
    "\n",
    "Constraints:\n",
    "```\n",
    "0 <= s.length <= 5 * 104\n",
    "s consists of English letters, digits, symbols and spaces.\n",
    "```"
   ]
  },
  {
   "cell_type": "code",
   "execution_count": 39,
   "metadata": {},
   "outputs": [
    {
     "data": {
      "text/plain": [
       "3"
      ]
     },
     "execution_count": 39,
     "metadata": {},
     "output_type": "execute_result"
    }
   ],
   "source": [
    "class Solution:\n",
    "    def lengthOfLongestSubstring(self, s):\n",
    "        unique=\"\"\n",
    "        a=0\n",
    "        for c in s:\n",
    "            if c not in unique:\n",
    "                unique+=c\n",
    "            else:\n",
    "                unique = unique[unique.index(c)+1:]+c\n",
    "            a = max(a,len(unique))\n",
    "        return a\n",
    "                \n",
    "    \n",
    "o = Solution().lengthOfLongestSubstring(\"abcabcbb\")\n",
    "o"
   ]
  },
  {
   "cell_type": "markdown",
   "metadata": {},
   "source": [
    "## 5) Longest Palindromic Substring\n",
    "Given a string `s`, return the longest palindromic substring in `s`.\n",
    "\n",
    "Example 1:\n",
    "```\n",
    "Input: s = \"babad\"\n",
    "Output: \"bab\"\n",
    "Note: \"aba\" is also a valid answer.\n",
    "```\n",
    "Example 2:\n",
    "```\n",
    "Input: s = \"cbbd\"\n",
    "Output: \"bb\"\n",
    "```\n",
    "Example 3:\n",
    "```\n",
    "Input: s = \"a\"\n",
    "Output: \"a\"\n",
    "```\n",
    "Example 4:\n",
    "```\n",
    "Input: s = \"ac\"\n",
    "Output: \"a\"\n",
    "```\n",
    "\n",
    "Constraints:\n",
    "```\n",
    "1 <= s.length <= 1000\n",
    "s consist of only digits and English letters (lower-case and/or upper-case),\n",
    "```"
   ]
  },
  {
   "cell_type": "code",
   "execution_count": 53,
   "metadata": {},
   "outputs": [],
   "source": [
    "class Solution(object):\n",
    "    def longestPalindrome(self, s):\n",
    "        \"\"\"\n",
    "        :type s: str\n",
    "        :rtype: str\n",
    "        \"\"\"\n",
    "        pass\n",
    "    \n",
    "o = Solution().longestPalindrome(\"aaabaaabb\")\n",
    "o"
   ]
  },
  {
   "cell_type": "markdown",
   "metadata": {},
   "source": [
    "## 7) Reverse Integer\n",
    "Given a signed 32-bit integer `x`, return `x` with its digits reversed. If reversing `x` causes the value to go outside the signed 32-bit integer range `[-2^31, 2^31 - 1]`, then return `0`.\n",
    "\n",
    "Assume the environment does not allow you to store 64-bit integers (signed or unsigned).\n",
    "\n",
    "\n",
    "Example 1:\n",
    "```\n",
    "Input: x = 123\n",
    "Output: 321\n",
    "```\n",
    "Example 2:\n",
    "```\n",
    "Input: x = -123\n",
    "Output: -321\n",
    "```\n",
    "Example 3:\n",
    "```\n",
    "Input: x = 120\n",
    "Output: 21\n",
    "```\n",
    "Example 4:\n",
    "```\n",
    "Input: x = 0\n",
    "Output: 0\n",
    "```\n",
    "Constraints:\n",
    "```\n",
    "-231 <= x <= 231 - 1\n",
    "```"
   ]
  },
  {
   "cell_type": "code",
   "execution_count": 22,
   "metadata": {},
   "outputs": [
    {
     "data": {
      "text/plain": [
       "-321"
      ]
     },
     "execution_count": 22,
     "metadata": {},
     "output_type": "execute_result"
    }
   ],
   "source": [
    "class Solution(object):\n",
    "    def reverse(self, x):\n",
    "        if x>=0:\n",
    "            val = int(str(x)[::-1])\n",
    "            if val<(2**31)-1:\n",
    "                return val\n",
    "            else:\n",
    "                return 0\n",
    "        else:\n",
    "            val = 0-int((str(x))[::-1][:-1])\n",
    "            if val>0-((2**31)-1):\n",
    "                return val\n",
    "            else:\n",
    "                return 0\n",
    "    \n",
    "o = Solution().reverse(-123)\n",
    "o"
   ]
  },
  {
   "cell_type": "markdown",
   "metadata": {},
   "source": [
    "## 9) Palindrome Number\n",
    "Given an integer `x`, return `true` if `x` is palindrome integer.\n",
    "\n",
    "An integer is a palindrome when it reads the same backward as forward. For example, `121` is palindrome while `123` is not.\n",
    "\n",
    "Example 1:\n",
    "```\n",
    "Input: x = 121\n",
    "Output: true\n",
    "```\n",
    "Example 2:\n",
    "```\n",
    "Input: x = -121\n",
    "Output: false\n",
    "Explanation: From left to right, it reads -121. From right to left, it becomes 121-. Therefore it is not a palindrome.\n",
    "```\n",
    "Example 3:\n",
    "```\n",
    "Input: x = 10\n",
    "Output: false\n",
    "Explanation: Reads 01 from right to left. Therefore it is not a palindrome.\n",
    "```\n",
    "Example 4:\n",
    "```\n",
    "Input: x = -101\n",
    "Output: false\n",
    "```\n",
    "\n",
    "Constraints:\n",
    "```\n",
    "-231 <= x <= 231 - 1\n",
    "```"
   ]
  },
  {
   "cell_type": "code",
   "execution_count": 2,
   "metadata": {},
   "outputs": [
    {
     "data": {
      "text/plain": [
       "True"
      ]
     },
     "execution_count": 2,
     "metadata": {},
     "output_type": "execute_result"
    }
   ],
   "source": [
    "class Solution(object):\n",
    "    def isPalindrome(self, x):\n",
    "        return str(x) == str(x)[::-1]\n",
    "    \n",
    "o = Solution().isPalindrome(121)\n",
    "o"
   ]
  },
  {
   "cell_type": "markdown",
   "metadata": {},
   "source": [
    "## 58) Length of Last Word\n",
    "Given a string `s` consists of some words separated by spaces, return the length of the last word in the string. If the last word does not exist, return `0`.\n",
    "\n",
    "A word is a maximal substring consisting of non-space characters only. \n",
    "\n",
    "Example 1:\n",
    "```\n",
    "Input: s = \"Hello World\"\n",
    "Output: 5\n",
    "```\n",
    "Example 2:\n",
    "```\n",
    "Input: s = \" \"\n",
    "Output: 0\n",
    "```\n",
    "\n",
    "Constraints:\n",
    "```\n",
    "1 <= s.length <= 104\n",
    "s consists of only English letters and spaces ' '\n",
    "```"
   ]
  },
  {
   "cell_type": "code",
   "execution_count": 30,
   "metadata": {},
   "outputs": [],
   "source": [
    "class Solution(object):\n",
    "    def lengthOfLastWord(self, s):\n",
    "        word = s.split()\n",
    "        if word:\n",
    "            return len(word[-1])\n",
    "        return 0"
   ]
  },
  {
   "cell_type": "markdown",
   "metadata": {},
   "source": [
    "## 70) Climbing Stairs\n",
    "You are climbing a staircase. It takes `n` steps to reach the top.\n",
    "\n",
    "Each time you can either climb `1` or `2` steps. In how many distinct ways can you climb to the top?\n",
    "\n",
    "\n",
    "Example 1:\n",
    "```\n",
    "Input: n = 2\n",
    "Output: 2\n",
    "Explanation: There are two ways to climb to the top.\n",
    "1. 1 step + 1 step  \n",
    "2. 2 steps\n",
    "```\n",
    "Example 2:\n",
    "```\n",
    "Input: n = 3\n",
    "Output: 3\n",
    "Explanation: There are three ways to climb to the top.\n",
    "1. 1 step + 1 step + 1 step  \n",
    "2. 1 step + 2 steps  \n",
    "3. 2 steps + 1 step\n",
    "```\n",
    "\n",
    "Constraints:\n",
    "```\n",
    "1 <= n <= 45\n",
    "```"
   ]
  },
  {
   "cell_type": "code",
   "execution_count": 13,
   "metadata": {},
   "outputs": [
    {
     "data": {
      "text/plain": [
       "63245986"
      ]
     },
     "execution_count": 13,
     "metadata": {},
     "output_type": "execute_result"
    }
   ],
   "source": [
    "class Solution(object):\n",
    "    def climbStairs(self, n):\n",
    "        a, b = 1, 1\n",
    "        for i in range(n):\n",
    "            a, b = b, a + b\n",
    "        return a\n",
    "    \n",
    "o = Solution().climbStairs(38)\n",
    "o"
   ]
  },
  {
   "cell_type": "markdown",
   "metadata": {},
   "source": [
    "## 242) Valid Anagram\n",
    "\n",
    "Given two strings `s` and `t`, return `true` if `t` is an anagram of `s`, and `false` otherwise.\n",
    "\n",
    "Example 1:\n",
    "```\n",
    "Input: s = \"anagram\", t = \"nagaram\"\n",
    "Output: true\n",
    "```\n",
    "Example 2:\n",
    "```\n",
    "Input: s = \"rat\", t = \"car\"\n",
    "Output: false\n",
    "```\n",
    "\n",
    "Constraints:\n",
    "```\n",
    "1 <= s.length, t.length <= 5 * 104\n",
    "s and t consist of lowercase English letters.\n",
    "```\n",
    "\n",
    "Follow up: What if the inputs contain Unicode characters? How would you adapt your solution to such a case?"
   ]
  },
  {
   "cell_type": "code",
   "execution_count": 16,
   "metadata": {},
   "outputs": [
    {
     "data": {
      "text/plain": [
       "True"
      ]
     },
     "execution_count": 16,
     "metadata": {},
     "output_type": "execute_result"
    }
   ],
   "source": [
    "from collections import Counter\n",
    "class Solution(object):\n",
    "    def isAnagram(self, s, t):\n",
    "        return Counter(s) == Counter(t)\n",
    "    \n",
    "o = Solution().isAnagram(\"anagram\", \"nagaram\")\n",
    "o"
   ]
  },
  {
   "cell_type": "markdown",
   "metadata": {},
   "source": [
    "## 14) Longest Common Prefix\n",
    "Write a function to find the longest common prefix string amongst an array of strings.\n",
    "\n",
    "If there is no common prefix, return an empty string `\"\"`.\n",
    "\n",
    "\n",
    "Example 1:\n",
    "```\n",
    "Input: strs = [\"flower\",\"flow\",\"flight\"]\n",
    "Output: \"fl\"\n",
    "```\n",
    "Example 2:\n",
    "```\n",
    "Input: strs = [\"dog\",\"racecar\",\"car\"]\n",
    "Output: \"\"\n",
    "Explanation: There is no common prefix among the input strings.\n",
    "``` \n",
    "\n",
    "Constraints:\n",
    "```\n",
    "1 <= strs.length <= 200\n",
    "0 <= strs[i].length <= 200\n",
    "strs[i] consists of only lower-case English letters.\n",
    "```"
   ]
  },
  {
   "cell_type": "code",
   "execution_count": 105,
   "metadata": {},
   "outputs": [
    {
     "data": {
      "text/plain": [
       "'fl'"
      ]
     },
     "execution_count": 105,
     "metadata": {},
     "output_type": "execute_result"
    }
   ],
   "source": [
    "class Solution(object):\n",
    "    def longestCommonPrefix(self, strs):\n",
    "        a = []\n",
    "        i=0\n",
    "        min_str = min(len(string) for string in strs)\n",
    "        x=\"\"\n",
    "        length = len(strs)\n",
    "        for i in range(0,min_str):\n",
    "            for each in strs:\n",
    "                a.append(each[i])\n",
    "        for i in range(length,len(a)+1,length):\n",
    "            if len(set(a[i-length:i])) == 1:\n",
    "                x+=a[i-length]\n",
    "            else:\n",
    "                break\n",
    "        return x\n",
    "    \n",
    "o = Solution().longestCommonPrefix([\"flower\",\"flow\",\"flight\"])\n",
    "o"
   ]
  },
  {
   "cell_type": "markdown",
   "metadata": {},
   "source": [
    "# 11) Container With Most Water\n",
    "Given `n` non-negative integers `a1, a2, ..., an` , where each represents a point at coordinate `(i, ai)`. `n` vertical lines are drawn such that the two endpoints of the line `i` is at `(i, ai)` and `(i, 0)`. Find two lines, which, together with the x-axis forms a container, such that the container contains the most water.\n",
    "\n",
    "Notice that you may not slant the container.\n",
    "\n",
    "![Container](img/container.jpg)\n",
    "\n",
    "Example 1:\n",
    "\n",
    "```\n",
    "Input: height = [1,8,6,2,5,4,8,3,7]\n",
    "Output: 49\n",
    "Explanation: The above vertical lines are represented by array [1,8,6,2,5,4,8,3,7]. In this case, the max area of water (blue section) the container can contain is 49.\n",
    "```\n",
    "Example 2:\n",
    "```\n",
    "Input: height = [1,1]\n",
    "Output: 1\n",
    "```\n",
    "Example 3:\n",
    "```\n",
    "Input: height = [4,3,2,1,4]\n",
    "Output: 16\n",
    "```\n",
    "Example 4:\n",
    "```\n",
    "Input: height = [1,2,1]\n",
    "Output: 2\n",
    "```\n",
    "\n",
    "Constraints:\n",
    "```\n",
    "n == height.length\n",
    "2 <= n <= 105\n",
    "0 <= height[i] <= 104\n",
    "```"
   ]
  },
  {
   "cell_type": "code",
   "execution_count": 24,
   "metadata": {},
   "outputs": [
    {
     "data": {
      "text/plain": [
       "49"
      ]
     },
     "execution_count": 24,
     "metadata": {},
     "output_type": "execute_result"
    }
   ],
   "source": [
    "class Solution(object):\n",
    "    def maxArea(self, height):\n",
    "        left = 0\n",
    "        right = len(height)-1\n",
    "        max_area = 0\n",
    "        while left<right:\n",
    "            max_area = max(min(height[left],height[right]) * (right-left),max_area)\n",
    "            if height[left]<height[right]:\n",
    "                left+=1\n",
    "            else:\n",
    "                right-=1\n",
    "        return max_area\n",
    "\n",
    "    \n",
    "o = Solution().maxArea([1,8,6,2,5,4,8,3,7])\n",
    "o"
   ]
  },
  {
   "cell_type": "markdown",
   "metadata": {},
   "source": [
    "## 13) Roman to Integers\n",
    "Roman numerals are represented by seven different symbols: `I`, `V`, `X`, `L`, `C`, `D` and `M`.\n",
    "```\n",
    "Symbol       Value\n",
    "I             1\n",
    "V             5\n",
    "X             10\n",
    "L             50\n",
    "C             100\n",
    "D             500\n",
    "M             1000\n",
    "```\n",
    "For example, `2` is written as `II` in Roman numeral, just two one's added together. `12` is written as `XII`, which is simply `X + II`. The number `27` is written as `XXVII`, which is `XX + V + II`.\n",
    "\n",
    "Roman numerals are usually written largest to smallest from left to right. However, the numeral for four is not `IIII`. Instead, the number four is written as `IV`. Because the one is before the five we subtract it making four. The same principle applies to the number nine, which is written as `IX`. There are six instances where subtraction is used:\n",
    "\n",
    "`I` can be placed before `V` (5) and `X` (10) to make 4 and 9. \n",
    "`X` can be placed before `L` (50) and `C` (100) to make 40 and 90. \n",
    "`C` can be placed before `D` (500) and `M` (1000) to make 400 and 900.\n",
    "Given a roman numeral, convert it to an integer.\n",
    "\n",
    " \n",
    "Example 1:\n",
    "```\n",
    "Input: s = \"III\"\n",
    "Output: 3\n",
    "```\n",
    "Example 2:\n",
    "```\n",
    "Input: s = \"IV\"\n",
    "Output: 4\n",
    "```\n",
    "Example 3:\n",
    "```\n",
    "Input: s = \"IX\"\n",
    "Output: 9\n",
    "```\n",
    "Example 4:\n",
    "```\n",
    "Input: s = \"LVIII\"\n",
    "Output: 58\n",
    "Explanation: L = 50, V= 5, III = 3.\n",
    "```\n",
    "Example 5:\n",
    "```\n",
    "Input: s = \"MCMXCIV\"\n",
    "Output: 1994\n",
    "Explanation: M = 1000, CM = 900, XC = 90 and IV = 4.\n",
    "```\n",
    "\n",
    "Constraints:\n",
    "```\n",
    "1 <= s.length <= 15\n",
    "s contains only the characters ('I', 'V', 'X', 'L', 'C', 'D', 'M').\n",
    "It is guaranteed that s is a valid roman numeral in the range [1, 3999].\n",
    "```"
   ]
  },
  {
   "cell_type": "code",
   "execution_count": 3,
   "metadata": {},
   "outputs": [
    {
     "data": {
      "text/plain": [
       "4"
      ]
     },
     "execution_count": 3,
     "metadata": {},
     "output_type": "execute_result"
    }
   ],
   "source": [
    "class Solution(object):\n",
    "    def romanToInt(self, s):\n",
    "        roman_dict = {'I':1,'V':5,'X':10,'L':50,'C':100,'D':500,'M':1000}\n",
    "        res = 0\n",
    "        for i in range(0,len(s)-1):\n",
    "            if roman_dict[s[i]] < roman_dict[s[i+1]]:\n",
    "                res-= roman_dict[s[i]]\n",
    "            else:\n",
    "                res+= roman_dict[s[i]]\n",
    "        return res+roman_dict[s[-1]]\n",
    "    \n",
    "o = Solution().romanToInt(\"IV\")\n",
    "o"
   ]
  },
  {
   "cell_type": "markdown",
   "metadata": {},
   "source": [
    "## 136) Single Number\n",
    "Given a non-empty array of integers `nums`, every element appears twice except for one. Find that single one.\n",
    "\n",
    "You must implement a solution with a linear runtime complexity and use only constant extra space.\n",
    "\n",
    "\n",
    "Example 1:\n",
    "```\n",
    "Input: nums = [2,2,1]\n",
    "Output: 1\n",
    "```\n",
    "Example 2:\n",
    "```\n",
    "Input: nums = [4,1,2,1,2]\n",
    "Output: 4\n",
    "```\n",
    "Example 3:\n",
    "```\n",
    "Input: nums = [1]\n",
    "Output: 1\n",
    "```\n",
    "\n",
    "Constraints:\n",
    "```\n",
    "1 <= nums.length <= 3 * 104\n",
    "-3 * 104 <= nums[i] <= 3 * 104\n",
    "Each element in the array appears twice except for one element which appears only once.\n",
    "```"
   ]
  },
  {
   "cell_type": "code",
   "execution_count": 68,
   "metadata": {},
   "outputs": [
    {
     "data": {
      "text/plain": [
       "4"
      ]
     },
     "execution_count": 68,
     "metadata": {},
     "output_type": "execute_result"
    }
   ],
   "source": [
    "class Solution(object):\n",
    "    def singleNumber(self, nums):\n",
    "        for key,val in Counter(nums).items():\n",
    "            if val==1:\n",
    "                return key\n",
    "\n",
    "o = Solution().singleNumber([4,1,2,1,2])\n",
    "o"
   ]
  },
  {
   "cell_type": "code",
   "execution_count": null,
   "metadata": {},
   "outputs": [],
   "source": []
  },
  {
   "cell_type": "code",
   "execution_count": null,
   "metadata": {},
   "outputs": [],
   "source": []
  }
 ],
 "metadata": {
  "kernelspec": {
   "display_name": "Python 3",
   "language": "python",
   "name": "python3"
  },
  "language_info": {
   "codemirror_mode": {
    "name": "ipython",
    "version": 3
   },
   "file_extension": ".py",
   "mimetype": "text/x-python",
   "name": "python",
   "nbconvert_exporter": "python",
   "pygments_lexer": "ipython3",
   "version": "3.7.6"
  }
 },
 "nbformat": 4,
 "nbformat_minor": 4
}
